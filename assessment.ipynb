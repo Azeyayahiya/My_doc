{
 "cells": [
  {
   "cell_type": "code",
   "execution_count": 1,
   "id": "fbe8aa2c-5373-4788-9d2a-b60c7aab24dc",
   "metadata": {},
   "outputs": [],
   "source": [
    "import pandas as pd"
   ]
  },
  {
   "cell_type": "code",
   "execution_count": 2,
   "id": "e51bf6ca-7776-4117-a249-4f2f8f1c82cb",
   "metadata": {},
   "outputs": [],
   "source": [
    "df1=pd.DataFrame({'id':[1,2,3],'team':['csk','mumbai indians','royal challenges']})"
   ]
  },
  {
   "cell_type": "code",
   "execution_count": 3,
   "id": "4d1fdbbc-8651-4d52-adb4-cda91b37c3c0",
   "metadata": {},
   "outputs": [
    {
     "name": "stdout",
     "output_type": "stream",
     "text": [
      "   id              team\n",
      "0   1               csk\n",
      "1   2    mumbai indians\n",
      "2   3  royal challenges\n"
     ]
    }
   ],
   "source": [
    "print(df1)"
   ]
  },
  {
   "cell_type": "code",
   "execution_count": 4,
   "id": "4b99f159-68ae-4ec9-a532-6b37649b67ff",
   "metadata": {},
   "outputs": [
    {
     "name": "stdout",
     "output_type": "stream",
     "text": [
      "   id      players\n",
      "0   1  virat kohli\n",
      "1   2        dhoni\n",
      "2   5       sachin\n"
     ]
    }
   ],
   "source": [
    "df2=pd.DataFrame({'id':[1,2,5],'players':['virat kohli','dhoni','sachin']})\n",
    "print(df2)"
   ]
  },
  {
   "cell_type": "code",
   "execution_count": 6,
   "id": "b946f457-c3b3-4bcb-90b2-96c55e844daf",
   "metadata": {},
   "outputs": [],
   "source": [
    "merged=pd.merge(df1,df2, on='id' ,how='inner')"
   ]
  },
  {
   "cell_type": "code",
   "execution_count": 7,
   "id": "b22fd7bf-33f4-4264-85d3-c4f7f15de07f",
   "metadata": {},
   "outputs": [
    {
     "name": "stdout",
     "output_type": "stream",
     "text": [
      "   id            team      players\n",
      "0   1             csk  virat kohli\n",
      "1   2  mumbai indians        dhoni\n"
     ]
    }
   ],
   "source": [
    "print(merged)"
   ]
  },
  {
   "cell_type": "code",
   "execution_count": 8,
   "id": "cb8b6c1e-59cf-4ad2-90db-7cf45bded251",
   "metadata": {},
   "outputs": [
    {
     "name": "stdout",
     "output_type": "stream",
     "text": [
      "   id              team      players\n",
      "0   1               csk  virat kohli\n",
      "1   2    mumbai indians        dhoni\n",
      "2   3  royal challenges          NaN\n"
     ]
    }
   ],
   "source": [
    "merged2=pd.merge(df1,df2, on='id',how='left')\n",
    "print(merged2)"
   ]
  },
  {
   "cell_type": "code",
   "execution_count": 9,
   "id": "c91395f9-86c6-4612-95c3-86434bf57645",
   "metadata": {},
   "outputs": [
    {
     "name": "stdout",
     "output_type": "stream",
     "text": [
      "   id            team      players\n",
      "0   1             csk  virat kohli\n",
      "1   2  mumbai indians        dhoni\n",
      "2   5             NaN       sachin\n"
     ]
    }
   ],
   "source": [
    "merged3=pd.merge(df1,df2,on='id',how='right')\n",
    "print(merged3)"
   ]
  },
  {
   "cell_type": "code",
   "execution_count": 10,
   "id": "48046736-e4ba-46f9-b4f2-a5a36e8c8dbd",
   "metadata": {},
   "outputs": [
    {
     "name": "stdout",
     "output_type": "stream",
     "text": [
      "   id              team      players\n",
      "0   1               csk  virat kohli\n",
      "1   2    mumbai indians        dhoni\n",
      "2   3  royal challenges          NaN\n",
      "3   5               NaN       sachin\n"
     ]
    }
   ],
   "source": [
    "merged4=pd.merge(df1,df2,on='id',how='outer')\n",
    "print(merged4)"
   ]
  },
  {
   "cell_type": "code",
   "execution_count": null,
   "id": "75a5c573-31ac-44e3-9ffd-bdc967baab1e",
   "metadata": {},
   "outputs": [],
   "source": []
  }
 ],
 "metadata": {
  "kernelspec": {
   "display_name": "Python 3 (ipykernel)",
   "language": "python",
   "name": "python3"
  },
  "language_info": {
   "codemirror_mode": {
    "name": "ipython",
    "version": 3
   },
   "file_extension": ".py",
   "mimetype": "text/x-python",
   "name": "python",
   "nbconvert_exporter": "python",
   "pygments_lexer": "ipython3",
   "version": "3.11.0"
  }
 },
 "nbformat": 4,
 "nbformat_minor": 5
}
