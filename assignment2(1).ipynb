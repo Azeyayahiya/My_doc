{
 "cells": [
  {
   "cell_type": "code",
   "execution_count": 1,
   "id": "22a559be-3281-486d-8227-46f6a60691c9",
   "metadata": {},
   "outputs": [
    {
     "name": "stdout",
     "output_type": "stream",
     "text": [
      "[1, 2, 9]\n",
      "[2, 3, 10]\n",
      "[3, 4, 11]\n",
      "[4, 5, 12]\n"
     ]
    }
   ],
   "source": [
    "matrix=[[col**3+row+1 for col in range(3)]for row in range(4)]\n",
    "for row in matrix:\n",
    "    print(row)\n"
   ]
  },
  {
   "cell_type": "code",
   "execution_count": 3,
   "id": "04cf6ea8-d91f-44db-8644-fe855b88d74d",
   "metadata": {},
   "outputs": [
    {
     "name": "stdout",
     "output_type": "stream",
     "text": [
      "1 2 9\n",
      "2 3 10\n",
      "3 4 11\n",
      "4 5 12\n"
     ]
    }
   ],
   "source": [
    "matrix=[[col**3+row+1 for col in range(3)]for row in range(4)]\n",
    "for row in matrix:\n",
    "    print(' '.join(map(str,row)))"
   ]
  },
  {
   "cell_type": "markdown",
   "id": "79b85102-1264-4936-8a1b-b65ebd1f952b",
   "metadata": {},
   "source": [
    "question 2 how to restore the temporarily deleted data"
   ]
  },
  {
   "cell_type": "code",
   "execution_count": 5,
   "id": "a155ea38-dc36-4b81-8bd8-a8d7f32bce3e",
   "metadata": {},
   "outputs": [
    {
     "name": "stdout",
     "output_type": "stream",
     "text": [
      "[10, 20, 40]\n"
     ]
    }
   ],
   "source": [
    "l=[10,20,30,40]\n",
    "a=l.pop(2)\n",
    "print(l)"
   ]
  },
  {
   "cell_type": "code",
   "execution_count": 6,
   "id": "d177bf5b-ee64-49bb-8c66-b7b42b5920c9",
   "metadata": {},
   "outputs": [
    {
     "name": "stdout",
     "output_type": "stream",
     "text": [
      "[10, 20, 30, 40]\n"
     ]
    }
   ],
   "source": [
    "l.insert(2,a)\n",
    "print(l)"
   ]
  },
  {
   "cell_type": "code",
   "execution_count": null,
   "id": "28fa221b-addc-418c-885f-b075d839af6e",
   "metadata": {},
   "outputs": [],
   "source": []
  }
 ],
 "metadata": {
  "kernelspec": {
   "display_name": "Python 3 (ipykernel)",
   "language": "python",
   "name": "python3"
  },
  "language_info": {
   "codemirror_mode": {
    "name": "ipython",
    "version": 3
   },
   "file_extension": ".py",
   "mimetype": "text/x-python",
   "name": "python",
   "nbconvert_exporter": "python",
   "pygments_lexer": "ipython3",
   "version": "3.11.0"
  }
 },
 "nbformat": 4,
 "nbformat_minor": 5
}
