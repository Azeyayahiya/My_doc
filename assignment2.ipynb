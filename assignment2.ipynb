{
 "cells": [
  {
   "cell_type": "code",
   "execution_count": 1,
   "id": "22a559be-3281-486d-8227-46f6a60691c9",
   "metadata": {},
   "outputs": [
    {
     "name": "stdout",
     "output_type": "stream",
     "text": [
      "[1, 2, 9]\n",
      "[2, 3, 10]\n",
      "[3, 4, 11]\n",
      "[4, 5, 12]\n"
     ]
    }
   ],
   "source": [
    "matrix=[[col**3+row+1 for col in range(3)]for row in range(4)]\n",
    "for row in matrix:\n",
    "    print(row)\n"
   ]
  },
  {
   "cell_type": "code",
   "execution_count": null,
   "id": "04cf6ea8-d91f-44db-8644-fe855b88d74d",
   "metadata": {},
   "outputs": [],
   "source": [
    "matrix=[[col**3+row+1 for col in range(3)]for row in range(4)]\n",
    "for row in matrix:\n",
    "    print(row)"
   ]
  }
 ],
 "metadata": {
  "kernelspec": {
   "display_name": "Python 3 (ipykernel)",
   "language": "python",
   "name": "python3"
  },
  "language_info": {
   "codemirror_mode": {
    "name": "ipython",
    "version": 3
   },
   "file_extension": ".py",
   "mimetype": "text/x-python",
   "name": "python",
   "nbconvert_exporter": "python",
   "pygments_lexer": "ipython3",
   "version": "3.11.0"
  }
 },
 "nbformat": 4,
 "nbformat_minor": 5
}
