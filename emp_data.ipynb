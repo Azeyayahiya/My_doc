{
  "nbformat": 4,
  "nbformat_minor": 0,
  "metadata": {
    "colab": {
      "provenance": []
    },
    "kernelspec": {
      "name": "python3",
      "display_name": "Python 3"
    },
    "language_info": {
      "name": "python"
    }
  },
  "cells": [
    {
      "cell_type": "code",
      "source": [
        "pip install pyspark"
      ],
      "metadata": {
        "colab": {
          "base_uri": "https://localhost:8080/"
        },
        "id": "EXA_kdo6bzOO",
        "outputId": "beb42719-a07a-4ca6-d629-deb2ada0d13b"
      },
      "execution_count": null,
      "outputs": [
        {
          "output_type": "stream",
          "name": "stdout",
          "text": [
            "Requirement already satisfied: pyspark in /usr/local/lib/python3.11/dist-packages (3.5.1)\n",
            "Requirement already satisfied: py4j==0.10.9.7 in /usr/local/lib/python3.11/dist-packages (from pyspark) (0.10.9.7)\n"
          ]
        }
      ]
    },
    {
      "cell_type": "code",
      "source": [
        " pip install findspark"
      ],
      "metadata": {
        "colab": {
          "base_uri": "https://localhost:8080/"
        },
        "id": "Jp5OxLVHb9Di",
        "outputId": "7e305f62-b656-405c-fbc2-f79b3748bad3"
      },
      "execution_count": null,
      "outputs": [
        {
          "output_type": "stream",
          "name": "stdout",
          "text": [
            "Collecting findspark\n",
            "  Downloading findspark-2.0.1-py2.py3-none-any.whl.metadata (352 bytes)\n",
            "Downloading findspark-2.0.1-py2.py3-none-any.whl (4.4 kB)\n",
            "Installing collected packages: findspark\n",
            "Successfully installed findspark-2.0.1\n"
          ]
        }
      ]
    },
    {
      "cell_type": "code",
      "source": [
        "from pyspark.sql import SparkSession\n",
        "spark=(SparkSession.builder.appName(\"emp\").getOrCreate())\n",
        "spark"
      ],
      "metadata": {
        "colab": {
          "base_uri": "https://localhost:8080/",
          "height": 219
        },
        "id": "l3sLHJ20cGKg",
        "outputId": "1f54aeb1-549c-4ef5-a4d4-5a5a9cd6005e"
      },
      "execution_count": null,
      "outputs": [
        {
          "output_type": "execute_result",
          "data": {
            "text/plain": [
              "<pyspark.sql.session.SparkSession at 0x7850b4ef2f90>"
            ],
            "text/html": [
              "\n",
              "            <div>\n",
              "                <p><b>SparkSession - in-memory</b></p>\n",
              "                \n",
              "        <div>\n",
              "            <p><b>SparkContext</b></p>\n",
              "\n",
              "            <p><a href=\"http://363758449d8d:4040\">Spark UI</a></p>\n",
              "\n",
              "            <dl>\n",
              "              <dt>Version</dt>\n",
              "                <dd><code>v3.5.1</code></dd>\n",
              "              <dt>Master</dt>\n",
              "                <dd><code>local[*]</code></dd>\n",
              "              <dt>AppName</dt>\n",
              "                <dd><code>emp</code></dd>\n",
              "            </dl>\n",
              "        </div>\n",
              "        \n",
              "            </div>\n",
              "        "
            ]
          },
          "metadata": {},
          "execution_count": 3
        }
      ]
    },
    {
      "cell_type": "code",
      "execution_count": null,
      "metadata": {
        "id": "yv_6jEweZ6sK"
      },
      "outputs": [],
      "source": [
        "emp_data=[\n",
        "    [\"001\",\"100\",\"john\",\"20\",\"male\",\"50000\",\"2015-01-01\"],\n",
        "    [\"002\",\"101\",\"jane\",\"23\",\"female\",\"60000\",\"2015-11-01\"],\n",
        "    [\"003\",\"102\",\"alice\",\"10\",\"female\",\"2000\",\"2000-01-01\"],\n",
        "    [\"004\",\"103\",\"any\",\"19\",\"male\",\"25000\",\"2014-02-02\"],\n",
        "    [\"005\",\"104\",\"james\",\"29\",\"female\",\"10000\",\"2005-01-01\"],\n",
        "    [\"006\",\"105\",\"amina\",\"60\",\"female\",\"50000\",\"2015-01-01\"]]"
      ]
    },
    {
      "cell_type": "markdown",
      "source": [],
      "metadata": {
        "id": "Aign6vavbv0e"
      }
    },
    {
      "cell_type": "code",
      "source": [
        "columns=\"emp_id string,dep_id string,name string,age string,gender string,salary string,hire_date string\""
      ],
      "metadata": {
        "id": "I1ZStPTUbaiW"
      },
      "execution_count": null,
      "outputs": []
    },
    {
      "cell_type": "code",
      "source": [
        "emp=spark.createDataFrame(data=emp_data,schema=columns)"
      ],
      "metadata": {
        "id": "2cD3Eybnbwbb"
      },
      "execution_count": null,
      "outputs": []
    },
    {
      "cell_type": "code",
      "source": [
        "emp.printSchema()"
      ],
      "metadata": {
        "colab": {
          "base_uri": "https://localhost:8080/"
        },
        "id": "BLaJ0cWyc86b",
        "outputId": "b82e485d-b1f7-4de9-d9f4-d0322487fdd5"
      },
      "execution_count": null,
      "outputs": [
        {
          "output_type": "stream",
          "name": "stdout",
          "text": [
            "root\n",
            " |-- emp_id: string (nullable = true)\n",
            " |-- dep_id: string (nullable = true)\n",
            " |-- name: string (nullable = true)\n",
            " |-- age: string (nullable = true)\n",
            " |-- gender: string (nullable = true)\n",
            " |-- salary: string (nullable = true)\n",
            " |-- hire_date: string (nullable = true)\n",
            "\n"
          ]
        }
      ]
    },
    {
      "cell_type": "code",
      "source": [
        "emp.show()"
      ],
      "metadata": {
        "colab": {
          "base_uri": "https://localhost:8080/"
        },
        "id": "N8RPnxaedGzi",
        "outputId": "78b6a922-d27b-498b-eabe-49fa465bc5a0"
      },
      "execution_count": null,
      "outputs": [
        {
          "output_type": "stream",
          "name": "stdout",
          "text": [
            "+------+------+-----+---+------+------+----------+\n",
            "|emp_id|dep_id| name|age|gender|salary| hire_date|\n",
            "+------+------+-----+---+------+------+----------+\n",
            "|   001|   100| john| 20|  male| 50000|2015-01-01|\n",
            "|   002|   101| jane| 23|female| 60000|2015-11-01|\n",
            "|   003|   102|alice| 10|female|  2000|2000-01-01|\n",
            "|   004|   103|  any| 19|  male| 25000|2014-02-02|\n",
            "|   005|   104|james| 29|female| 10000|2005-01-01|\n",
            "|   006|   105|amina| 60|female| 50000|2015-01-01|\n",
            "+------+------+-----+---+------+------+----------+\n",
            "\n"
          ]
        }
      ]
    },
    {
      "cell_type": "markdown",
      "source": [
        "define the schema"
      ],
      "metadata": {
        "id": "pIVCLLfuHgxg"
      }
    },
    {
      "cell_type": "code",
      "source": [
        "from pyspark.sql.types import StructType,StructField,StringType,IntegerType"
      ],
      "metadata": {
        "id": "5VJo0lfPdLl5"
      },
      "execution_count": null,
      "outputs": []
    },
    {
      "cell_type": "code",
      "source": [
        "schema=StructType([StructField(\"name\",StringType(),nullable=False),\n",
        "                   StructField(\"age\",IntegerType(),nullable=False),\n",
        "                   StructField(\"city\",StringType(),nullable=True)\n",
        "                   ])"
      ],
      "metadata": {
        "id": "ZhHgcjD1HmSd"
      },
      "execution_count": null,
      "outputs": []
    },
    {
      "cell_type": "markdown",
      "source": [
        "creating another dataframe to show how to make nullable true to false\n"
      ],
      "metadata": {
        "id": "WPK94aE5MGqd"
      }
    },
    {
      "cell_type": "code",
      "source": [
        "data=[(\"alice\",25,\"newyork\"),\n",
        "      (\"bob\",20,\"los angeline\")]"
      ],
      "metadata": {
        "id": "AS5vkFZpIJTJ"
      },
      "execution_count": null,
      "outputs": []
    },
    {
      "cell_type": "markdown",
      "source": [],
      "metadata": {
        "id": "0DivDNL3J16s"
      }
    },
    {
      "cell_type": "markdown",
      "source": [
        "creating the table using spark with manually defined schema\n"
      ],
      "metadata": {
        "id": "Hf6ME4xxJ4Lq"
      }
    },
    {
      "cell_type": "markdown",
      "source": [
        "how to make the nullable true\n"
      ],
      "metadata": {
        "id": "f1wKlqT5KHSy"
      }
    },
    {
      "cell_type": "code",
      "source": [
        "dummy_data=spark.createDataFrame(data,schema)\n",
        "dummy_data.printSchema()"
      ],
      "metadata": {
        "colab": {
          "base_uri": "https://localhost:8080/"
        },
        "id": "RMSpyV29If1b",
        "outputId": "563b401f-9f57-4407-f868-b0b375f861c6"
      },
      "execution_count": null,
      "outputs": [
        {
          "output_type": "stream",
          "name": "stdout",
          "text": [
            "root\n",
            " |-- name: string (nullable = false)\n",
            " |-- age: integer (nullable = false)\n",
            " |-- city: string (nullable = true)\n",
            "\n"
          ]
        }
      ]
    },
    {
      "cell_type": "code",
      "source": [
        "dummy_data.show()"
      ],
      "metadata": {
        "colab": {
          "base_uri": "https://localhost:8080/"
        },
        "id": "U0aQynWdJbSM",
        "outputId": "dc0529df-5d5a-4351-ba07-c589bab3f57c"
      },
      "execution_count": null,
      "outputs": [
        {
          "output_type": "stream",
          "name": "stdout",
          "text": [
            "+-----+---+------------+\n",
            "| name|age|        city|\n",
            "+-----+---+------------+\n",
            "|alice| 25|     newyork|\n",
            "|  bob| 20|los angeline|\n",
            "+-----+---+------------+\n",
            "\n"
          ]
        }
      ]
    },
    {
      "cell_type": "markdown",
      "source": [
        "to show the top data"
      ],
      "metadata": {
        "id": "C4UsRGd4KPc_"
      }
    },
    {
      "cell_type": "code",
      "source": [
        "emp.show(5)"
      ],
      "metadata": {
        "colab": {
          "base_uri": "https://localhost:8080/"
        },
        "id": "YceypYBEJhJa",
        "outputId": "9f98ef15-503e-4332-de3f-55b79211b6f5"
      },
      "execution_count": null,
      "outputs": [
        {
          "output_type": "stream",
          "name": "stdout",
          "text": [
            "+------+------+-----+---+------+------+----------+\n",
            "|emp_id|dep_id| name|age|gender|salary| hire_date|\n",
            "+------+------+-----+---+------+------+----------+\n",
            "|   001|   100| john| 20|  male| 50000|2015-01-01|\n",
            "|   002|   101| jane| 23|female| 60000|2015-11-01|\n",
            "|   003|   102|alice| 10|female|  2000|2000-01-01|\n",
            "|   004|   103|  any| 19|  male| 25000|2014-02-02|\n",
            "|   005|   104|james| 29|female| 10000|2005-01-01|\n",
            "+------+------+-----+---+------+------+----------+\n",
            "only showing top 5 rows\n",
            "\n"
          ]
        }
      ]
    },
    {
      "cell_type": "markdown",
      "source": [
        "particular column"
      ],
      "metadata": {
        "id": "YtKWfZsvKSIj"
      }
    },
    {
      "cell_type": "code",
      "source": [
        "emp.select(\"name\",\"age\").show(5)"
      ],
      "metadata": {
        "colab": {
          "base_uri": "https://localhost:8080/"
        },
        "id": "3ZJMiee8JytM",
        "outputId": "a0107d8f-a758-4619-d3e7-311e3b283ae3"
      },
      "execution_count": null,
      "outputs": [
        {
          "output_type": "stream",
          "name": "stdout",
          "text": [
            "+-----+---+\n",
            "| name|age|\n",
            "+-----+---+\n",
            "| john| 20|\n",
            "| jane| 23|\n",
            "|alice| 10|\n",
            "|  any| 19|\n",
            "|james| 29|\n",
            "+-----+---+\n",
            "only showing top 5 rows\n",
            "\n"
          ]
        }
      ]
    },
    {
      "cell_type": "markdown",
      "source": [],
      "metadata": {
        "id": "g1oVnd-lK4tE"
      }
    },
    {
      "cell_type": "markdown",
      "source": [
        "filter to get emp age greater than 30"
      ],
      "metadata": {
        "id": "JfMOWS2xLgSV"
      }
    },
    {
      "cell_type": "code",
      "source": [
        "emp.filter(emp.age>30).show()"
      ],
      "metadata": {
        "colab": {
          "base_uri": "https://localhost:8080/"
        },
        "id": "ojX8GkLsKd9a",
        "outputId": "4a649c80-09ec-4800-c1d8-7a5519b47773"
      },
      "execution_count": null,
      "outputs": [
        {
          "output_type": "stream",
          "name": "stdout",
          "text": [
            "+------+------+-----+---+------+------+----------+\n",
            "|emp_id|dep_id| name|age|gender|salary| hire_date|\n",
            "+------+------+-----+---+------+------+----------+\n",
            "|   006|   105|amina| 60|female| 50000|2015-01-01|\n",
            "+------+------+-----+---+------+------+----------+\n",
            "\n"
          ]
        }
      ]
    },
    {
      "cell_type": "markdown",
      "source": [
        "to get in ascending order"
      ],
      "metadata": {
        "id": "X22JtUIhLpDA"
      }
    },
    {
      "cell_type": "code",
      "source": [
        "emp.orderBy(emp.salary).show()"
      ],
      "metadata": {
        "colab": {
          "base_uri": "https://localhost:8080/"
        },
        "id": "468lExq1Ld1P",
        "outputId": "33bb34ab-c953-4e8a-bfc4-2e76c1e428fa"
      },
      "execution_count": null,
      "outputs": [
        {
          "output_type": "stream",
          "name": "stdout",
          "text": [
            "+------+------+-----+---+------+------+----------+\n",
            "|emp_id|dep_id| name|age|gender|salary| hire_date|\n",
            "+------+------+-----+---+------+------+----------+\n",
            "|   005|   104|james| 29|female| 10000|2005-01-01|\n",
            "|   003|   102|alice| 10|female|  2000|2000-01-01|\n",
            "|   004|   103|  any| 19|  male| 25000|2014-02-02|\n",
            "|   001|   100| john| 20|  male| 50000|2015-01-01|\n",
            "|   006|   105|amina| 60|female| 50000|2015-01-01|\n",
            "|   002|   101| jane| 23|female| 60000|2015-11-01|\n",
            "+------+------+-----+---+------+------+----------+\n",
            "\n"
          ]
        }
      ]
    },
    {
      "cell_type": "markdown",
      "source": [
        "to show in descending order"
      ],
      "metadata": {
        "id": "L7lzNDc-MUjf"
      }
    },
    {
      "cell_type": "code",
      "source": [
        "emp.orderBy(emp.salary.desc()).show()"
      ],
      "metadata": {
        "colab": {
          "base_uri": "https://localhost:8080/"
        },
        "id": "LZRPILdqLxXH",
        "outputId": "dc3b602c-d203-4fb7-cbfa-f169e61a85d7"
      },
      "execution_count": null,
      "outputs": [
        {
          "output_type": "stream",
          "name": "stdout",
          "text": [
            "+------+------+-----+---+------+------+----------+\n",
            "|emp_id|dep_id| name|age|gender|salary| hire_date|\n",
            "+------+------+-----+---+------+------+----------+\n",
            "|   002|   101| jane| 23|female| 60000|2015-11-01|\n",
            "|   006|   105|amina| 60|female| 50000|2015-01-01|\n",
            "|   001|   100| john| 20|  male| 50000|2015-01-01|\n",
            "|   004|   103|  any| 19|  male| 25000|2014-02-02|\n",
            "|   003|   102|alice| 10|female|  2000|2000-01-01|\n",
            "|   005|   104|james| 29|female| 10000|2005-01-01|\n",
            "+------+------+-----+---+------+------+----------+\n",
            "\n"
          ]
        }
      ]
    },
    {
      "cell_type": "markdown",
      "source": [],
      "metadata": {
        "id": "7_U_5HIzMYaO"
      }
    },
    {
      "cell_type": "code",
      "source": [],
      "metadata": {
        "id": "IbVtX92hMTd6"
      },
      "execution_count": null,
      "outputs": []
    }
  ]
}