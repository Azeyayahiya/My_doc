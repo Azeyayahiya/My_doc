{
  "nbformat": 4,
  "nbformat_minor": 0,
  "metadata": {
    "colab": {
      "provenance": []
    },
    "kernelspec": {
      "name": "python3",
      "display_name": "Python 3"
    },
    "language_info": {
      "name": "python"
    }
  },
  "cells": [
    {
      "cell_type": "code",
      "source": [
        "from pyspark.sql import SparkSession\n",
        "spark=(SparkSession.builder.appName(\"data\").getOrCreate())\n",
        "spark"
      ],
      "metadata": {
        "colab": {
          "base_uri": "https://localhost:8080/",
          "height": 219
        },
        "id": "eLR8ZlXlQGcr",
        "outputId": "f271a63f-708d-4773-e19b-28750042e496"
      },
      "execution_count": null,
      "outputs": [
        {
          "output_type": "execute_result",
          "data": {
            "text/plain": [
              "<pyspark.sql.session.SparkSession at 0x7f204273f850>"
            ],
            "text/html": [
              "\n",
              "            <div>\n",
              "                <p><b>SparkSession - in-memory</b></p>\n",
              "                \n",
              "        <div>\n",
              "            <p><b>SparkContext</b></p>\n",
              "\n",
              "            <p><a href=\"http://a7c4ccb26d92:4040\">Spark UI</a></p>\n",
              "\n",
              "            <dl>\n",
              "              <dt>Version</dt>\n",
              "                <dd><code>v3.5.1</code></dd>\n",
              "              <dt>Master</dt>\n",
              "                <dd><code>local[*]</code></dd>\n",
              "              <dt>AppName</dt>\n",
              "                <dd><code>data</code></dd>\n",
              "            </dl>\n",
              "        </div>\n",
              "        \n",
              "            </div>\n",
              "        "
            ]
          },
          "metadata": {},
          "execution_count": 1
        }
      ]
    },
    {
      "cell_type": "code",
      "execution_count": null,
      "metadata": {
        "id": "fUYyaxg5QvH2",
        "colab": {
          "base_uri": "https://localhost:8080/"
        },
        "outputId": "8f901ba2-27e0-49e4-ed2a-e6a3a3856700"
      },
      "outputs": [
        {
          "output_type": "stream",
          "name": "stdout",
          "text": [
            "+------+----------+--------+--------------+--------------------+----------------+---------------+-----------------+\n",
            "|  Year|Month_Name|    Date|         State|       Vehicle_Class|Vehicle_Category|   Vehicle_Type|EV_Sales_Quantity|\n",
            "+------+----------+--------+--------------+--------------------+----------------+---------------+-----------------+\n",
            "|2014.0|       jan|1/1/2014|Andhra Pradesh|     ADAPTED VEHICLE|          Others|         Others|              0.0|\n",
            "|2014.0|       jan|1/1/2014|Andhra Pradesh|AGRICULTURAL TRACTOR|          Others|         Others|              0.0|\n",
            "|2014.0|       jan|1/1/2014|Andhra Pradesh|           AMBULANCE|          Others|         Others|              0.0|\n",
            "|2014.0|       jan|1/1/2014|Andhra Pradesh| ARTICULATED VEHICLE|          Others|         Others|              0.0|\n",
            "|2014.0|       jan|1/1/2014|Andhra Pradesh|                 BUS|             Bus|            Bus|              0.0|\n",
            "|2014.0|       jan|1/1/2014|Andhra Pradesh|            CASH VAN|          Others|         Others|              0.0|\n",
            "|2014.0|       jan|1/1/2014|Andhra Pradesh|CRANE MOUNTED VEH...|          Others|         Others|              0.0|\n",
            "|2014.0|       jan|1/1/2014|Andhra Pradesh|EDUCATIONAL INSTI...|             Bus|Institution Bus|              0.0|\n",
            "|2014.0|       jan|1/1/2014|Andhra Pradesh|EXCAVATOR (COMMER...|          Others|         Others|              0.0|\n",
            "|2014.0|       jan|1/1/2014|Andhra Pradesh|           FORK LIFT|          Others|         Others|              0.0|\n",
            "|2014.0|       jan|1/1/2014|Andhra Pradesh|       GOODS CARRIER|          Others|         Others|              0.0|\n",
            "|2014.0|       jan|1/1/2014|Andhra Pradesh|           HARVESTER|          Others|         Others|              0.0|\n",
            "|2014.0|       jan|1/1/2014|Andhra Pradesh|            MAXI CAB|          Others|         Others|              0.0|\n",
            "|2014.0|       jan|1/1/2014|Andhra Pradesh|     M-CYCLE/SCOOTER|      2-Wheelers|    2W_Personal|              1.0|\n",
            "|2014.0|       jan|1/1/2014|Andhra Pradesh|           MOTOR CAB|      4-Wheelers|      4W_Shared|              0.0|\n",
            "|2014.0|       jan|1/1/2014|Andhra Pradesh|           MOTOR CAR|      4-Wheelers|    4W_Personal|              0.0|\n",
            "|2014.0|       jan|1/1/2014|Andhra Pradesh|            OMNI BUS|             Bus|            Bus|              0.0|\n",
            "|2014.0|       jan|1/1/2014|Andhra Pradesh|PRIVATE SERVICE V...|          Others|         Others|              0.0|\n",
            "|2014.0|       jan|1/1/2014|Andhra Pradesh|    RECOVERY VEHICLE|          Others|         Others|              0.0|\n",
            "|2014.0|       jan|1/1/2014|Andhra Pradesh|THREE WHEELER (PA...|      3-Wheelers|      3W_Shared|              0.0|\n",
            "+------+----------+--------+--------------+--------------------+----------------+---------------+-----------------+\n",
            "only showing top 20 rows\n",
            "\n"
          ]
        }
      ],
      "source": [
        "ev_data=spark.read.csv('EV_Dataset.csv',header=True)\n",
        "ev_data.show()"
      ]
    },
    {
      "cell_type": "code",
      "source": [
        "df=spark.read.csv('EV_Dataset.csv',header=True,inferSchema=True)\n",
        "df.show()"
      ],
      "metadata": {
        "colab": {
          "base_uri": "https://localhost:8080/"
        },
        "id": "w7aEzGb_QQvN",
        "outputId": "571cca6a-6317-4b09-9e0b-0c6fb64b8ab2"
      },
      "execution_count": null,
      "outputs": [
        {
          "output_type": "stream",
          "name": "stdout",
          "text": [
            "+------+----------+--------+--------------+--------------------+----------------+---------------+-----------------+\n",
            "|  Year|Month_Name|    Date|         State|       Vehicle_Class|Vehicle_Category|   Vehicle_Type|EV_Sales_Quantity|\n",
            "+------+----------+--------+--------------+--------------------+----------------+---------------+-----------------+\n",
            "|2014.0|       jan|1/1/2014|Andhra Pradesh|     ADAPTED VEHICLE|          Others|         Others|              0.0|\n",
            "|2014.0|       jan|1/1/2014|Andhra Pradesh|AGRICULTURAL TRACTOR|          Others|         Others|              0.0|\n",
            "|2014.0|       jan|1/1/2014|Andhra Pradesh|           AMBULANCE|          Others|         Others|              0.0|\n",
            "|2014.0|       jan|1/1/2014|Andhra Pradesh| ARTICULATED VEHICLE|          Others|         Others|              0.0|\n",
            "|2014.0|       jan|1/1/2014|Andhra Pradesh|                 BUS|             Bus|            Bus|              0.0|\n",
            "|2014.0|       jan|1/1/2014|Andhra Pradesh|            CASH VAN|          Others|         Others|              0.0|\n",
            "|2014.0|       jan|1/1/2014|Andhra Pradesh|CRANE MOUNTED VEH...|          Others|         Others|              0.0|\n",
            "|2014.0|       jan|1/1/2014|Andhra Pradesh|EDUCATIONAL INSTI...|             Bus|Institution Bus|              0.0|\n",
            "|2014.0|       jan|1/1/2014|Andhra Pradesh|EXCAVATOR (COMMER...|          Others|         Others|              0.0|\n",
            "|2014.0|       jan|1/1/2014|Andhra Pradesh|           FORK LIFT|          Others|         Others|              0.0|\n",
            "|2014.0|       jan|1/1/2014|Andhra Pradesh|       GOODS CARRIER|          Others|         Others|              0.0|\n",
            "|2014.0|       jan|1/1/2014|Andhra Pradesh|           HARVESTER|          Others|         Others|              0.0|\n",
            "|2014.0|       jan|1/1/2014|Andhra Pradesh|            MAXI CAB|          Others|         Others|              0.0|\n",
            "|2014.0|       jan|1/1/2014|Andhra Pradesh|     M-CYCLE/SCOOTER|      2-Wheelers|    2W_Personal|              1.0|\n",
            "|2014.0|       jan|1/1/2014|Andhra Pradesh|           MOTOR CAB|      4-Wheelers|      4W_Shared|              0.0|\n",
            "|2014.0|       jan|1/1/2014|Andhra Pradesh|           MOTOR CAR|      4-Wheelers|    4W_Personal|              0.0|\n",
            "|2014.0|       jan|1/1/2014|Andhra Pradesh|            OMNI BUS|             Bus|            Bus|              0.0|\n",
            "|2014.0|       jan|1/1/2014|Andhra Pradesh|PRIVATE SERVICE V...|          Others|         Others|              0.0|\n",
            "|2014.0|       jan|1/1/2014|Andhra Pradesh|    RECOVERY VEHICLE|          Others|         Others|              0.0|\n",
            "|2014.0|       jan|1/1/2014|Andhra Pradesh|THREE WHEELER (PA...|      3-Wheelers|      3W_Shared|              0.0|\n",
            "+------+----------+--------+--------------+--------------------+----------------+---------------+-----------------+\n",
            "only showing top 20 rows\n",
            "\n"
          ]
        }
      ]
    },
    {
      "cell_type": "code",
      "source": [
        "df.printSchema()"
      ],
      "metadata": {
        "colab": {
          "base_uri": "https://localhost:8080/"
        },
        "id": "R4p3rPRyRC6R",
        "outputId": "38259eab-d0a1-4984-bba2-6d59bacd633d"
      },
      "execution_count": null,
      "outputs": [
        {
          "output_type": "stream",
          "name": "stdout",
          "text": [
            "root\n",
            " |-- Year: double (nullable = true)\n",
            " |-- Month_Name: string (nullable = true)\n",
            " |-- Date: string (nullable = true)\n",
            " |-- State: string (nullable = true)\n",
            " |-- Vehicle_Class: string (nullable = true)\n",
            " |-- Vehicle_Category: string (nullable = true)\n",
            " |-- Vehicle_Type: string (nullable = true)\n",
            " |-- EV_Sales_Quantity: double (nullable = true)\n",
            "\n"
          ]
        }
      ]
    },
    {
      "cell_type": "markdown",
      "source": [
        "load the bad records as null if the permissive is set without making it failed\n"
      ],
      "metadata": {
        "id": "dReoBVqqTWzo"
      }
    },
    {
      "cell_type": "code",
      "source": [
        "df=spark.read.csv('EV_Dataset.csv',header=True,mode=\"PERMISSIVE\")\n",
        "df.show()"
      ],
      "metadata": {
        "colab": {
          "base_uri": "https://localhost:8080/"
        },
        "id": "_yI6bzFSRIFv",
        "outputId": "4978f7e5-decb-4db5-ef1c-b36bbb09a8a0"
      },
      "execution_count": null,
      "outputs": [
        {
          "output_type": "stream",
          "name": "stdout",
          "text": [
            "+------+----------+--------+--------------+--------------------+----------------+---------------+-----------------+\n",
            "|  Year|Month_Name|    Date|         State|       Vehicle_Class|Vehicle_Category|   Vehicle_Type|EV_Sales_Quantity|\n",
            "+------+----------+--------+--------------+--------------------+----------------+---------------+-----------------+\n",
            "|2014.0|       jan|1/1/2014|Andhra Pradesh|     ADAPTED VEHICLE|          Others|         Others|              0.0|\n",
            "|2014.0|       jan|1/1/2014|Andhra Pradesh|AGRICULTURAL TRACTOR|          Others|         Others|              0.0|\n",
            "|2014.0|       jan|1/1/2014|Andhra Pradesh|           AMBULANCE|          Others|         Others|              0.0|\n",
            "|2014.0|       jan|1/1/2014|Andhra Pradesh| ARTICULATED VEHICLE|          Others|         Others|              0.0|\n",
            "|2014.0|       jan|1/1/2014|Andhra Pradesh|                 BUS|             Bus|            Bus|              0.0|\n",
            "|2014.0|       jan|1/1/2014|Andhra Pradesh|            CASH VAN|          Others|         Others|              0.0|\n",
            "|2014.0|       jan|1/1/2014|Andhra Pradesh|CRANE MOUNTED VEH...|          Others|         Others|              0.0|\n",
            "|2014.0|       jan|1/1/2014|Andhra Pradesh|EDUCATIONAL INSTI...|             Bus|Institution Bus|              0.0|\n",
            "|2014.0|       jan|1/1/2014|Andhra Pradesh|EXCAVATOR (COMMER...|          Others|         Others|              0.0|\n",
            "|2014.0|       jan|1/1/2014|Andhra Pradesh|           FORK LIFT|          Others|         Others|              0.0|\n",
            "|2014.0|       jan|1/1/2014|Andhra Pradesh|       GOODS CARRIER|          Others|         Others|              0.0|\n",
            "|2014.0|       jan|1/1/2014|Andhra Pradesh|           HARVESTER|          Others|         Others|              0.0|\n",
            "|2014.0|       jan|1/1/2014|Andhra Pradesh|            MAXI CAB|          Others|         Others|              0.0|\n",
            "|2014.0|       jan|1/1/2014|Andhra Pradesh|     M-CYCLE/SCOOTER|      2-Wheelers|    2W_Personal|              1.0|\n",
            "|2014.0|       jan|1/1/2014|Andhra Pradesh|           MOTOR CAB|      4-Wheelers|      4W_Shared|              0.0|\n",
            "|2014.0|       jan|1/1/2014|Andhra Pradesh|           MOTOR CAR|      4-Wheelers|    4W_Personal|              0.0|\n",
            "|2014.0|       jan|1/1/2014|Andhra Pradesh|            OMNI BUS|             Bus|            Bus|              0.0|\n",
            "|2014.0|       jan|1/1/2014|Andhra Pradesh|PRIVATE SERVICE V...|          Others|         Others|              0.0|\n",
            "|2014.0|       jan|1/1/2014|Andhra Pradesh|    RECOVERY VEHICLE|          Others|         Others|              0.0|\n",
            "|2014.0|       jan|1/1/2014|Andhra Pradesh|THREE WHEELER (PA...|      3-Wheelers|      3W_Shared|              0.0|\n",
            "+------+----------+--------+--------------+--------------------+----------------+---------------+-----------------+\n",
            "only showing top 20 rows\n",
            "\n"
          ]
        }
      ]
    },
    {
      "cell_type": "markdown",
      "source": [
        "drop the missing values"
      ],
      "metadata": {
        "id": "12Rt2BmYTUDl"
      }
    },
    {
      "cell_type": "code",
      "source": [
        "df=spark.read.csv('EV_Dataset.csv',header=True,mode=\"DROPMALFORMED\")\n",
        "df.show()"
      ],
      "metadata": {
        "colab": {
          "base_uri": "https://localhost:8080/"
        },
        "id": "hwmmgljgSzoU",
        "outputId": "5b6c0604-3d73-46bc-bb96-5253f91d9838"
      },
      "execution_count": null,
      "outputs": [
        {
          "output_type": "stream",
          "name": "stdout",
          "text": [
            "+------+----------+--------+--------------+--------------------+----------------+---------------+-----------------+\n",
            "|  Year|Month_Name|    Date|         State|       Vehicle_Class|Vehicle_Category|   Vehicle_Type|EV_Sales_Quantity|\n",
            "+------+----------+--------+--------------+--------------------+----------------+---------------+-----------------+\n",
            "|2014.0|       jan|1/1/2014|Andhra Pradesh|     ADAPTED VEHICLE|          Others|         Others|              0.0|\n",
            "|2014.0|       jan|1/1/2014|Andhra Pradesh|AGRICULTURAL TRACTOR|          Others|         Others|              0.0|\n",
            "|2014.0|       jan|1/1/2014|Andhra Pradesh|           AMBULANCE|          Others|         Others|              0.0|\n",
            "|2014.0|       jan|1/1/2014|Andhra Pradesh| ARTICULATED VEHICLE|          Others|         Others|              0.0|\n",
            "|2014.0|       jan|1/1/2014|Andhra Pradesh|                 BUS|             Bus|            Bus|              0.0|\n",
            "|2014.0|       jan|1/1/2014|Andhra Pradesh|            CASH VAN|          Others|         Others|              0.0|\n",
            "|2014.0|       jan|1/1/2014|Andhra Pradesh|CRANE MOUNTED VEH...|          Others|         Others|              0.0|\n",
            "|2014.0|       jan|1/1/2014|Andhra Pradesh|EDUCATIONAL INSTI...|             Bus|Institution Bus|              0.0|\n",
            "|2014.0|       jan|1/1/2014|Andhra Pradesh|EXCAVATOR (COMMER...|          Others|         Others|              0.0|\n",
            "|2014.0|       jan|1/1/2014|Andhra Pradesh|           FORK LIFT|          Others|         Others|              0.0|\n",
            "|2014.0|       jan|1/1/2014|Andhra Pradesh|       GOODS CARRIER|          Others|         Others|              0.0|\n",
            "|2014.0|       jan|1/1/2014|Andhra Pradesh|           HARVESTER|          Others|         Others|              0.0|\n",
            "|2014.0|       jan|1/1/2014|Andhra Pradesh|            MAXI CAB|          Others|         Others|              0.0|\n",
            "|2014.0|       jan|1/1/2014|Andhra Pradesh|     M-CYCLE/SCOOTER|      2-Wheelers|    2W_Personal|              1.0|\n",
            "|2014.0|       jan|1/1/2014|Andhra Pradesh|           MOTOR CAB|      4-Wheelers|      4W_Shared|              0.0|\n",
            "|2014.0|       jan|1/1/2014|Andhra Pradesh|           MOTOR CAR|      4-Wheelers|    4W_Personal|              0.0|\n",
            "|2014.0|       jan|1/1/2014|Andhra Pradesh|            OMNI BUS|             Bus|            Bus|              0.0|\n",
            "|2014.0|       jan|1/1/2014|Andhra Pradesh|PRIVATE SERVICE V...|          Others|         Others|              0.0|\n",
            "|2014.0|       jan|1/1/2014|Andhra Pradesh|    RECOVERY VEHICLE|          Others|         Others|              0.0|\n",
            "|2014.0|       jan|1/1/2014|Andhra Pradesh|THREE WHEELER (PA...|      3-Wheelers|      3W_Shared|              0.0|\n",
            "+------+----------+--------+--------------+--------------------+----------------+---------------+-----------------+\n",
            "only showing top 20 rows\n",
            "\n"
          ]
        }
      ]
    },
    {
      "cell_type": "markdown",
      "source": [
        "csv to parquet"
      ],
      "metadata": {
        "id": "SKuNi8jWV7sA"
      }
    },
    {
      "cell_type": "markdown",
      "source": [
        "parquet is in compressed format it show small size\n"
      ],
      "metadata": {
        "id": "hGGDNBQIV_KT"
      }
    },
    {
      "cell_type": "code",
      "source": [
        "ev_data.write.mode(\"overwrite\").parquet(\"EV_Dataset.parquet\")\n"
      ],
      "metadata": {
        "id": "Sg6WaFszTRdg"
      },
      "execution_count": null,
      "outputs": []
    },
    {
      "cell_type": "code",
      "source": [
        "df_parquet=spark.read.parquet(\"EV_Dataset.parquet\")\n",
        "df_parquet.show()"
      ],
      "metadata": {
        "colab": {
          "base_uri": "https://localhost:8080/"
        },
        "id": "jidKXeHLVyOw",
        "outputId": "dde9cda7-67c2-40d7-fe64-b6d88ed7fbd0"
      },
      "execution_count": null,
      "outputs": [
        {
          "output_type": "stream",
          "name": "stdout",
          "text": [
            "+------+----------+--------+--------------+--------------------+----------------+---------------+-----------------+\n",
            "|  Year|Month_Name|    Date|         State|       Vehicle_Class|Vehicle_Category|   Vehicle_Type|EV_Sales_Quantity|\n",
            "+------+----------+--------+--------------+--------------------+----------------+---------------+-----------------+\n",
            "|2014.0|       jan|1/1/2014|Andhra Pradesh|     ADAPTED VEHICLE|          Others|         Others|              0.0|\n",
            "|2014.0|       jan|1/1/2014|Andhra Pradesh|AGRICULTURAL TRACTOR|          Others|         Others|              0.0|\n",
            "|2014.0|       jan|1/1/2014|Andhra Pradesh|           AMBULANCE|          Others|         Others|              0.0|\n",
            "|2014.0|       jan|1/1/2014|Andhra Pradesh| ARTICULATED VEHICLE|          Others|         Others|              0.0|\n",
            "|2014.0|       jan|1/1/2014|Andhra Pradesh|                 BUS|             Bus|            Bus|              0.0|\n",
            "|2014.0|       jan|1/1/2014|Andhra Pradesh|            CASH VAN|          Others|         Others|              0.0|\n",
            "|2014.0|       jan|1/1/2014|Andhra Pradesh|CRANE MOUNTED VEH...|          Others|         Others|              0.0|\n",
            "|2014.0|       jan|1/1/2014|Andhra Pradesh|EDUCATIONAL INSTI...|             Bus|Institution Bus|              0.0|\n",
            "|2014.0|       jan|1/1/2014|Andhra Pradesh|EXCAVATOR (COMMER...|          Others|         Others|              0.0|\n",
            "|2014.0|       jan|1/1/2014|Andhra Pradesh|           FORK LIFT|          Others|         Others|              0.0|\n",
            "|2014.0|       jan|1/1/2014|Andhra Pradesh|       GOODS CARRIER|          Others|         Others|              0.0|\n",
            "|2014.0|       jan|1/1/2014|Andhra Pradesh|           HARVESTER|          Others|         Others|              0.0|\n",
            "|2014.0|       jan|1/1/2014|Andhra Pradesh|            MAXI CAB|          Others|         Others|              0.0|\n",
            "|2014.0|       jan|1/1/2014|Andhra Pradesh|     M-CYCLE/SCOOTER|      2-Wheelers|    2W_Personal|              1.0|\n",
            "|2014.0|       jan|1/1/2014|Andhra Pradesh|           MOTOR CAB|      4-Wheelers|      4W_Shared|              0.0|\n",
            "|2014.0|       jan|1/1/2014|Andhra Pradesh|           MOTOR CAR|      4-Wheelers|    4W_Personal|              0.0|\n",
            "|2014.0|       jan|1/1/2014|Andhra Pradesh|            OMNI BUS|             Bus|            Bus|              0.0|\n",
            "|2014.0|       jan|1/1/2014|Andhra Pradesh|PRIVATE SERVICE V...|          Others|         Others|              0.0|\n",
            "|2014.0|       jan|1/1/2014|Andhra Pradesh|    RECOVERY VEHICLE|          Others|         Others|              0.0|\n",
            "|2014.0|       jan|1/1/2014|Andhra Pradesh|THREE WHEELER (PA...|      3-Wheelers|      3W_Shared|              0.0|\n",
            "+------+----------+--------+--------------+--------------------+----------------+---------------+-----------------+\n",
            "only showing top 20 rows\n",
            "\n"
          ]
        }
      ]
    },
    {
      "cell_type": "code",
      "source": [
        "ev_data.write.orc(\"EV_Dataset.orc\",mode=\"overwrite\")"
      ],
      "metadata": {
        "id": "aONqHNFfV2pu"
      },
      "execution_count": null,
      "outputs": []
    },
    {
      "cell_type": "code",
      "source": [
        "df_orc=spark.read.orc(\"EV_Dataset.orc\")\n",
        "df_orc.show()\n",
        "df_orc.printSchema()"
      ],
      "metadata": {
        "colab": {
          "base_uri": "https://localhost:8080/"
        },
        "id": "qkX0iup8ZMGM",
        "outputId": "abebf663-9f47-42db-fa84-a5ee70b1ebae"
      },
      "execution_count": null,
      "outputs": [
        {
          "output_type": "stream",
          "name": "stdout",
          "text": [
            "+------+----------+--------+--------------+--------------------+----------------+---------------+-----------------+\n",
            "|  Year|Month_Name|    Date|         State|       Vehicle_Class|Vehicle_Category|   Vehicle_Type|EV_Sales_Quantity|\n",
            "+------+----------+--------+--------------+--------------------+----------------+---------------+-----------------+\n",
            "|2014.0|       jan|1/1/2014|Andhra Pradesh|     ADAPTED VEHICLE|          Others|         Others|              0.0|\n",
            "|2014.0|       jan|1/1/2014|Andhra Pradesh|AGRICULTURAL TRACTOR|          Others|         Others|              0.0|\n",
            "|2014.0|       jan|1/1/2014|Andhra Pradesh|           AMBULANCE|          Others|         Others|              0.0|\n",
            "|2014.0|       jan|1/1/2014|Andhra Pradesh| ARTICULATED VEHICLE|          Others|         Others|              0.0|\n",
            "|2014.0|       jan|1/1/2014|Andhra Pradesh|                 BUS|             Bus|            Bus|              0.0|\n",
            "|2014.0|       jan|1/1/2014|Andhra Pradesh|            CASH VAN|          Others|         Others|              0.0|\n",
            "|2014.0|       jan|1/1/2014|Andhra Pradesh|CRANE MOUNTED VEH...|          Others|         Others|              0.0|\n",
            "|2014.0|       jan|1/1/2014|Andhra Pradesh|EDUCATIONAL INSTI...|             Bus|Institution Bus|              0.0|\n",
            "|2014.0|       jan|1/1/2014|Andhra Pradesh|EXCAVATOR (COMMER...|          Others|         Others|              0.0|\n",
            "|2014.0|       jan|1/1/2014|Andhra Pradesh|           FORK LIFT|          Others|         Others|              0.0|\n",
            "|2014.0|       jan|1/1/2014|Andhra Pradesh|       GOODS CARRIER|          Others|         Others|              0.0|\n",
            "|2014.0|       jan|1/1/2014|Andhra Pradesh|           HARVESTER|          Others|         Others|              0.0|\n",
            "|2014.0|       jan|1/1/2014|Andhra Pradesh|            MAXI CAB|          Others|         Others|              0.0|\n",
            "|2014.0|       jan|1/1/2014|Andhra Pradesh|     M-CYCLE/SCOOTER|      2-Wheelers|    2W_Personal|              1.0|\n",
            "|2014.0|       jan|1/1/2014|Andhra Pradesh|           MOTOR CAB|      4-Wheelers|      4W_Shared|              0.0|\n",
            "|2014.0|       jan|1/1/2014|Andhra Pradesh|           MOTOR CAR|      4-Wheelers|    4W_Personal|              0.0|\n",
            "|2014.0|       jan|1/1/2014|Andhra Pradesh|            OMNI BUS|             Bus|            Bus|              0.0|\n",
            "|2014.0|       jan|1/1/2014|Andhra Pradesh|PRIVATE SERVICE V...|          Others|         Others|              0.0|\n",
            "|2014.0|       jan|1/1/2014|Andhra Pradesh|    RECOVERY VEHICLE|          Others|         Others|              0.0|\n",
            "|2014.0|       jan|1/1/2014|Andhra Pradesh|THREE WHEELER (PA...|      3-Wheelers|      3W_Shared|              0.0|\n",
            "+------+----------+--------+--------------+--------------------+----------------+---------------+-----------------+\n",
            "only showing top 20 rows\n",
            "\n",
            "root\n",
            " |-- Year: string (nullable = true)\n",
            " |-- Month_Name: string (nullable = true)\n",
            " |-- Date: string (nullable = true)\n",
            " |-- State: string (nullable = true)\n",
            " |-- Vehicle_Class: string (nullable = true)\n",
            " |-- Vehicle_Category: string (nullable = true)\n",
            " |-- Vehicle_Type: string (nullable = true)\n",
            " |-- EV_Sales_Quantity: string (nullable = true)\n",
            "\n"
          ]
        }
      ]
    },
    {
      "cell_type": "markdown",
      "source": [
        "creating the json file"
      ],
      "metadata": {
        "id": "CaW5g-01aZGZ"
      }
    },
    {
      "cell_type": "markdown",
      "source": [
        "here schema is not defined it is given in the file format\n"
      ],
      "metadata": {
        "id": "MwqcQjUaaqWt"
      }
    },
    {
      "cell_type": "markdown",
      "source": [
        "creating the json file\n"
      ],
      "metadata": {
        "id": "c9nKJnQ7ckCX"
      }
    },
    {
      "cell_type": "code",
      "source": [
        "json_data=[\n",
        "    {\"employee_id\":1,\"name\":\"azeya\",\"details\":{\"department\":\"hr\",\"salary\":5000}},\n",
        "    {\"employee_id\":2,\"name\":\"devu\",\"details\":{\"department\":\"sales\",\"salary\":4000}},\n",
        "    {\"employee_id\":3,\"name\":\"charlie\",\"details\":{\"department\":\"finance\",\"salary\":6500}},\n",
        "\n",
        "]\n",
        "df_json_data=spark.createDataFrame(json_data)\n",
        "df_json_data.write.mode(\"overwrite\").json(\"employee.json\")"
      ],
      "metadata": {
        "id": "6wOEawHbZTy-"
      },
      "execution_count": null,
      "outputs": []
    },
    {
      "cell_type": "markdown",
      "source": [
        "reading the json file\n"
      ],
      "metadata": {
        "id": "rTKp_jbvcnWQ"
      }
    },
    {
      "cell_type": "code",
      "source": [
        "df_json_read=spark.read.json(\"employee.json\")\n",
        "df_json_read.show()\n",
        "df_json_read.printSchema()"
      ],
      "metadata": {
        "colab": {
          "base_uri": "https://localhost:8080/"
        },
        "id": "d4ViyaB5b76m",
        "outputId": "c8b11bd5-9d1f-4d56-eb62-954d94e5039c"
      },
      "execution_count": null,
      "outputs": [
        {
          "output_type": "stream",
          "name": "stdout",
          "text": [
            "+---------------+-----------+-------+\n",
            "|        details|employee_id|   name|\n",
            "+---------------+-----------+-------+\n",
            "|  {sales, 4000}|          2|   devu|\n",
            "|{finance, 6500}|          3|charlie|\n",
            "|     {hr, 5000}|          1|  azeya|\n",
            "+---------------+-----------+-------+\n",
            "\n",
            "root\n",
            " |-- details: struct (nullable = true)\n",
            " |    |-- department: string (nullable = true)\n",
            " |    |-- salary: string (nullable = true)\n",
            " |-- employee_id: long (nullable = true)\n",
            " |-- name: string (nullable = true)\n",
            "\n"
          ]
        }
      ]
    },
    {
      "cell_type": "code",
      "source": [
        "df_flattened=df_json_read.select(\n",
        "    \"employee_id\",\n",
        "    \"name\",\n",
        "    \"details.department\",\n",
        "    \"details.salary\"\n",
        "\n",
        ")\n",
        "df_flattened.show()"
      ],
      "metadata": {
        "colab": {
          "base_uri": "https://localhost:8080/"
        },
        "id": "m1WsmVTxcTra",
        "outputId": "c1c98960-4037-4824-ee82-1940fe562603"
      },
      "execution_count": null,
      "outputs": [
        {
          "output_type": "stream",
          "name": "stdout",
          "text": [
            "+-----------+-------+----------+------+\n",
            "|employee_id|   name|department|salary|\n",
            "+-----------+-------+----------+------+\n",
            "|          2|   devu|     sales|  4000|\n",
            "|          3|charlie|   finance|  6500|\n",
            "|          1|  azeya|        hr|  5000|\n",
            "+-----------+-------+----------+------+\n",
            "\n"
          ]
        }
      ]
    },
    {
      "cell_type": "markdown",
      "source": [
        "in json schema is predifened.more warehouse,cloud it is using,it is structured,cleaned\n"
      ],
      "metadata": {
        "id": "7-BlvJpheoAK"
      }
    },
    {
      "cell_type": "code",
      "source": [],
      "metadata": {
        "id": "AW7TDadxeFyM"
      },
      "execution_count": null,
      "outputs": []
    }
  ]
}