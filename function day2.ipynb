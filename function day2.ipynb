{
 "cells": [
  {
   "cell_type": "code",
   "execution_count": 2,
   "id": "42392d1c-13db-4a76-a7a1-854d580cacfe",
   "metadata": {},
   "outputs": [
    {
     "data": {
      "text/plain": [
       "3"
      ]
     },
     "execution_count": 2,
     "metadata": {},
     "output_type": "execute_result"
    }
   ],
   "source": [
    "def say(x,y):\n",
    "    prod=x+y\n",
    "    return prod\n",
    "say(1,2)"
   ]
  },
  {
   "cell_type": "code",
   "execution_count": 12,
   "id": "abd275ea-e8ea-4327-94f5-20839f507295",
   "metadata": {},
   "outputs": [
    {
     "ename": "SyntaxError",
     "evalue": "non-default argument follows default argument (946423349.py, line 1)",
     "output_type": "error",
     "traceback": [
      "  \u001b[36mCell\u001b[39m\u001b[36m \u001b[39m\u001b[32mIn[12]\u001b[39m\u001b[32m, line 1\u001b[39m\n\u001b[31m    \u001b[39m\u001b[31mdef say(x=1,y):\u001b[39m\n                ^\n\u001b[31mSyntaxError\u001b[39m\u001b[31m:\u001b[39m non-default argument follows default argument\n"
     ]
    }
   ],
   "source": [
    "def say(x=1,y):\n",
    "    prod=x+y\n",
    "    return prod\n",
    "say(1,2)"
   ]
  },
  {
   "cell_type": "code",
   "execution_count": 9,
   "id": "3cac2ac1-88ca-4b6e-aeca-41581a6a14d7",
   "metadata": {},
   "outputs": [
    {
     "data": {
      "text/plain": [
       "3"
      ]
     },
     "execution_count": 9,
     "metadata": {},
     "output_type": "execute_result"
    }
   ],
   "source": [
    "def say(x=1,y=1):\n",
    "    product=x+y\n",
    "    return product\n",
    "say(1,2)"
   ]
  },
  {
   "cell_type": "code",
   "execution_count": 10,
   "id": "8b6a316c-0b7b-4144-930e-418774c812cc",
   "metadata": {},
   "outputs": [
    {
     "data": {
      "text/plain": [
       "8"
      ]
     },
     "execution_count": 10,
     "metadata": {},
     "output_type": "execute_result"
    }
   ],
   "source": [
    "def saying(x,y=1,z=4):\n",
    "    p=x+y+z\n",
    "    return p\n",
    "saying(2,z=5)"
   ]
  },
  {
   "cell_type": "code",
   "execution_count": 11,
   "id": "c25cc397-0c84-49be-8650-243bdca8ec7b",
   "metadata": {},
   "outputs": [
    {
     "data": {
      "text/plain": [
       "8"
      ]
     },
     "execution_count": 11,
     "metadata": {},
     "output_type": "execute_result"
    }
   ],
   "source": [
    "def saying(x=1,y=1,z=4):\n",
    "    p=x+y+z\n",
    "    return p\n",
    "saying(2,z=5)"
   ]
  },
  {
   "cell_type": "code",
   "execution_count": 13,
   "id": "72541bc4-6b30-426d-b339-36d9cb709f90",
   "metadata": {},
   "outputs": [
    {
     "data": {
      "text/plain": [
       "8"
      ]
     },
     "execution_count": 13,
     "metadata": {},
     "output_type": "execute_result"
    }
   ],
   "source": [
    "def saying(x=1,y=1,z=4):\n",
    "    p=x+y+z\n",
    "    return p\n",
    "saying(1,2,z=5)"
   ]
  },
  {
   "cell_type": "code",
   "execution_count": 14,
   "id": "b3b848b9-aafd-42dd-9aec-9051843cb12a",
   "metadata": {},
   "outputs": [],
   "source": [
    "import os"
   ]
  },
  {
   "cell_type": "raw",
   "id": "17982548-6083-4c05-871b-eec36416b7d8",
   "metadata": {},
   "source": [
    "os.getcwd()"
   ]
  },
  {
   "cell_type": "code",
   "execution_count": 35,
   "id": "2497c494-a151-48ef-ad01-5ea5a94d98f3",
   "metadata": {},
   "outputs": [],
   "source": [
    "#writing to a file\n",
    "import os\n",
    "os.getenv(\"C:\\\\Users\\\\Administrator\")\n",
    "my_file=open(\"my3.txt\",\"w\")\n",
    "my_file.write(\"this is first module\\n\")\n",
    "\n",
    "my_file.close()\n"
   ]
  },
  {
   "cell_type": "code",
   "execution_count": 36,
   "id": "482d5294-543f-43e7-837e-4a4b02910b48",
   "metadata": {},
   "outputs": [
    {
     "data": {
      "text/plain": [
       "'this is first module\\n'"
      ]
     },
     "execution_count": 36,
     "metadata": {},
     "output_type": "execute_result"
    }
   ],
   "source": [
    "#reading to a file\n",
    "my_file=open(\"my3.txt\",\"r\")\n",
    "my_file.read()\n"
   ]
  },
  {
   "cell_type": "code",
   "execution_count": 37,
   "id": "ba07774f-e9e2-4f7e-9401-6715ba94320c",
   "metadata": {},
   "outputs": [
    {
     "data": {
      "text/plain": [
       "'s is fi'"
      ]
     },
     "execution_count": 37,
     "metadata": {},
     "output_type": "execute_result"
    }
   ],
   "source": [
    "my_file=open(\"my3.txt\",\"r\")\n",
    "my_file.read(3)\n",
    "my_file.read(7)"
   ]
  },
  {
   "cell_type": "code",
   "execution_count": 38,
   "id": "fecd8bf9-27fa-477c-bacf-7ec7f04de5d1",
   "metadata": {},
   "outputs": [
    {
     "data": {
      "text/plain": [
       "'this is'"
      ]
     },
     "execution_count": 38,
     "metadata": {},
     "output_type": "execute_result"
    }
   ],
   "source": [
    "my_file=open(\"my3.txt\",\"r\")\n",
    "my_file.read(7)"
   ]
  },
  {
   "cell_type": "code",
   "execution_count": 39,
   "id": "b932de13-bb09-4dfa-9d3c-dac0ba9ea214",
   "metadata": {},
   "outputs": [
    {
     "data": {
      "text/plain": [
       "7"
      ]
     },
     "execution_count": 39,
     "metadata": {},
     "output_type": "execute_result"
    }
   ],
   "source": [
    "my_file.tell()"
   ]
  },
  {
   "cell_type": "code",
   "execution_count": 41,
   "id": "49dba6c6-f871-4aad-a14e-b53dbcffb57c",
   "metadata": {},
   "outputs": [
    {
     "data": {
      "text/plain": [
       "2"
      ]
     },
     "execution_count": 41,
     "metadata": {},
     "output_type": "execute_result"
    }
   ],
   "source": [
    "my_file.seek(2)"
   ]
  },
  {
   "cell_type": "code",
   "execution_count": 43,
   "id": "9ff54901-6497-46f4-8185-fc594749c5a5",
   "metadata": {},
   "outputs": [],
   "source": [
    "my_file=open(\"my3.txt\",\"a\")\n",
    "my_file.write(\"hi hello world\")\n",
    "my_file.close()"
   ]
  },
  {
   "cell_type": "code",
   "execution_count": 44,
   "id": "c6c28ddb-7332-492f-8609-17ed2b893e24",
   "metadata": {},
   "outputs": [
    {
     "data": {
      "text/plain": [
       "'this is first module\\n'"
      ]
     },
     "execution_count": 44,
     "metadata": {},
     "output_type": "execute_result"
    }
   ],
   "source": [
    "my_file=open(\"my3.txt\",\"r\")\n",
    "my_file.readline()"
   ]
  },
  {
   "cell_type": "code",
   "execution_count": 45,
   "id": "7454bbf7-aa8b-4cfa-94ce-d3f529dca60f",
   "metadata": {},
   "outputs": [
    {
     "data": {
      "text/plain": [
       "'hi hello world'"
      ]
     },
     "execution_count": 45,
     "metadata": {},
     "output_type": "execute_result"
    }
   ],
   "source": [
    "my_file.readline()"
   ]
  },
  {
   "cell_type": "code",
   "execution_count": 46,
   "id": "c6e2989c-6c35-4a39-8e0d-b52d082487bb",
   "metadata": {},
   "outputs": [
    {
     "data": {
      "text/plain": [
       "['this is first module\\n', 'hi hello world']"
      ]
     },
     "execution_count": 46,
     "metadata": {},
     "output_type": "execute_result"
    }
   ],
   "source": [
    "my_file=open(\"my3.txt\",\"r\")\n",
    "my_file.readlines()"
   ]
  },
  {
   "cell_type": "code",
   "execution_count": 47,
   "id": "d874bef4-b1cb-41e5-8997-c6f1b07b8804",
   "metadata": {},
   "outputs": [
    {
     "data": {
      "text/plain": [
       "'C:\\\\Users\\\\Administrator'"
      ]
     },
     "execution_count": 47,
     "metadata": {},
     "output_type": "execute_result"
    }
   ],
   "source": [
    "os.getcwd()"
   ]
  },
  {
   "cell_type": "code",
   "execution_count": 49,
   "id": "bad23749-a5c7-47d4-8d61-91e9ec237f9f",
   "metadata": {},
   "outputs": [],
   "source": [
    "#changing th directory\n",
    "os.chdir(\"C:/Users/Administrator/Downloads\")"
   ]
  },
  {
   "cell_type": "code",
   "execution_count": 50,
   "id": "e18904c8-cfc1-4c74-9627-3084279cf7f4",
   "metadata": {},
   "outputs": [
    {
     "data": {
      "text/plain": [
       "'C:\\\\Users\\\\Administrator\\\\Downloads'"
      ]
     },
     "execution_count": 50,
     "metadata": {},
     "output_type": "execute_result"
    }
   ],
   "source": [
    "os.getcwd()"
   ]
  },
  {
   "cell_type": "code",
   "execution_count": 51,
   "id": "5d72f395-c740-47a2-8431-367126e60fd0",
   "metadata": {},
   "outputs": [
    {
     "data": {
      "text/plain": [
       "[b'desktop.ini', b'my3.txt', b'python1.ipynb']"
      ]
     },
     "execution_count": 51,
     "metadata": {},
     "output_type": "execute_result"
    }
   ],
   "source": [
    "#list of files\n",
    "os.listdir(os.getcwdb())"
   ]
  },
  {
   "cell_type": "code",
   "execution_count": 52,
   "id": "730be045-4c5d-4378-9fe2-f251d1b290ba",
   "metadata": {},
   "outputs": [],
   "source": [
    "os.mkdir('azeya')"
   ]
  },
  {
   "cell_type": "code",
   "execution_count": 53,
   "id": "29a25b4b-ff37-4b35-a27b-6a4f03db5143",
   "metadata": {},
   "outputs": [
    {
     "data": {
      "text/plain": [
       "[b'azeya', b'desktop.ini', b'my3.txt', b'python1.ipynb']"
      ]
     },
     "execution_count": 53,
     "metadata": {},
     "output_type": "execute_result"
    }
   ],
   "source": [
    "os.listdir(os.getcwdb())"
   ]
  },
  {
   "cell_type": "code",
   "execution_count": 54,
   "id": "2582afa0-8725-4c8e-9f2c-bbe6a7a9ce67",
   "metadata": {},
   "outputs": [],
   "source": [
    "os.rmdir('azeya')"
   ]
  },
  {
   "cell_type": "code",
   "execution_count": 55,
   "id": "49135cfa-fb62-4e42-816a-9741fed5884d",
   "metadata": {},
   "outputs": [
    {
     "data": {
      "text/plain": [
       "[b'desktop.ini', b'my3.txt', b'python1.ipynb']"
      ]
     },
     "execution_count": 55,
     "metadata": {},
     "output_type": "execute_result"
    }
   ],
   "source": [
    "os.listdir(os.getcwdb())"
   ]
  },
  {
   "cell_type": "code",
   "execution_count": 73,
   "id": "0da270f9-3cc3-48a1-b307-72a8a717332c",
   "metadata": {},
   "outputs": [],
   "source": [
    "os.mkdir('my_dir')"
   ]
  },
  {
   "cell_type": "code",
   "execution_count": 74,
   "id": "017be6f9-cf06-4e57-b33f-5a63c14842b7",
   "metadata": {},
   "outputs": [
    {
     "data": {
      "text/plain": [
       "[b'desktop.ini', b'my3.txt', b'my_dir', b'my_new_files', b'python1.ipynb']"
      ]
     },
     "execution_count": 74,
     "metadata": {},
     "output_type": "execute_result"
    }
   ],
   "source": [
    "os.listdir(os.getcwdb())"
   ]
  },
  {
   "cell_type": "code",
   "execution_count": 75,
   "id": "71d10cc1-2bfd-4563-9339-02cc5450724d",
   "metadata": {},
   "outputs": [
    {
     "data": {
      "text/plain": [
       "'C:\\\\Users\\\\Administrator\\\\Downloads'"
      ]
     },
     "execution_count": 75,
     "metadata": {},
     "output_type": "execute_result"
    }
   ],
   "source": [
    "os.getcwd()"
   ]
  },
  {
   "cell_type": "code",
   "execution_count": 77,
   "id": "d8db89fc-0933-49ac-bf5b-bacffb2323d6",
   "metadata": {},
   "outputs": [],
   "source": [
    "import shutil\n",
    "os.getenv(\"C:\\\\Users\\\\Administrator\\\\Downloads\\\\my_dir\")\n",
    "os.chdir(\"C:\\\\Users\\\\Administrator\\\\Downloads\\\\my_dir\")\n",
    "my_new_dir_file=open(\"my_new_files\",\"w\")\n",
    "my_new_dir_file.write(\"hi new file\\n\")\n",
    "my_new_dir_file.close()"
   ]
  },
  {
   "cell_type": "code",
   "execution_count": 78,
   "id": "6314d365-3d16-433a-8441-f600f1ae5b26",
   "metadata": {},
   "outputs": [
    {
     "data": {
      "text/plain": [
       "'hi new file\\n'"
      ]
     },
     "execution_count": 78,
     "metadata": {},
     "output_type": "execute_result"
    }
   ],
   "source": [
    "my_new_dir_file=open(\"my_new_files\",\"r\")\n",
    "my_new_dir_file.read()"
   ]
  },
  {
   "cell_type": "code",
   "execution_count": 79,
   "id": "1cb43a86-c4a5-491d-84dc-7b259fecee8a",
   "metadata": {},
   "outputs": [
    {
     "data": {
      "text/plain": [
       "[b'my_new_files']"
      ]
     },
     "execution_count": 79,
     "metadata": {},
     "output_type": "execute_result"
    }
   ],
   "source": [
    "os.listdir(os.getcwdb())"
   ]
  },
  {
   "cell_type": "code",
   "execution_count": 82,
   "id": "7e02cffe-b99c-4080-bc5a-58b5df62883b",
   "metadata": {},
   "outputs": [
    {
     "ename": "PermissionError",
     "evalue": "[WinError 32] The process cannot access the file because it is being used by another process: 'C://Users//Administrator//Downloads//my_dir\\\\my_new_files'",
     "output_type": "error",
     "traceback": [
      "\u001b[31m---------------------------------------------------------------------------\u001b[39m",
      "\u001b[31mPermissionError\u001b[39m                           Traceback (most recent call last)",
      "\u001b[36mCell\u001b[39m\u001b[36m \u001b[39m\u001b[32mIn[82]\u001b[39m\u001b[32m, line 1\u001b[39m\n\u001b[32m----> \u001b[39m\u001b[32m1\u001b[39m \u001b[43mshutil\u001b[49m\u001b[43m.\u001b[49m\u001b[43mrmtree\u001b[49m\u001b[43m(\u001b[49m\u001b[33;43m\"\u001b[39;49m\u001b[33;43mC://Users//Administrator//Downloads//my_dir\u001b[39;49m\u001b[33;43m\"\u001b[39;49m\u001b[43m)\u001b[49m\n",
      "\u001b[36mFile \u001b[39m\u001b[32mC:\\Program Files\\Python311\\Lib\\shutil.py:758\u001b[39m, in \u001b[36mrmtree\u001b[39m\u001b[34m(path, ignore_errors, onerror, dir_fd)\u001b[39m\n\u001b[32m    756\u001b[39m     \u001b[38;5;66;03m# can't continue even if onerror hook returns\u001b[39;00m\n\u001b[32m    757\u001b[39m     \u001b[38;5;28;01mreturn\u001b[39;00m\n\u001b[32m--> \u001b[39m\u001b[32m758\u001b[39m \u001b[38;5;28;01mreturn\u001b[39;00m \u001b[43m_rmtree_unsafe\u001b[49m\u001b[43m(\u001b[49m\u001b[43mpath\u001b[49m\u001b[43m,\u001b[49m\u001b[43m \u001b[49m\u001b[43monerror\u001b[49m\u001b[43m)\u001b[49m\n",
      "\u001b[36mFile \u001b[39m\u001b[32mC:\\Program Files\\Python311\\Lib\\shutil.py:621\u001b[39m, in \u001b[36m_rmtree_unsafe\u001b[39m\u001b[34m(path, onerror)\u001b[39m\n\u001b[32m    619\u001b[39m             os.unlink(fullname)\n\u001b[32m    620\u001b[39m         \u001b[38;5;28;01mexcept\u001b[39;00m \u001b[38;5;167;01mOSError\u001b[39;00m:\n\u001b[32m--> \u001b[39m\u001b[32m621\u001b[39m             \u001b[43monerror\u001b[49m\u001b[43m(\u001b[49m\u001b[43mos\u001b[49m\u001b[43m.\u001b[49m\u001b[43munlink\u001b[49m\u001b[43m,\u001b[49m\u001b[43m \u001b[49m\u001b[43mfullname\u001b[49m\u001b[43m,\u001b[49m\u001b[43m \u001b[49m\u001b[43msys\u001b[49m\u001b[43m.\u001b[49m\u001b[43mexc_info\u001b[49m\u001b[43m(\u001b[49m\u001b[43m)\u001b[49m\u001b[43m)\u001b[49m\n\u001b[32m    622\u001b[39m \u001b[38;5;28;01mtry\u001b[39;00m:\n\u001b[32m    623\u001b[39m     os.rmdir(path)\n",
      "\u001b[36mFile \u001b[39m\u001b[32mC:\\Program Files\\Python311\\Lib\\shutil.py:619\u001b[39m, in \u001b[36m_rmtree_unsafe\u001b[39m\u001b[34m(path, onerror)\u001b[39m\n\u001b[32m    617\u001b[39m \u001b[38;5;28;01melse\u001b[39;00m:\n\u001b[32m    618\u001b[39m     \u001b[38;5;28;01mtry\u001b[39;00m:\n\u001b[32m--> \u001b[39m\u001b[32m619\u001b[39m         \u001b[43mos\u001b[49m\u001b[43m.\u001b[49m\u001b[43munlink\u001b[49m\u001b[43m(\u001b[49m\u001b[43mfullname\u001b[49m\u001b[43m)\u001b[49m\n\u001b[32m    620\u001b[39m     \u001b[38;5;28;01mexcept\u001b[39;00m \u001b[38;5;167;01mOSError\u001b[39;00m:\n\u001b[32m    621\u001b[39m         onerror(os.unlink, fullname, sys.exc_info())\n",
      "\u001b[31mPermissionError\u001b[39m: [WinError 32] The process cannot access the file because it is being used by another process: 'C://Users//Administrator//Downloads//my_dir\\\\my_new_files'"
     ]
    }
   ],
   "source": [
    "shutil.rmtree(\"C://Users//Administrator//Downloads//my_dir\")"
   ]
  },
  {
   "cell_type": "code",
   "execution_count": 66,
   "id": "189ab698-011a-4aef-bc50-f3b2e806e50a",
   "metadata": {},
   "outputs": [
    {
     "data": {
      "text/plain": [
       "[b'desktop.ini',\n",
       " b'my3.txt',\n",
       " b'my_new_dir',\n",
       " b'my_new_file',\n",
       " b'my_new_files',\n",
       " b'python1.ipynb']"
      ]
     },
     "execution_count": 66,
     "metadata": {},
     "output_type": "execute_result"
    }
   ],
   "source": [
    "os.listdir(os.getcwdb())\n"
   ]
  },
  {
   "cell_type": "code",
   "execution_count": 68,
   "id": "98509d8f-43d3-4e48-a9b2-5df85ed23ddc",
   "metadata": {},
   "outputs": [],
   "source": [
    "os.rmdir('my_new_dir')"
   ]
  },
  {
   "cell_type": "code",
   "execution_count": 69,
   "id": "30e30e77-5a1c-43f7-96a6-24cfaa64fdcb",
   "metadata": {},
   "outputs": [
    {
     "data": {
      "text/plain": [
       "[b'desktop.ini', b'my3.txt', b'my_new_file', b'my_new_files', b'python1.ipynb']"
      ]
     },
     "execution_count": 69,
     "metadata": {},
     "output_type": "execute_result"
    }
   ],
   "source": [
    "os.listdir(os.getcwdb())"
   ]
  },
  {
   "cell_type": "code",
   "execution_count": 70,
   "id": "108a4c37-1d7e-4bf8-8649-6f3985b2474d",
   "metadata": {},
   "outputs": [],
   "source": [
    "os.remove('my_new_file')"
   ]
  },
  {
   "cell_type": "code",
   "execution_count": 71,
   "id": "7d6defc5-1ce1-47c6-9e3e-ffd81cf05ac3",
   "metadata": {},
   "outputs": [
    {
     "data": {
      "text/plain": [
       "[b'desktop.ini', b'my3.txt', b'my_new_files', b'python1.ipynb']"
      ]
     },
     "execution_count": 71,
     "metadata": {},
     "output_type": "execute_result"
    }
   ],
   "source": [
    "os.listdir(os.getcwdb())"
   ]
  },
  {
   "cell_type": "code",
   "execution_count": 1,
   "id": "c3b28f21-5d96-4f49-82f8-b746a79c632e",
   "metadata": {},
   "outputs": [
    {
     "data": {
      "text/plain": [
       "['ArithmeticError',\n",
       " 'AssertionError',\n",
       " 'AttributeError',\n",
       " 'BaseException',\n",
       " 'BaseExceptionGroup',\n",
       " 'BlockingIOError',\n",
       " 'BrokenPipeError',\n",
       " 'BufferError',\n",
       " 'BytesWarning',\n",
       " 'ChildProcessError',\n",
       " 'ConnectionAbortedError',\n",
       " 'ConnectionError',\n",
       " 'ConnectionRefusedError',\n",
       " 'ConnectionResetError',\n",
       " 'DeprecationWarning',\n",
       " 'EOFError',\n",
       " 'Ellipsis',\n",
       " 'EncodingWarning',\n",
       " 'EnvironmentError',\n",
       " 'Exception',\n",
       " 'ExceptionGroup',\n",
       " 'False',\n",
       " 'FileExistsError',\n",
       " 'FileNotFoundError',\n",
       " 'FloatingPointError',\n",
       " 'FutureWarning',\n",
       " 'GeneratorExit',\n",
       " 'IOError',\n",
       " 'ImportError',\n",
       " 'ImportWarning',\n",
       " 'IndentationError',\n",
       " 'IndexError',\n",
       " 'InterruptedError',\n",
       " 'IsADirectoryError',\n",
       " 'KeyError',\n",
       " 'KeyboardInterrupt',\n",
       " 'LookupError',\n",
       " 'MemoryError',\n",
       " 'ModuleNotFoundError',\n",
       " 'NameError',\n",
       " 'None',\n",
       " 'NotADirectoryError',\n",
       " 'NotImplemented',\n",
       " 'NotImplementedError',\n",
       " 'OSError',\n",
       " 'OverflowError',\n",
       " 'PendingDeprecationWarning',\n",
       " 'PermissionError',\n",
       " 'ProcessLookupError',\n",
       " 'RecursionError',\n",
       " 'ReferenceError',\n",
       " 'ResourceWarning',\n",
       " 'RuntimeError',\n",
       " 'RuntimeWarning',\n",
       " 'StopAsyncIteration',\n",
       " 'StopIteration',\n",
       " 'SyntaxError',\n",
       " 'SyntaxWarning',\n",
       " 'SystemError',\n",
       " 'SystemExit',\n",
       " 'TabError',\n",
       " 'TimeoutError',\n",
       " 'True',\n",
       " 'TypeError',\n",
       " 'UnboundLocalError',\n",
       " 'UnicodeDecodeError',\n",
       " 'UnicodeEncodeError',\n",
       " 'UnicodeError',\n",
       " 'UnicodeTranslateError',\n",
       " 'UnicodeWarning',\n",
       " 'UserWarning',\n",
       " 'ValueError',\n",
       " 'Warning',\n",
       " 'WindowsError',\n",
       " 'ZeroDivisionError',\n",
       " '__IPYTHON__',\n",
       " '__build_class__',\n",
       " '__debug__',\n",
       " '__doc__',\n",
       " '__import__',\n",
       " '__loader__',\n",
       " '__name__',\n",
       " '__package__',\n",
       " '__spec__',\n",
       " 'abs',\n",
       " 'aiter',\n",
       " 'all',\n",
       " 'anext',\n",
       " 'any',\n",
       " 'ascii',\n",
       " 'bin',\n",
       " 'bool',\n",
       " 'breakpoint',\n",
       " 'bytearray',\n",
       " 'bytes',\n",
       " 'callable',\n",
       " 'chr',\n",
       " 'classmethod',\n",
       " 'compile',\n",
       " 'complex',\n",
       " 'copyright',\n",
       " 'credits',\n",
       " 'delattr',\n",
       " 'dict',\n",
       " 'dir',\n",
       " 'display',\n",
       " 'divmod',\n",
       " 'enumerate',\n",
       " 'eval',\n",
       " 'exec',\n",
       " 'execfile',\n",
       " 'filter',\n",
       " 'float',\n",
       " 'format',\n",
       " 'frozenset',\n",
       " 'get_ipython',\n",
       " 'getattr',\n",
       " 'globals',\n",
       " 'hasattr',\n",
       " 'hash',\n",
       " 'help',\n",
       " 'hex',\n",
       " 'id',\n",
       " 'input',\n",
       " 'int',\n",
       " 'isinstance',\n",
       " 'issubclass',\n",
       " 'iter',\n",
       " 'len',\n",
       " 'license',\n",
       " 'list',\n",
       " 'locals',\n",
       " 'map',\n",
       " 'max',\n",
       " 'memoryview',\n",
       " 'min',\n",
       " 'next',\n",
       " 'object',\n",
       " 'oct',\n",
       " 'open',\n",
       " 'ord',\n",
       " 'pow',\n",
       " 'print',\n",
       " 'property',\n",
       " 'range',\n",
       " 'repr',\n",
       " 'reversed',\n",
       " 'round',\n",
       " 'runfile',\n",
       " 'set',\n",
       " 'setattr',\n",
       " 'slice',\n",
       " 'sorted',\n",
       " 'staticmethod',\n",
       " 'str',\n",
       " 'sum',\n",
       " 'super',\n",
       " 'tuple',\n",
       " 'type',\n",
       " 'vars',\n",
       " 'zip']"
      ]
     },
     "execution_count": 1,
     "metadata": {},
     "output_type": "execute_result"
    }
   ],
   "source": [
    "dir(__builtins__)"
   ]
  },
  {
   "cell_type": "code",
   "execution_count": 3,
   "id": "8df68937-e9d8-463c-a67a-2c8b258686bc",
   "metadata": {},
   "outputs": [
    {
     "name": "stdout",
     "output_type": "stream",
     "text": [
      "value is b\n"
     ]
    },
    {
     "ename": "ValueError",
     "evalue": "invalid literal for int() with base 10: 'b'",
     "output_type": "error",
     "traceback": [
      "\u001b[31m---------------------------------------------------------------------------\u001b[39m",
      "\u001b[31mValueError\u001b[39m                                Traceback (most recent call last)",
      "\u001b[36mCell\u001b[39m\u001b[36m \u001b[39m\u001b[32mIn[3]\u001b[39m\u001b[32m, line 5\u001b[39m\n\u001b[32m      2\u001b[39m \u001b[38;5;28;01mfor\u001b[39;00m entry \u001b[38;5;129;01min\u001b[39;00m lst:\n\u001b[32m      4\u001b[39m     \u001b[38;5;28mprint\u001b[39m(\u001b[33m\"\u001b[39m\u001b[33mvalue is\u001b[39m\u001b[33m\"\u001b[39m,entry)\n\u001b[32m----> \u001b[39m\u001b[32m5\u001b[39m     k=\u001b[32m1\u001b[39m/\u001b[38;5;28;43mint\u001b[39;49m\u001b[43m(\u001b[49m\u001b[43mentry\u001b[49m\u001b[43m)\u001b[49m\n",
      "\u001b[31mValueError\u001b[39m: invalid literal for int() with base 10: 'b'"
     ]
    }
   ],
   "source": [
    "lst=['b',0,2]\n",
    "for entry in lst:\n",
    "    \n",
    "    print(\"value is\",entry)\n",
    "    k=1/int(entry)\n",
    "        "
   ]
  },
  {
   "cell_type": "code",
   "execution_count": 6,
   "id": "1f136095-e2a5-4900-8ad2-b7d61dae3e7a",
   "metadata": {},
   "outputs": [
    {
     "name": "stdout",
     "output_type": "stream",
     "text": [
      "value is b\n",
      "oops (<class 'ValueError'>, ValueError(\"invalid literal for int() with base 10: 'b'\"), <traceback object at 0x000001585C939300>) occured\n",
      "next entry\n",
      "******\n",
      "value is 0\n",
      "oops (<class 'ZeroDivisionError'>, ZeroDivisionError('division by zero'), <traceback object at 0x000001585C93A480>) occured\n",
      "next entry\n",
      "******\n",
      "value is 2\n",
      "the reciprocal is  2 is 0.5\n"
     ]
    }
   ],
   "source": [
    "import sys\n",
    "lst=['b',0,2]\n",
    "for entry in lst:\n",
    "    try:\n",
    "        print(\"value is\",entry)\n",
    "        k=1/int(entry)\n",
    "    except:\n",
    "        print(\"oops\", sys.exc_info(),\"occured\")\n",
    "        print(\"next entry\")\n",
    "        print(\"******\")\n",
    "print(\"the reciprocal is \",entry ,\"is\",k)\n",
    "        "
   ]
  },
  {
   "cell_type": "code",
   "execution_count": 12,
   "id": "2e377f58-31e3-4f42-b5f8-26b1b21ccf31",
   "metadata": {},
   "outputs": [
    {
     "name": "stdout",
     "output_type": "stream",
     "text": [
      "++++\n",
      "value is b\n",
      "this is value error\n",
      "++++\n",
      "value is 0\n"
     ]
    },
    {
     "ename": "TypeError",
     "evalue": "catching classes that do not inherit from BaseException is not allowed",
     "output_type": "error",
     "traceback": [
      "\u001b[31m---------------------------------------------------------------------------\u001b[39m",
      "\u001b[31mZeroDivisionError\u001b[39m                         Traceback (most recent call last)",
      "\u001b[36mCell\u001b[39m\u001b[36m \u001b[39m\u001b[32mIn[12]\u001b[39m\u001b[32m, line 7\u001b[39m\n\u001b[32m      6\u001b[39m     \u001b[38;5;28mprint\u001b[39m(\u001b[33m\"\u001b[39m\u001b[33mvalue is\u001b[39m\u001b[33m\"\u001b[39m,entry)\n\u001b[32m----> \u001b[39m\u001b[32m7\u001b[39m     k=\u001b[32;43m1\u001b[39;49m\u001b[43m/\u001b[49m\u001b[38;5;28;43mint\u001b[39;49m\u001b[43m(\u001b[49m\u001b[43mentry\u001b[49m\u001b[43m)\u001b[49m\n\u001b[32m      8\u001b[39m \u001b[38;5;28;01mexcept\u001b[39;00m(\u001b[38;5;167;01mValueError\u001b[39;00m):\n",
      "\u001b[31mZeroDivisionError\u001b[39m: division by zero",
      "\nDuring handling of the above exception, another exception occurred:\n",
      "\u001b[31mTypeError\u001b[39m                                 Traceback (most recent call last)",
      "\u001b[36mCell\u001b[39m\u001b[36m \u001b[39m\u001b[32mIn[12]\u001b[39m\u001b[32m, line 10\u001b[39m\n\u001b[32m      8\u001b[39m \u001b[38;5;28;01mexcept\u001b[39;00m(\u001b[38;5;167;01mValueError\u001b[39;00m):\n\u001b[32m      9\u001b[39m     \u001b[38;5;28mprint\u001b[39m(\u001b[33m\"\u001b[39m\u001b[33mthis is value error\u001b[39m\u001b[33m\"\u001b[39m)\n\u001b[32m---> \u001b[39m\u001b[32m10\u001b[39m \u001b[38;5;28;01mexcept\u001b[39;00m(\u001b[33m\"\u001b[39m\u001b[33mZeroDivisionError\u001b[39m\u001b[33m\"\u001b[39m):\n\u001b[32m     11\u001b[39m     \u001b[38;5;28mprint\u001b[39m(\u001b[33m\"\u001b[39m\u001b[33mzerodivision error\u001b[39m\u001b[33m\"\u001b[39m)\n\u001b[32m     12\u001b[39m \u001b[38;5;28;01mexcept\u001b[39;00m:\n",
      "\u001b[31mTypeError\u001b[39m: catching classes that do not inherit from BaseException is not allowed"
     ]
    }
   ],
   "source": [
    "import sys\n",
    "ls=['b',0,2]\n",
    "for entry in ls:\n",
    "    try:\n",
    "        print(\"++++\")\n",
    "        print(\"value is\",entry)\n",
    "        k=1/int(entry)\n",
    "    except(ValueError):\n",
    "        print(\"this is value error\")\n",
    "    except(\"ZeroDivisionError\"):\n",
    "        print(\"zerodivision error\")\n",
    "    except:\n",
    "        print(\"other error\")\n",
    "print(\"the reciprocal is \",entry ,\"is\",k)\n",
    "        "
   ]
  },
  {
   "cell_type": "code",
   "execution_count": 14,
   "id": "eac08bd3-f9c3-4c71-a3bd-9b0443fced26",
   "metadata": {},
   "outputs": [],
   "source": [
    "import os\n"
   ]
  },
  {
   "cell_type": "code",
   "execution_count": 15,
   "id": "2e7a6cf0-f812-467b-ad25-c1dddf4ea257",
   "metadata": {},
   "outputs": [
    {
     "data": {
      "text/plain": [
       "'C:\\\\Users\\\\Administrator'"
      ]
     },
     "execution_count": 15,
     "metadata": {},
     "output_type": "execute_result"
    }
   ],
   "source": [
    "os.getcwd()"
   ]
  },
  {
   "cell_type": "code",
   "execution_count": 16,
   "id": "8dc7691d-f600-4afe-b151-b02473d5b9bd",
   "metadata": {},
   "outputs": [
    {
     "name": "stdout",
     "output_type": "stream",
     "text": [
      "final closed\n"
     ]
    },
    {
     "ename": "NameError",
     "evalue": "name 'f' is not defined",
     "output_type": "error",
     "traceback": [
      "\u001b[31m---------------------------------------------------------------------------\u001b[39m",
      "\u001b[31mFileNotFoundError\u001b[39m                         Traceback (most recent call last)",
      "\u001b[36mCell\u001b[39m\u001b[36m \u001b[39m\u001b[32mIn[16]\u001b[39m\u001b[32m, line 3\u001b[39m\n\u001b[32m      2\u001b[39m \u001b[38;5;28;01mtry\u001b[39;00m:\n\u001b[32m----> \u001b[39m\u001b[32m3\u001b[39m     f=\u001b[38;5;28;43mopen\u001b[39;49m\u001b[43m(\u001b[49m\u001b[33;43m'\u001b[39;49m\u001b[33;43maze.txt\u001b[39;49m\u001b[33;43m'\u001b[39;49m\u001b[43m)\u001b[49m\n\u001b[32m      4\u001b[39m \u001b[38;5;28;01mfinally\u001b[39;00m:\n",
      "\u001b[36mFile \u001b[39m\u001b[32mC:\\Program Files\\Python311\\Lib\\site-packages\\IPython\\core\\interactiveshell.py:326\u001b[39m, in \u001b[36m_modified_open\u001b[39m\u001b[34m(file, *args, **kwargs)\u001b[39m\n\u001b[32m    320\u001b[39m     \u001b[38;5;28;01mraise\u001b[39;00m \u001b[38;5;167;01mValueError\u001b[39;00m(\n\u001b[32m    321\u001b[39m         \u001b[33mf\u001b[39m\u001b[33m\"\u001b[39m\u001b[33mIPython won\u001b[39m\u001b[33m'\u001b[39m\u001b[33mt let you open fd=\u001b[39m\u001b[38;5;132;01m{\u001b[39;00mfile\u001b[38;5;132;01m}\u001b[39;00m\u001b[33m by default \u001b[39m\u001b[33m\"\u001b[39m\n\u001b[32m    322\u001b[39m         \u001b[33m\"\u001b[39m\u001b[33mas it is likely to crash IPython. If you know what you are doing, \u001b[39m\u001b[33m\"\u001b[39m\n\u001b[32m    323\u001b[39m         \u001b[33m\"\u001b[39m\u001b[33myou can use builtins\u001b[39m\u001b[33m'\u001b[39m\u001b[33m open.\u001b[39m\u001b[33m\"\u001b[39m\n\u001b[32m    324\u001b[39m     )\n\u001b[32m--> \u001b[39m\u001b[32m326\u001b[39m \u001b[38;5;28;01mreturn\u001b[39;00m \u001b[43mio_open\u001b[49m\u001b[43m(\u001b[49m\u001b[43mfile\u001b[49m\u001b[43m,\u001b[49m\u001b[43m \u001b[49m\u001b[43m*\u001b[49m\u001b[43margs\u001b[49m\u001b[43m,\u001b[49m\u001b[43m \u001b[49m\u001b[43m*\u001b[49m\u001b[43m*\u001b[49m\u001b[43mkwargs\u001b[49m\u001b[43m)\u001b[49m\n",
      "\u001b[31mFileNotFoundError\u001b[39m: [Errno 2] No such file or directory: 'aze.txt'",
      "\nDuring handling of the above exception, another exception occurred:\n",
      "\u001b[31mNameError\u001b[39m                                 Traceback (most recent call last)",
      "\u001b[36mCell\u001b[39m\u001b[36m \u001b[39m\u001b[32mIn[16]\u001b[39m\u001b[32m, line 6\u001b[39m\n\u001b[32m      4\u001b[39m \u001b[38;5;28;01mfinally\u001b[39;00m:\n\u001b[32m      5\u001b[39m     \u001b[38;5;28mprint\u001b[39m(\u001b[33m\"\u001b[39m\u001b[33mfinal closed\u001b[39m\u001b[33m\"\u001b[39m)\n\u001b[32m----> \u001b[39m\u001b[32m6\u001b[39m     \u001b[43mf\u001b[49m.close()\n",
      "\u001b[31mNameError\u001b[39m: name 'f' is not defined"
     ]
    }
   ],
   "source": [
    "os.chdir('C:\\\\Users\\\\Administrator')\n",
    "try:\n",
    "    f=open('aze.txt')\n",
    "finally:\n",
    "    print(\"final closed\")\n",
    "    f.close()"
   ]
  },
  {
   "cell_type": "code",
   "execution_count": 17,
   "id": "23e40a22-b49e-416d-adcf-9c6f5a123cd8",
   "metadata": {},
   "outputs": [
    {
     "name": "stdout",
     "output_type": "stream",
     "text": [
      "something went wrong\n"
     ]
    }
   ],
   "source": [
    "try:\n",
    "    f=open('aze.txt')\n",
    "except:\n",
    "    print('something went wrong')"
   ]
  },
  {
   "cell_type": "code",
   "execution_count": 22,
   "id": "a061ba1c-f8ff-47b8-b387-072b23fbc16a",
   "metadata": {},
   "outputs": [
    {
     "name": "stderr",
     "output_type": "stream",
     "text": [
      "INFO:root:App started\n",
      "WARNING:root:this is warning\n",
      "ERROR:root:error occured\n",
      "CRITICAL:root:Critical issue\n"
     ]
    }
   ],
   "source": [
    "\n",
    "import logging\n",
    "logging.basicConfig(level=logging.INFO)\n",
    "logging.debug(\"this is debug message\")\n",
    "logging.info(\"App started\")\n",
    "logging.warning(\"this is warning\")\n",
    "logging.error(\"error occured\")\n",
    "logging.critical(\"Critical issue\")"
   ]
  },
  {
   "cell_type": "code",
   "execution_count": 23,
   "id": "b23e0536-649e-46a5-8f28-feb1f09f6c01",
   "metadata": {},
   "outputs": [
    {
     "name": "stderr",
     "output_type": "stream",
     "text": [
      "INFO:root:App started\n"
     ]
    }
   ],
   "source": [
    "logging.info(\"App started\")"
   ]
  },
  {
   "cell_type": "code",
   "execution_count": 24,
   "id": "90997d6f-f3f1-4647-a927-4f59103acb96",
   "metadata": {},
   "outputs": [
    {
     "name": "stderr",
     "output_type": "stream",
     "text": [
      "WARNING:root:this is warning\n"
     ]
    }
   ],
   "source": [
    "logging.warning(\"this is warning\")"
   ]
  },
  {
   "cell_type": "code",
   "execution_count": 25,
   "id": "2c846304-2352-49fd-8d38-0cbb5ab5a7c3",
   "metadata": {},
   "outputs": [
    {
     "name": "stderr",
     "output_type": "stream",
     "text": [
      "ERROR:root:error occured\n"
     ]
    }
   ],
   "source": [
    "logging.error(\"error occured\")"
   ]
  },
  {
   "cell_type": "code",
   "execution_count": 26,
   "id": "86cb2bd2-b46c-49c3-921f-dcf3ddcb3c60",
   "metadata": {},
   "outputs": [
    {
     "name": "stderr",
     "output_type": "stream",
     "text": [
      "CRITICAL:root:Critical issue\n"
     ]
    }
   ],
   "source": [
    "logging.critical(\"Critical issue\")"
   ]
  },
  {
   "cell_type": "code",
   "execution_count": null,
   "id": "687c3036-65f8-402a-b203-ef6a1d108ad2",
   "metadata": {},
   "outputs": [],
   "source": []
  }
 ],
 "metadata": {
  "kernelspec": {
   "display_name": "Python 3 (ipykernel)",
   "language": "python",
   "name": "python3"
  },
  "language_info": {
   "codemirror_mode": {
    "name": "ipython",
    "version": 3
   },
   "file_extension": ".py",
   "mimetype": "text/x-python",
   "name": "python",
   "nbconvert_exporter": "python",
   "pygments_lexer": "ipython3",
   "version": "3.11.0"
  }
 },
 "nbformat": 4,
 "nbformat_minor": 5
}
