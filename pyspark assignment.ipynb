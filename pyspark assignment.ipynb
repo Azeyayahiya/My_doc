{
 "cells": [
  {
   "cell_type": "code",
   "execution_count": 2,
   "id": "d12cc3fd-ba46-48da-a043-a333a10c500e",
   "metadata": {},
   "outputs": [],
   "source": [
    "import findspark\n",
    "findspark.init()\n",
    "from pyspark.sql import SparkSession\n",
    "spark=SparkSession.builder \\\n",
    "    .appName(\"myapp\") \\\n",
    "    .master(\"local[*]\")\\\n",
    "    .getOrCreate()"
   ]
  },
  {
   "cell_type": "code",
   "execution_count": 3,
   "id": "2b8e3513-0d25-4cd8-a276-56944a45796a",
   "metadata": {},
   "outputs": [],
   "source": [
    "sc=spark.sparkContext"
   ]
  },
  {
   "cell_type": "code",
   "execution_count": 4,
   "id": "e83fb4d6-e488-45e0-8731-d92fdf4d1a3f",
   "metadata": {},
   "outputs": [
    {
     "name": "stdout",
     "output_type": "stream",
     "text": [
      "spark version: 3.5.5\n"
     ]
    }
   ],
   "source": [
    "print(\"spark version:\",spark.version)"
   ]
  },
  {
   "cell_type": "code",
   "execution_count": 5,
   "id": "1077e8e9-570f-4731-b42d-75f6801a181c",
   "metadata": {},
   "outputs": [
    {
     "name": "stdout",
     "output_type": "stream",
     "text": [
      "+---------------------+-------------------+--------------------+--------------+------+-----------+---------+------+--------------------+-----------------+-----+-----+------------------+------------------+--------+--------------------+----------+--------------------+----------+------------------+------------------+--------+\n",
      "|trans_date_trans_time|             cc_num|            merchant|      category|   amt|      first|     last|gender|              street|             city|state|  zip|               lat|              long|city_pop|                 job|       dob|           trans_num| unix_time|         merch_lat|        merch_long|is_fraud|\n",
      "+---------------------+-------------------+--------------------+--------------+------+-----------+---------+------+--------------------+-----------------+-----+-----+------------------+------------------+--------+--------------------+----------+--------------------+----------+------------------+------------------+--------+\n",
      "|  2019-08-11 19:38:33|   4681601008538160|fraud_Hermann and...|  shopping_pos| 50.81|      Tammy|    Davis|     F|77663 Colleen Fre...|      Moundsville|   WV|26041|           39.9148|-80.73100000000001|   16183|     Physiotherapist|1977-08-12|f64003a5726ca9951...|1344713913|         39.238053|        -81.728984|       0|\n",
      "|  2020-02-21 13:31:42|   4653879239169997|fraud_Cronin, Ksh...|health_fitness|  1.97|     Monica|   Tucker|     F|302 Christina Isl...|     Smiths Grove|   KY|42171|           37.0581|          -86.1938|    6841|   Therapist, sports|1999-06-06|f8e25094098b22a8e...|1361453502|         36.665575|        -85.608885|       0|\n",
      "|  2019-09-03 02:39:49|   4334230547694630|fraud_Rutherford-...|   grocery_pos|100.18|      Scott|   Martin|     M|  7483 Navarro Flats|          Freedom|   WY|83120|           43.0172|         -111.0292|     471|Education officer...|1967-08-02|291160a410748e5be...|1346639989|43.362578000000006|       -110.580382|       0|\n",
      "|  2020-03-31 02:39:04|   2256234701263057|  fraud_Kris-Padberg|  shopping_pos|  7.67|Christopher|   Grimes|     M|   39631 Dunn Radial|         Grantham|   NH| 3753|           43.5103|          -72.1334|    2971|  Charity fundraiser|1948-04-11|df716fe9ce97522bc...|1364697544|         44.312773|        -71.555079|       0|\n",
      "|  2020-12-05 07:58:57|   6011948324228984|fraud_Towne, Gree...|  shopping_net| 478.1|   Mckenzie|   Brooks|     F| 3872 Matthew Skyway|            Paris|   MS|38949|           34.1992|           -89.382|     297|Administrator, lo...|1961-12-14|c33bcd8c63d50b4fe...|1386230337|34.362314000000005|        -89.623306|       0|\n",
      "|  2020-10-19 01:22:18|     30026790933302|fraud_Herman, Tre...|      misc_net|107.49|       John|   Peters|     M|   555 Michael Burgs|      Mayersville|   MS|39113|           32.9013|          -91.0286|     595|    Technical brewer|1979-09-03|976e58ac18356b393...|1382145738|         31.928995|        -91.321494|       0|\n",
      "|  2019-04-19 11:42:53|     30551643947183|      fraud_Cole PLC|   grocery_pos|231.61|     Morgan|    Smith|     F|  1441 Bradley Place|           Grover|   NC|28073|           35.1836|          -81.4552|    5621|        Toxicologist|1973-11-14|5ba428ae126192628...|1334835773|         35.257566|        -81.134489|       0|\n",
      "|  2019-09-23 11:08:42|   3559160581764413|    fraud_Schumm PLC|  shopping_net| 85.74|      Allen|     Bell|     M| 70147 Amanda Fields|Saint Bonaventure|   NY|14778|           42.2701|          -78.6847|    1453|        Toxicologist|1974-02-15|220c69d2e09d3323b...|1348398522|         42.583145|        -78.244389|       0|\n",
      "|  2019-02-21 13:38:55|   3583635130604947|fraud_Weber, Thie...|     kids_pets|146.38|    Crystal|   Gamble|     F|899 Michele View ...|     Philadelphia|   PA|19149|           40.0369|          -75.0664| 1526206| Structural engineer|1985-01-01|a569367f8df5d5d34...|1329831535|         40.610395|-74.62679399999999|       0|\n",
      "|  2019-06-22 02:19:22|   6564459919350820|fraud_Towne, Gree...|  shopping_net|  1.46|    Douglas|   Willis|     M|619 Jeremy Garden...|           Benton|   WI|53803|           42.5545|          -90.3508|    1306|Public relations ...|1958-09-10|9b13b6d6222b43f14...|1340331562|         42.845955|        -90.682929|       0|\n",
      "|  2020-02-03 12:01:56|4973530368125489546|fraud_Schroeder G...|health_fitness|  9.99|       Mary|Rodriguez|     F|8986 Fitzgerald P...|          Winslow|   AR|72959|           35.8312|          -94.1187|    2786|            Musician|1965-09-27|56552bcb40cca4f43...|1359892916|         35.447025|        -93.434536|       0|\n",
      "|  2019-12-08 04:02:43|   3543591270174051|fraud_Reilly, Hea...| gas_transport| 52.92|   Margaret|      Lam|     F|6911 Nicholas Key...|           Armagh|   PA|15920|           40.4603|          -79.0097|     922| Early years teacher|1972-10-04|fc9499f57723925e2...|1354939363|         40.870096|        -79.216255|       0|\n",
      "|  2020-01-22 07:14:24|   3587044315915002|fraud_Stanton, Ja...|  shopping_net| 96.24|  Christian|    Roman|     M|495 Fisher Throug...|   Grand Junction|   TN|38039|           35.0659|          -89.1534|    1804|Clothing/textile ...|1974-10-15|636f3159d447bc56e...|1358838864|         34.583771|        -89.640556|       0|\n",
      "|  2019-06-23 22:07:02|     38199021865320|    fraud_Stark-Batz| entertainment| 67.54|      Jesse|  Roberts|     M|8415 Vaughn Squar...|          Acworth|   NH| 3601|43.196000000000005|          -72.3001|     477|     Naval architect|1988-04-15|0ecb5cf0ab3c026cb...|1340489222|         42.596169|        -72.485721|       0|\n",
      "|  2020-10-07 13:10:43|   3540210836308425|fraud_Durgan, Gis...|          home| 80.34|     Steven|    Yoder|     M|94975 David Mews ...|      Summerfield|   TX|79085|           34.7437|         -102.5064|      53|   Fisheries officer|1992-06-19|635d8d1d897bb5fa8...|1381151443|          34.64505|       -101.742618|       0|\n",
      "|  2019-03-22 13:30:49|     30407675418785|  fraud_Hudson-Grady|  shopping_pos|  3.53|   Danielle|    Evans|     F|76752 David Lodge...|        Breesport|   NY|14816|           42.1939|          -76.7361|     520|     Psychotherapist|1991-10-13|7395ccbcf19b3ce78...|1332423049|         42.645198|-75.89484499999999|       0|\n",
      "|  2019-08-20 18:28:12|      4186530744674|   fraud_Collier LLC|          home| 39.16|      Casey|   Howell|     F|374 Christopher R...|       Blackville|   SC|29817|           33.3645|          -81.2718|    4913|    Technical brewer|1966-11-10|9172087eec4c7bcfb...|1345487292|32.870909999999995|        -80.479861|       0|\n",
      "|  2020-01-01 18:28:22|   3566094707272327|fraud_Daugherty-T...|   food_dining|  53.1|   Kristina|  Stewart|     F|47029 Jimmy Tunne...|          Newhall|   CA|91321|           34.3795|          -118.523|   34882|    Health physicist|1971-04-25|3992942c1e900ef98...|1357064902|         35.133634|       -118.707277|       0|\n",
      "|  2019-12-30 22:51:32|       630424987505|     fraud_Pagac LLC|  shopping_pos|  3.78|   Jennifer|    Black|     F|2870 Bean Terrace...|           Thomas|   WV|26292|           39.1505|           -79.503|     836|Forensic psycholo...|1981-08-29|27a29a2cbff4dc57a...|1356907892|         38.174861|        -79.285536|       0|\n",
      "|  2020-07-21 17:26:40|   3518669219150142|fraud_Altenwerth,...|  shopping_net|  7.98|    Dorothy|   Thomas|     F|537 Rice Square S...|          Milford|   OH|45150|           39.1657|-84.23299999999999|   31394|     Hospital doctor|1996-11-12|da0a942db9d5fd0a7...|1374427600|         39.565647|-84.54592099999999|       0|\n",
      "+---------------------+-------------------+--------------------+--------------+------+-----------+---------+------+--------------------+-----------------+-----+-----+------------------+------------------+--------+--------------------+----------+--------------------+----------+------------------+------------------+--------+\n",
      "only showing top 20 rows\n",
      "\n"
     ]
    }
   ],
   "source": [
    "df=spark.read.csv('final_data (2).csv',header=True,inferSchema=True,mode=\"DROPMALFORMED\")\n",
    "df.show()"
   ]
  },
  {
   "cell_type": "code",
   "execution_count": 8,
   "id": "fe8bbe85-93ca-43b2-8196-643d030910a1",
   "metadata": {},
   "outputs": [
    {
     "data": {
      "text/plain": [
       "19302"
      ]
     },
     "execution_count": 8,
     "metadata": {},
     "output_type": "execute_result"
    }
   ],
   "source": [
    "df.distinct().count()"
   ]
  },
  {
   "cell_type": "code",
   "execution_count": 9,
   "id": "5124bc67-eddb-4fe6-9787-e166758e91c3",
   "metadata": {},
   "outputs": [
    {
     "name": "stdout",
     "output_type": "stream",
     "text": [
      "root\n",
      " |-- trans_date_trans_time: timestamp (nullable = true)\n",
      " |-- cc_num: long (nullable = true)\n",
      " |-- merchant: string (nullable = true)\n",
      " |-- category: string (nullable = true)\n",
      " |-- amt: double (nullable = true)\n",
      " |-- first: string (nullable = true)\n",
      " |-- last: string (nullable = true)\n",
      " |-- gender: string (nullable = true)\n",
      " |-- street: string (nullable = true)\n",
      " |-- city: string (nullable = true)\n",
      " |-- state: string (nullable = true)\n",
      " |-- zip: integer (nullable = true)\n",
      " |-- lat: double (nullable = true)\n",
      " |-- long: double (nullable = true)\n",
      " |-- city_pop: integer (nullable = true)\n",
      " |-- job: string (nullable = true)\n",
      " |-- dob: date (nullable = true)\n",
      " |-- trans_num: string (nullable = true)\n",
      " |-- unix_time: integer (nullable = true)\n",
      " |-- merch_lat: double (nullable = true)\n",
      " |-- merch_long: double (nullable = true)\n",
      " |-- is_fraud: integer (nullable = true)\n",
      "\n"
     ]
    }
   ],
   "source": [
    "df.printSchema()"
   ]
  },
  {
   "cell_type": "code",
   "execution_count": 10,
   "id": "0237f457-9289-4d65-8326-ea6517046d2b",
   "metadata": {},
   "outputs": [
    {
     "name": "stdout",
     "output_type": "stream",
     "text": [
      "+------------+\n",
      "|        city|\n",
      "+------------+\n",
      "| Moundsville|\n",
      "|Smiths Grove|\n",
      "|     Freedom|\n",
      "|    Grantham|\n",
      "|       Paris|\n",
      "+------------+\n",
      "only showing top 5 rows\n",
      "\n"
     ]
    }
   ],
   "source": [
    "df.select(\"city\").show(5)"
   ]
  },
  {
   "cell_type": "code",
   "execution_count": 11,
   "id": "61a25bd0-3410-4f79-ace0-6d5939317424",
   "metadata": {},
   "outputs": [
    {
     "name": "stdout",
     "output_type": "stream",
     "text": [
      "+---------------------+----------------+--------------------+-------------+-------+-------+------+------+--------------------+-------------+-----+-----+-------+---------+--------+--------------------+----------+--------------------+----------+------------------+------------------+--------+\n",
      "|trans_date_trans_time|          cc_num|            merchant|     category|    amt|  first|  last|gender|              street|         city|state|  zip|    lat|     long|city_pop|                 job|       dob|           trans_num| unix_time|         merch_lat|        merch_long|is_fraud|\n",
      "+---------------------+----------------+--------------------+-------------+-------+-------+------+------+--------------------+-------------+-----+-----+-------+---------+--------+--------------------+----------+--------------------+----------+------------------+------------------+--------+\n",
      "|  2019-01-02 01:06:37|   4613314721966|fraud_Rutherford-...|  grocery_pos| 281.06|  Jason|Murphy|     M|542 Steve Curve S...|Collettsville|   NC|28611|35.9946| -81.7266|     885|      Soil scientist|1988-09-15|e8a81877ae9a0a7f8...|1325466397|         36.430124|-81.17948299999999|       1|\n",
      "|  2019-01-02 01:47:29| 340187018810220|fraud_Jenkins, Ha...|gas_transport|  11.52|  Misty|  Hart|     F|27954 Hall Mill S...|  San Antonio|   TX|78208|  29.44|  -98.459| 1595797|Horticultural con...|1960-10-28|bc7d41c41103877b0...|1325468849|         29.819364|        -99.142791|       1|\n",
      "|  2019-01-02 03:05:23| 340187018810220|fraud_Goodwin-Nit...|  grocery_pos| 276.31|  Misty|  Hart|     F|27954 Hall Mill S...|  San Antonio|   TX|78208|  29.44|  -98.459| 1595797|Horticultural con...|1960-10-28|b98f12f4168391b22...|1325473523|         29.273085|         -98.83636|       1|\n",
      "|  2019-01-02 03:38:03|   4613314721966|fraud_Erdman-Kert...|gas_transport|   7.03|  Jason|Murphy|     M|542 Steve Curve S...|Collettsville|   NC|28611|35.9946| -81.7266|     885|      Soil scientist|1988-09-15|397894a5c4c02e3c6...|1325475483|         35.909292|         -82.09101|       1|\n",
      "|  2019-01-02 03:55:47| 340187018810220|  fraud_Koepp-Parker|  grocery_pos| 275.73|  Misty|  Hart|     F|27954 Hall Mill S...|  San Antonio|   TX|78208|  29.44|  -98.459| 1595797|Horticultural con...|1960-10-28|7863235a750d73a24...|1325476547|         29.786426|         -98.68341|       1|\n",
      "|  2019-01-02 13:38:08|   4613314721966|  fraud_Medhurst PLC| shopping_net|  844.8|  Jason|Murphy|     M|542 Steve Curve S...|Collettsville|   NC|28611|35.9946| -81.7266|     885|      Soil scientist|1988-09-15|248c2746e78f2ec71...|1325511488|         35.987802|-81.25433199999999|       1|\n",
      "|  2019-01-02 23:52:08|   4613314721966| fraud_Ruecker Group|     misc_net| 843.91|  Jason|Murphy|     M|542 Steve Curve S...|Collettsville|   NC|28611|35.9946| -81.7266|     885|      Soil scientist|1988-09-15|2f7d497f607396ab6...|1325548328|         35.985612|        -81.383306|       1|\n",
      "|  2019-01-03 01:05:27| 340187018810220|fraud_Conroy-Crui...|gas_transport|  10.76|  Misty|  Hart|     F|27954 Hall Mill S...|  San Antonio|   TX|78208|  29.44|  -98.459| 1595797|Horticultural con...|1960-10-28|0a2f8002e55a3565c...|1325552727|         28.856712|        -97.794207|       1|\n",
      "|  2019-01-03 01:35:52| 340187018810220|  fraud_Koepp-Parker|  grocery_pos| 332.35|  Misty|  Hart|     F|27954 Hall Mill S...|  San Antonio|   TX|78208|  29.44|  -98.459| 1595797|Horticultural con...|1960-10-28|97903213a2fd7e53b...|1325554552|         29.320662|        -97.937219|       1|\n",
      "|  2019-01-03 03:17:36| 340187018810220|fraud_Strosin-Cru...|  grocery_pos| 315.34|  Misty|  Hart|     F|27954 Hall Mill S...|  San Antonio|   TX|78208|  29.44|  -98.459| 1595797|Horticultural con...|1960-10-28|0ffc2b7dae4c33883...|1325560656|28.953283000000003|        -97.806528|       1|\n",
      "|  2019-01-03 16:54:53|4922710831011201|  fraud_Rau and Sons|  grocery_pos| 337.05|Heather| Chase|     F|6888 Hicks Stream...|        Manor|   PA|15665|40.3359| -79.6607|    1472|Public affairs co...|1941-03-07|7301679c460c5f2a4...|1325609693|         41.174382|        -79.809888|       1|\n",
      "|  2019-01-03 18:07:01|4922710831011201| fraud_Pouros-Conroy| shopping_pos| 711.66|Heather| Chase|     F|6888 Hicks Stream...|        Manor|   PA|15665|40.3359| -79.6607|    1472|Public affairs co...|1941-03-07|d8daaffedc75c3e92...|1325614021|         41.207335|-78.84093299999999|       1|\n",
      "|  2019-01-03 22:09:00|4922710831011201|fraud_Johnson, Ru...|     misc_net|  707.5|Heather| Chase|     F|6888 Hicks Stream...|        Manor|   PA|15665|40.3359| -79.6607|    1472|Public affairs co...|1941-03-07|e366fd492cb7dfca3...|1325628540|         40.601968|        -78.768636|       1|\n",
      "|  2019-01-03 22:21:15|   4613314721966|    fraud_Fisher Inc| shopping_net| 942.62|  Jason|Murphy|     M|542 Steve Curve S...|Collettsville|   NC|28611|35.9946| -81.7266|     885|      Soil scientist|1988-09-15|41b9e040c87e3ec69...|1325629275|          35.76589|        -81.951839|       1|\n",
      "|  2019-01-03 22:58:44|4922710831011201|fraud_Mosciski Group|       travel|    4.5|Heather| Chase|     F|6888 Hicks Stream...|        Manor|   PA|15665|40.3359| -79.6607|    1472|Public affairs co...|1941-03-07|2751eef2242b86fba...|1325631524|         39.492341|        -78.859114|       1|\n",
      "|  2019-01-03 23:09:51|   4613314721966|fraud_Morissette PLC| shopping_pos| 821.96|  Jason|Murphy|     M|542 Steve Curve S...|Collettsville|   NC|28611|35.9946| -81.7266|     885|      Soil scientist|1988-09-15|b7941dbeaf57c1dd3...|1325632191|         35.772593|        -81.593183|       1|\n",
      "|  2019-01-03 23:29:57|   4613314721966| fraud_Lemke-Gutmann| shopping_net|1092.68|  Jason|Murphy|     M|542 Steve Curve S...|Collettsville|   NC|28611|35.9946| -81.7266|     885|      Soil scientist|1988-09-15|d7a512888741e0585...|1325633397|         36.981465|        -80.767836|       1|\n",
      "|  2019-01-03 23:41:36|   4613314721966|    fraud_Mohr-Bayer| shopping_net|1254.27|  Jason|Murphy|     M|542 Steve Curve S...|Collettsville|   NC|28611|35.9946| -81.7266|     885|      Soil scientist|1988-09-15|e8cd6d3df90834fe2...|1325634096|         36.105024|        -80.963186|       1|\n",
      "|  2019-01-03 23:44:42| 340187018810220|fraud_Moen, Reing...|  grocery_pos| 274.09|  Misty|  Hart|     F|27954 Hall Mill S...|  San Antonio|   TX|78208|  29.44|  -98.459| 1595797|Horticultural con...|1960-10-28|fdae36d3824101b50...|1325634282|         29.789989|        -97.996197|       1|\n",
      "|  2019-01-04 00:58:03| 341546199006537|fraud_Stokes, Chr...|  grocery_net|  14.37|   Mark| Brown|     M|     8580 Moore Cove|        Wales|   AK|99783|64.7556|-165.6723|     145|Administrator, ed...|1939-11-09|a3806e984cec6ac00...|1325638683| 65.65414200000001|       -164.722603|       1|\n",
      "+---------------------+----------------+--------------------+-------------+-------+-------+------+------+--------------------+-------------+-----+-----+-------+---------+--------+--------------------+----------+--------------------+----------+------------------+------------------+--------+\n",
      "only showing top 20 rows\n",
      "\n"
     ]
    }
   ],
   "source": [
    "fraud_df = df.filter(df.is_fraud == 1)\n",
    "fraud_df.show()\n"
   ]
  },
  {
   "cell_type": "markdown",
   "id": "fb099ff4-c20c-48c8-bb0a-9a93831d7287",
   "metadata": {},
   "source": [
    "what are the 10 most frequent merchants for fraudulant transactions"
   ]
  },
  {
   "cell_type": "code",
   "execution_count": 12,
   "id": "3905b7ea-dc85-4a29-a0f5-47851ee562d9",
   "metadata": {},
   "outputs": [
    {
     "name": "stdout",
     "output_type": "stream",
     "text": [
      "+--------------------+-----+\n",
      "|            Merchant|count|\n",
      "+--------------------+-----+\n",
      "|   fraud_Kilback LLC|   62|\n",
      "|  fraud_Rau and Sons|   60|\n",
      "|   fraud_Kozey-Boehm|   60|\n",
      "|     fraud_Doyle Ltd|   57|\n",
      "|    fraud_Terry-Huel|   56|\n",
      "|      fraud_Kuhn LLC|   55|\n",
      "|     fraud_Boyer PLC|   55|\n",
      "|     fraud_Kuhic LLC|   53|\n",
      "|fraud_Moen, Reing...|   53|\n",
      "|fraud_Kiehn-Emmerich|   53|\n",
      "+--------------------+-----+\n",
      "only showing top 10 rows\n",
      "\n"
     ]
    }
   ],
   "source": [
    "merchant_fraud_counts = fraud_df.groupBy(\"Merchant\").count().orderBy(\"count\", ascending=False).show(10)"
   ]
  },
  {
   "cell_type": "code",
   "execution_count": 16,
   "id": "5ebb30bd-d843-4e46-97b9-bfc17f6e8277",
   "metadata": {},
   "outputs": [
    {
     "name": "stdout",
     "output_type": "stream",
     "text": [
      "+-----+-----+\n",
      "|state|count|\n",
      "+-----+-----+\n",
      "|   NY| 1290|\n",
      "|   TX| 1287|\n",
      "|   PA| 1153|\n",
      "|   CA|  857|\n",
      "|   OH|  687|\n",
      "|   FL|  656|\n",
      "|   IL|  651|\n",
      "|   MI|  632|\n",
      "|   AL|  578|\n",
      "|   MO|  534|\n",
      "+-----+-----+\n",
      "only showing top 10 rows\n",
      "\n"
     ]
    }
   ],
   "source": [
    "state_transaction_counts = df.groupBy(\"state\").count().orderBy(\"count\", ascending=False).show(10)"
   ]
  },
  {
   "cell_type": "code",
   "execution_count": 14,
   "id": "ed2f37ad-b8d6-492e-bd8d-0696a6da44ba",
   "metadata": {},
   "outputs": [
    {
     "ename": "NameError",
     "evalue": "name 'col' is not defined",
     "output_type": "error",
     "traceback": [
      "\u001b[31m---------------------------------------------------------------------------\u001b[39m",
      "\u001b[31mNameError\u001b[39m                                 Traceback (most recent call last)",
      "\u001b[36mCell\u001b[39m\u001b[36m \u001b[39m\u001b[32mIn[14]\u001b[39m\u001b[32m, line 1\u001b[39m\n\u001b[32m----> \u001b[39m\u001b[32m1\u001b[39m state_transaction_counts = df.groupBy(\u001b[33m\"\u001b[39m\u001b[33mstate\u001b[39m\u001b[33m\"\u001b[39m).agg({\u001b[33m\"\u001b[39m\u001b[33mtrans_num\u001b[39m\u001b[33m\"\u001b[39m: \u001b[33m\"\u001b[39m\u001b[33mcount\u001b[39m\u001b[33m\"\u001b[39m}).withColumnRenamed(\u001b[33m\"\u001b[39m\u001b[33mcount(trans_num)\u001b[39m\u001b[33m\"\u001b[39m, \u001b[33m\"\u001b[39m\u001b[33mTransaction_Count\u001b[39m\u001b[33m\"\u001b[39m).orderBy(\u001b[43mcol\u001b[49m(\u001b[33m\"\u001b[39m\u001b[33mTransaction_Count\u001b[39m\u001b[33m\"\u001b[39m), ascending=\u001b[38;5;28;01mFalse\u001b[39;00m).show(\u001b[32m5\u001b[39m)\n",
      "\u001b[31mNameError\u001b[39m: name 'col' is not defined"
     ]
    }
   ],
   "source": [
    "state_transaction_counts = df.groupBy(\"state\").agg({\"trans_num\": \"count\"}).withColumnRenamed(\"count(trans_num)\", \"Transaction_Count\").orderBy(col(\"Transaction_Count\"), ascending=False).show(5)"
   ]
  },
  {
   "cell_type": "code",
   "execution_count": 25,
   "id": "1d8a3f84-7eef-4619-84eb-74b46dc4c3cd",
   "metadata": {},
   "outputs": [],
   "source": [
    "from pyspark.sql.functions import col, when, avg, year, months_between"
   ]
  },
  {
   "cell_type": "code",
   "execution_count": 42,
   "id": "c9637a48-59f6-441b-8047-df5b58004ecc",
   "metadata": {},
   "outputs": [
    {
     "name": "stdout",
     "output_type": "stream",
     "text": [
      "+---------+-----+\n",
      "|age_group|count|\n",
      "+---------+-----+\n",
      "|    18-25| 1759|\n",
      "|    26-35| 4057|\n",
      "|    46-55| 3822|\n",
      "|    36-45| 3490|\n",
      "|    56-65| 2842|\n",
      "|      66+| 3332|\n",
      "+---------+-----+\n",
      "\n",
      "+---------+------------------+\n",
      "|age_group|      avg_spending|\n",
      "+---------+------------------+\n",
      "|    18-25| 335.2217907902219|\n",
      "|    26-35| 266.2523638156277|\n",
      "|    46-55|  296.649068550497|\n",
      "|    36-45|248.35661604584544|\n",
      "|    56-65| 338.6428888106971|\n",
      "|      66+|344.00427070828346|\n",
      "+---------+------------------+\n",
      "\n"
     ]
    }
   ],
   "source": [
    "df_age = df.withColumn(\"age\", year(col(\"trans_date_trans_time\")) - year(col(\"dob\")))\n",
    "df_age = df_age.withColumn(\"age_group\",\n",
    "    when(col(\"age\").between(18, 25), \"18-25\")\n",
    "    .when(col(\"age\").between(26, 35), \"26-35\")\n",
    "    .when(col(\"age\").between(36, 45), \"36-45\")\n",
    "    .when(col(\"age\").between(46, 55), \"46-55\")\n",
    "    .when(col(\"age\").between(56, 65), \"56-65\")\n",
    "    .otherwise(\"66+\")\n",
    ")\n",
    "age_group_count = df_age.groupBy(\"age_group\").count()\n",
    "age_group_count.show()\n",
    "age_spending_df = df_age.groupBy(\"age_group\").agg(avg(\"amt\").alias(\"avg_spending\"))\n",
    "age_spending_df.show()"
   ]
  },
  {
   "cell_type": "code",
   "execution_count": 17,
   "id": "e84ebf22-ce8f-4d35-b4e8-9762dd6e0148",
   "metadata": {},
   "outputs": [],
   "source": [
    "from pyspark.sql.functions  import year,current_date"
   ]
  },
  {
   "cell_type": "code",
   "execution_count": 39,
   "id": "c42a328d-5bbf-4dcb-87c0-80214647d6b2",
   "metadata": {},
   "outputs": [],
   "source": [
    "from pyspark.sql.functions import col, when, avg"
   ]
  },
  {
   "cell_type": "code",
   "execution_count": 41,
   "id": "0ab152bd-14ba-4834-a8bd-652462fa867f",
   "metadata": {},
   "outputs": [
    {
     "name": "stdout",
     "output_type": "stream",
     "text": [
      "+----------+-----+-------+------+---------------+\n",
      "|       dob|first|   last|   amt|age_transaction|\n",
      "+----------+-----+-------+------+---------------+\n",
      "|1950-11-27|Aaron|   Pena| 285.8|             75|\n",
      "|1950-11-27|Aaron|   Pena|  7.64|             75|\n",
      "|1950-11-27|Aaron|   Pena|960.14|             75|\n",
      "|1974-12-23|Aaron| Murray|719.82|             51|\n",
      "|1950-11-27|Aaron|   Pena|1060.9|             75|\n",
      "|1945-03-15|Aaron| Rogers| 23.81|             80|\n",
      "|1950-11-27|Aaron|   Pena|890.94|             75|\n",
      "|1974-12-23|Aaron| Murray| 49.98|             51|\n",
      "|1950-11-27|Aaron|   Pena| 915.2|             75|\n",
      "|1974-12-23|Aaron| Murray| 50.14|             51|\n",
      "|1950-11-27|Aaron|   Pena|773.33|             75|\n",
      "|1945-03-15|Aaron| Rogers| 61.35|             80|\n",
      "|1950-11-27|Aaron|   Pena|751.72|             75|\n",
      "|1945-03-15|Aaron| Rogers| 64.56|             80|\n",
      "|1950-11-27|Aaron|   Pena|  1.31|             75|\n",
      "|1995-04-22|Aaron|Stewart| 90.27|             30|\n",
      "|1945-03-15|Aaron| Rogers| 85.05|             80|\n",
      "|1945-03-15|Aaron| Rogers|  1.56|             80|\n",
      "|1974-12-23|Aaron| Murray| 92.14|             51|\n",
      "|1950-11-27|Aaron|   Pena|110.62|             75|\n",
      "+----------+-----+-------+------+---------------+\n",
      "only showing top 20 rows\n",
      "\n"
     ]
    }
   ],
   "source": [
    "df_age_find=df.select(\"dob\",\"first\",\"last\",\"amt\", (year(current_date())-year(col(\"dob\"))).alias(\"age_transaction\")).orderBy(\"first\")\n",
    "df_age_find.show()"
   ]
  },
  {
   "cell_type": "code",
   "execution_count": 42,
   "id": "f913ef7b-1dde-4ed0-8733-6b1762c1e863",
   "metadata": {},
   "outputs": [],
   "source": [
    "df_age = df_age_find.withColumn(\"age_group\",\n",
    "    when(col(\"age_transaction\").between(18, 25), \"18-25\")\n",
    "    .when(col(\"age_transaction\").between(26, 35), \"26-35\")\n",
    "    .when(col(\"age_transaction\").between(36, 45), \"36-45\")\n",
    "    .when(col(\"age_transaction\").between(46, 55), \"46-55\")\n",
    "    .when(col(\"age_transaction\").between(56, 65), \"56-65\")\n",
    "    .otherwise(\"66+\")\n",
    ")\n"
   ]
  },
  {
   "cell_type": "code",
   "execution_count": 43,
   "id": "0fcad69e-06bb-47ca-9595-0d2bdb9b3660",
   "metadata": {},
   "outputs": [
    {
     "name": "stdout",
     "output_type": "stream",
     "text": [
      "+---------+-----+\n",
      "|age_group|count|\n",
      "+---------+-----+\n",
      "|    18-25|  405|\n",
      "|    26-35| 3084|\n",
      "|    46-55| 3986|\n",
      "|    36-45| 3985|\n",
      "|    56-65| 3222|\n",
      "|      66+| 4620|\n",
      "+---------+-----+\n",
      "\n"
     ]
    }
   ],
   "source": [
    "age_group_count = df_age.groupBy(\"age_group\").count()\n",
    "age_group_count.show()\n"
   ]
  },
  {
   "cell_type": "code",
   "execution_count": 44,
   "id": "8b9e4a85-d63a-4d9b-9d77-4c65f1456bef",
   "metadata": {},
   "outputs": [
    {
     "name": "stdout",
     "output_type": "stream",
     "text": [
      "+---------+------------------+\n",
      "|age_group|      avg_spending|\n",
      "+---------+------------------+\n",
      "|    18-25|341.13350617283965|\n",
      "|    26-35| 300.2741893644618|\n",
      "|    46-55|244.01207727044675|\n",
      "|    36-45| 256.7721430363862|\n",
      "|    56-65| 354.1269646182494|\n",
      "|      66+|341.55254112554127|\n",
      "+---------+------------------+\n",
      "\n"
     ]
    }
   ],
   "source": [
    "\n",
    "age_spending_df = df_age.groupBy(\"age_group\").agg(avg(\"amt\").alias(\"avg_spending\"))\n",
    "age_spending_df.show()"
   ]
  },
  {
   "cell_type": "code",
   "execution_count": null,
   "id": "00d4e3f3-33e9-4f11-bd15-a7b9a2e2d980",
   "metadata": {},
   "outputs": [],
   "source": []
  }
 ],
 "metadata": {
  "kernelspec": {
   "display_name": "PySpark",
   "language": "python",
   "name": "pyspark"
  },
  "language_info": {
   "codemirror_mode": {
    "name": "ipython",
    "version": 3
   },
   "file_extension": ".py",
   "mimetype": "text/x-python",
   "name": "python",
   "nbconvert_exporter": "python",
   "pygments_lexer": "ipython3",
   "version": "3.11.0"
  }
 },
 "nbformat": 4,
 "nbformat_minor": 5
}
