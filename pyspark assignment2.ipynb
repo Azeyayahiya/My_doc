{
 "cells": [
  {
   "cell_type": "code",
   "execution_count": 1,
   "id": "a8d0ff26-5782-4536-8aad-d1d45b9e8fdf",
   "metadata": {},
   "outputs": [],
   "source": [
    "import findspark\n",
    "findspark.init()\n",
    "from pyspark.sql import SparkSession\n",
    "spark=SparkSession.builder \\\n",
    "    .appName(\"myapp\") \\\n",
    "    .master(\"local[*]\")\\\n",
    "    .getOrCreate()"
   ]
  },
  {
   "cell_type": "code",
   "execution_count": 2,
   "id": "3ceabd4a-1b6a-40e1-8221-9869d1a8fd98",
   "metadata": {},
   "outputs": [],
   "source": [
    "sc=spark.sparkContext"
   ]
  },
  {
   "cell_type": "code",
   "execution_count": 3,
   "id": "2d3e6fe7-2d6b-4a73-94e3-576c06ef2298",
   "metadata": {},
   "outputs": [
    {
     "name": "stdout",
     "output_type": "stream",
     "text": [
      "+---------------+---------------+--------+----------+---+---------+-----------------+-----------+---------------+-----+-----------+-------------+---------------+-----+------+--------+--------+-----+-------------+---------+---------+---------+----------+----------+-----------+--------------+---------------+---------+----------+------------+--------+----------+---------+\n",
      "|     Start_time|       End_time|    Name|    Mobile|Age|Pin-Codes|           Source|Vaccine_cus|    Destination|Miles|Est_Costing|Ride_category|        Purpose| temp|clouds|pressure|humidity| wind|accquire_vehi|free_vehi|Lattitute|Longitude|locationID|rating_cus|Riders_Name|Riders_contact|Trusted_Contact|Rating_RI|Vaccine_Ri|Payment_mode|Discount|Final_cost|   Status|\n",
      "+---------------+---------------+--------+----------+---+---------+-----------------+-----------+---------------+-----+-----------+-------------+---------------+-----+------+--------+--------+-----+-------------+---------+---------+---------+----------+----------+-----------+--------------+---------------+---------+----------+------------+--------+----------+---------+\n",
      "| 1/1/2016 21:11| 1/1/2016 21:17|  Almire|9298608912| 21|   318886|      Fort Pierce|        YES|    Fort Pierce|  5.1|      49.98|         Bike| Meal/Entertain|42.42|   1.0| 1012.14|    0.77|11.25|           26|       17|   40.769| -73.9549|       141|         3|    Johanna|    9181026109|            YES|      3.6|       YES|        Gpay|      0%|     49.98|Cancelled|\n",
      "| 1/2/2016 20:25| 1/2/2016 20:38| Frazier|8621617385| 27|   318886|      Fort Pierce|        YES|    Fort Pierce|  4.8|      47.04|         Bike|Errand/Supplies|42.43|   1.0| 1012.15|    0.76|11.32|           45|       24|  40.7267| -74.0345|        65|         4|    Charlot|    9855403124|            YES|      4.5|       YES|      Phonpe|      0%|     47.04|  Arrived|\n",
      "| 1/5/2016 17:31| 1/5/2016 17:45|  Editha|9954004976| 20|   318886|      Fort Pierce|        YES|    Fort Pierce|  4.7|      46.06|         Bike|        Meeting| 42.5|   1.0| 1012.15|    0.76|11.07|          731|       36|  40.7316| -73.9873|       100|         5|      Cissy|    9328907059|            YES|      4.8|       YES|       Paytm|      0%|     46.06| Assigned|\n",
      "| 1/6/2016 14:42| 1/6/2016 15:49|   Deeyn|9885727873| 34|   318886|      Fort Pierce|        YES|West Palm Beach| 63.7|     624.26|         Bike| Customer Visit|42.11|   1.0| 1012.13|    0.77|11.09|           10|        9|  40.7588| -73.9776|        80|         2|     Luelle|    9774674359|             NO|      4.9|       YES| Uber wallet|     10%|   561.834| Assigned|\n",
      "| 1/6/2016 17:15| 1/6/2016 17:19|  Correy|9661756645| 28|   475241|  West Palm Beach|         NO|West Palm Beach|  4.3|      42.14|         Bike| Meal/Entertain|43.13|   1.0| 1012.14|    0.75|11.49|          814|       62|  40.7594| -73.9722|        90|         3|      Myrle|    9425892986|             NO|      5.0|        NO|        cash|      0%|     42.14| Assigned|\n",
      "| 1/6/2016 17:30| 1/6/2016 17:35|   Bryan|8721880095| 50|   475241|  West Palm Beach|        YES|     Palm Beach|  7.1|      69.58|         Bike|        Meeting|42.34|   1.0| 1012.15|    0.77|11.49|          220|       46|  40.7383| -74.0403|       228|         4|     Duncan|    9611855033|            YES|      3.0|       YES| Uber wallet|     10%|    62.622|  Arrived|\n",
      "| 1/7/2016 13:27| 1/7/2016 13:33|  Crissy|8579258893| 68|   265814|             Cary|        YES|           Cary|  0.8|       7.84|         Bike|        Meeting|42.36|   1.0| 1012.15|    0.77|11.46|           36|       28|  40.7223| -73.9887|         7|         5|     Carine|    9700998304|            YES|      3.6|       YES| Uber wallet|     10%|     7.056| Assigned|\n",
      "| 1/10/2016 8:05| 1/10/2016 8:25|  Kendre|8900099665| 31|   265814|             Cary|        YES|    Morrisville|  8.3|      81.34|         Bike|        Meeting|42.21|   1.0| 1012.16|    0.77|11.37|         1137|      106|   40.762|  -73.979|        74|         5|   Collette|    9212537431|            YES|      3.9|       YES| Uber wallet|     10%|    73.206| Assigned|\n",
      "|1/10/2016 12:17|1/10/2016 12:44|   Aymer|9918333307| 47|   386077|          Jamaica|        YES|       New York| 16.5|      161.7|         Bike| Customer Visit|42.07|   1.0| 1012.12|    0.78|11.28|          236|      103|  40.7524|  -73.996|       249|         5|     Killie|    9426616674|             NO|      4.2|       YES| Uber wallet|     10%|    145.53|  Arrived|\n",
      "|1/10/2016 15:08|1/10/2016 15:51|  Gabbey|9050095157| 59|   125733|         New York|         NO|         Queens| 10.8|     105.84|         Bike|        Meeting|43.05|   1.0| 1012.12|    0.75|11.58|           47|       29|  40.7575| -73.9846|        22|         4|    Ellette|    8949025277|             NO|      4.8|        NO|        cash|      0%|    105.84| Assigned|\n",
      "|1/10/2016 18:18|1/10/2016 18:53|   Cammi|7884885405| 19|   646882|         Elmhurst|        YES|       New York|  7.5|       73.5|         Bike|        Meeting|42.09|   1.0| 1012.13|    0.78|11.41|         1792|      119|  40.7256| -73.9869|       263|         4|      Amara|    9247349792|            YES|      3.6|       YES|        Gpay|      0%|      73.5| Assigned|\n",
      "|1/10/2016 19:12|1/10/2016 19:32| Carlyle|8333928562| 22|   625132|          Midtown|        YES|    East Harlem|  6.2|      60.76|         Bike|        Meeting|43.28|  0.81|  990.81|    0.71|  8.3|           23|       13|  40.7591| -73.9684|        61|         3|     Ashlee|    9332965757|            YES|      4.5|       YES|        Gpay|      0%|     60.76|  Arrived|\n",
      "| 1/11/2016 8:55| 1/11/2016 9:21|Zedekiah|8283676665| 74|   210314|      East Harlem|        YES|          NoMad|  6.4|      62.72|         Bike| Temporary Site|43.27|   0.8|   990.8|    0.71|  8.3|           83|       20|  40.7271| -73.9803|       229|         3|        Kim|    9267421665|            YES|      4.8|       YES|      Phonpe|      0%|     62.72| Assigned|\n",
      "|1/11/2016 11:56|1/11/2016 12:03|   Sioux|8362408033| 75|   484320|Flatiron District|        YES|        Midtown|  1.6|      15.68|         Bike|Errand/Supplies|43.35|  0.82|  990.82|    0.71| 8.24|         1846|       86|  40.6463| -73.7896|       164|         5|      Jacky|    9472034451|             NO|      4.9|       YES|       Paytm|      0%|     15.68|  Arrived|\n",
      "|1/11/2016 13:32|1/11/2016 13:46| Mathian|9734846586| 62|   625132|          Midtown|         NO|   Midtown East|  1.7|      16.66|         Bike| Meal/Entertain|43.07|  0.82|  990.82|    0.72| 8.28|           57|       39|  40.7564| -73.9167|       237|         5|     Mikkel|    9117822322|             NO|      5.0|        NO| Uber wallet|     10%|    14.994|  Arrived|\n",
      "|1/11/2016 14:30|1/11/2016 14:43|  Maggie|7951534876| 36|   491563|     Midtown East|        YES|        Midtown|  1.9|      18.62|         Bike| Meal/Entertain|43.35|   0.8|   990.8|    0.71| 8.35|            9|        8|  40.7666| -73.9531|       142|         4|       Geri|    9738692778|            YES|      3.0|       YES|        cash|      0%|     18.62|  Arrived|\n",
      "|1/12/2016 12:33|1/12/2016 12:49| Maurice|7932768286| 40|   625132|          Midtown|        YES|  Hudson Square|  1.9|      18.62|         Bike| Meal/Entertain| 43.2|   0.8|  990.79|    0.71| 8.31|            4|        2|   40.758| -73.9761|       188|         5|  Stanislas|    9564616492|            YES|      3.6|       YES| Uber wallet|     10%|    16.758| Assigned|\n",
      "|1/12/2016 12:53|1/12/2016 13:09|    Timi|9323566102| 35|   509117|    Hudson Square|        YES|Lower Manhattan|  4.0|       39.2|         Bike| Meal/Entertain|43.24|   0.8|  990.79|    0.71| 8.32|           81|       37|  40.7238| -73.9821|       237|         5|       Yvon|    9985025265|            YES|      3.9|       YES| Uber wallet|     10%|     35.28|  Arrived|\n",
      "|1/12/2016 14:42|1/12/2016 14:56|   Janey|8572258661| 55|   223672|  Lower Manhattan|        YES|  Hudson Square|  1.8|      17.64|         Bike|Errand/Supplies|41.95|  0.81|  991.63|    0.73|10.87|         1765|      579|  40.7531| -74.0039|       224|         5|      Jaine|    9593730071|             NO|      4.2|       YES| Uber wallet|     10%|    15.876| Assigned|\n",
      "|1/12/2016 15:13|1/12/2016 15:28| Huntlee|9974250697| 32|   318886|      Fort Pierce|         NO| Hell's Kitchen|  2.4|      23.52|         Bike| Customer Visit|43.05|  0.81|  990.82|    0.72| 8.31|          766|       65|  40.7389| -74.0393|       238|         5|       Abbi|    9652057745|             NO|      4.8|        NO| Uber wallet|     10%|    21.168| Assigned|\n",
      "+---------------+---------------+--------+----------+---+---------+-----------------+-----------+---------------+-----+-----------+-------------+---------------+-----+------+--------+--------+-----+-------------+---------+---------+---------+----------+----------+-----------+--------------+---------------+---------+----------+------------+--------+----------+---------+\n",
      "only showing top 20 rows\n",
      "\n"
     ]
    }
   ],
   "source": [
    "data1=spark.read.csv('Admin_data.csv',header=True,inferSchema=True,mode=\"DROPMALFORMED\")\n",
    "data1.show()"
   ]
  },
  {
   "cell_type": "code",
   "execution_count": 4,
   "id": "def14abf-0863-4e5e-ad64-99f5758efbd5",
   "metadata": {},
   "outputs": [
    {
     "data": {
      "text/plain": [
       "500"
      ]
     },
     "execution_count": 4,
     "metadata": {},
     "output_type": "execute_result"
    }
   ],
   "source": [
    "data1.count()"
   ]
  },
  {
   "cell_type": "code",
   "execution_count": 5,
   "id": "68ddba71-e437-45c2-8caf-72011ca2ae89",
   "metadata": {},
   "outputs": [
    {
     "name": "stdout",
     "output_type": "stream",
     "text": [
      "+---------------+---------------+-----------+-------------------+-------------+-------+-----------------+---------------+-------------+---------+------------+---------------+--------------+----------------------+---------+----------------+------------+--------------+----------------+--------+-----------+\n",
      "|Pickup DateTime|  Drop DateTime|Driver Name|Driver Phone Number|Trip Distance|Trip ID|  Pickup Location|  Drop Location|Trip Duration|Trip Fare|Vehicle Type|   Trip Purpose|Passenger Name|Passenger Phone Number|Scheduled|Passenger Rating|Driver Rated|Payment Method|Payment Discount|Net Fare|Trip Status|\n",
      "+---------------+---------------+-----------+-------------------+-------------+-------+-----------------+---------------+-------------+---------+------------+---------------+--------------+----------------------+---------+----------------+------------+--------------+----------------+--------+-----------+\n",
      "| 1/1/2016 21:11| 1/1/2016 21:17|     Almire|         9298608912|           21| 318886|      Fort Pierce|    Fort Pierce|          5.1|    49.98|        Bike| Meal/Entertain|       Johanna|            9181026109|      YES|             3.6|         YES|          Gpay|              0%|   49.98|  Cancelled|\n",
      "| 1/2/2016 20:25| 1/2/2016 20:38|    Frazier|         8621617385|           27| 318886|      Fort Pierce|    Fort Pierce|          4.8|    47.04|        Bike|Errand/Supplies|       Charlot|            9855403124|      YES|             4.5|         YES|        Phonpe|              0%|   47.04|    Arrived|\n",
      "| 1/5/2016 17:31| 1/5/2016 17:45|     Editha|         9954004976|           20| 318886|      Fort Pierce|    Fort Pierce|          4.7|    46.06|        Bike|        Meeting|         Cissy|            9328907059|      YES|             4.8|         YES|         Paytm|              0%|   46.06|   Assigned|\n",
      "| 1/6/2016 14:42| 1/6/2016 15:49|      Deeyn|         9885727873|           34| 318886|      Fort Pierce|West Palm Beach|         63.7|   624.26|        Bike| Customer Visit|        Luelle|            9774674359|       NO|             4.9|         YES|   Uber wallet|             10%| 561.834|   Assigned|\n",
      "| 1/6/2016 17:15| 1/6/2016 17:19|     Correy|         9661756645|           28| 475241|  West Palm Beach|West Palm Beach|          4.3|    42.14|        Bike| Meal/Entertain|         Myrle|            9425892986|       NO|             5.0|          NO|          cash|              0%|   42.14|   Assigned|\n",
      "| 1/6/2016 17:30| 1/6/2016 17:35|      Bryan|         8721880095|           50| 475241|  West Palm Beach|     Palm Beach|          7.1|    69.58|        Bike|        Meeting|        Duncan|            9611855033|      YES|             3.0|         YES|   Uber wallet|             10%|  76.538|    Arrived|\n",
      "| 1/7/2016 13:27| 1/7/2016 13:33|     Crissy|         8579258893|           68| 265814|             Cary|           Cary|          0.8|     7.84|        Bike|        Meeting|        Carine|            9700998304|      YES|             3.6|         YES|   Uber wallet|             10%|   8.624|   Assigned|\n",
      "| 1/10/2016 8:05| 1/10/2016 8:25|     Kendre|         8900099665|           31| 265814|             Cary|    Morrisville|          8.3|    81.34|        Bike|        Meeting|      Collette|            9212537431|      YES|             3.9|         YES|   Uber wallet|             10%|  89.474|   Assigned|\n",
      "|1/10/2016 12:17|1/10/2016 12:44|      Aymer|         9918333307|           47| 386077|          Jamaica|       New York|         16.5|    161.7|        Bike| Customer Visit|        Killie|            9426616674|       NO|             4.2|         YES|   Uber wallet|             10%|  177.87|    Arrived|\n",
      "|1/10/2016 15:08|1/10/2016 15:51|     Gabbey|         9050095157|           59| 125733|         New York|         Queens|         10.8|   105.84|        Bike|        Meeting|       Ellette|            8949025277|       NO|             4.8|          NO|          cash|              0%|  105.84|   Assigned|\n",
      "|1/10/2016 18:18|1/10/2016 18:53|      Cammi|         7884885405|           19| 646882|         Elmhurst|       New York|          7.5|     73.5|        Bike|        Meeting|         Amara|            9247349792|      YES|             3.6|         YES|          Gpay|              0%|    73.5|   Assigned|\n",
      "|1/10/2016 19:12|1/10/2016 19:32|    Carlyle|         8333928562|           22| 625132|          Midtown|    East Harlem|          6.2|    60.76|        Bike|        Meeting|        Ashlee|            9332965757|      YES|             4.5|         YES|          Gpay|              0%|   60.76|    Arrived|\n",
      "| 1/11/2016 8:55| 1/11/2016 9:21|   Zedekiah|         8283676665|           74| 210314|      East Harlem|          NoMad|          6.4|    62.72|        Bike| Temporary Site|           Kim|            9267421665|      YES|             4.8|         YES|        Phonpe|              0%|   62.72|   Assigned|\n",
      "|1/11/2016 11:56|1/11/2016 12:03|      Sioux|         8362408033|           75| 484320|Flatiron District|        Midtown|          1.6|    15.68|        Bike|Errand/Supplies|         Jacky|            9472034451|       NO|             4.9|         YES|         Paytm|              0%|   15.68|    Arrived|\n",
      "|1/11/2016 13:32|1/11/2016 13:46|    Mathian|         9734846586|           62| 625132|          Midtown|   Midtown East|          1.7|    16.66|        Bike| Meal/Entertain|        Mikkel|            9117822322|       NO|             5.0|          NO|   Uber wallet|             10%|  14.994|    Arrived|\n",
      "|1/11/2016 14:30|1/11/2016 14:43|     Maggie|         7951534876|           36| 491563|     Midtown East|        Midtown|          1.9|    18.62|        Bike| Meal/Entertain|          Geri|            9738692778|      YES|             3.0|         YES|          cash|              0%|   18.62|    Arrived|\n",
      "|1/12/2016 12:33|1/12/2016 12:49|    Maurice|         7932768286|           40| 625132|          Midtown|  Hudson Square|          1.9|    18.62|        Bike| Meal/Entertain|     Stanislas|            9564616492|      YES|             3.6|         YES|   Uber wallet|             10%|  20.482|   Assigned|\n",
      "|1/12/2016 12:53|1/12/2016 13:09|       Timi|         9323566102|           35| 509117|    Hudson Square|Lower Manhattan|          4.0|     39.2|        Bike| Meal/Entertain|          Yvon|            9985025265|      YES|             3.9|         YES|   Uber wallet|             10%|   43.12|    Arrived|\n",
      "|1/12/2016 14:42|1/12/2016 14:56|      Janey|         8572258661|           55| 223672|  Lower Manhattan|  Hudson Square|          1.8|    17.64|        Bike|Errand/Supplies|         Jaine|            9593730071|       NO|             4.2|         YES|   Uber wallet|             10%|  19.404|   Assigned|\n",
      "|1/12/2016 15:13|1/12/2016 15:28|    Huntlee|         9974250697|           32| 318886|      Fort Pierce| Hell's Kitchen|          2.4|    23.52|        Bike| Customer Visit|          Abbi|            9652057745|       NO|             4.8|          NO|   Uber wallet|             10%|  25.872|   Assigned|\n",
      "+---------------+---------------+-----------+-------------------+-------------+-------+-----------------+---------------+-------------+---------+------------+---------------+--------------+----------------------+---------+----------------+------------+--------------+----------------+--------+-----------+\n",
      "only showing top 20 rows\n",
      "\n"
     ]
    }
   ],
   "source": [
    "data2=spark.read.csv(\"Customer_table.csv\",header=True,inferSchema=True,mode=\"DROPMALFORMED\")\n",
    "data2.show()"
   ]
  },
  {
   "cell_type": "code",
   "execution_count": 6,
   "id": "02972d5c-6366-4ddc-92bd-5fb023331cdb",
   "metadata": {},
   "outputs": [
    {
     "data": {
      "text/plain": [
       "500"
      ]
     },
     "execution_count": 6,
     "metadata": {},
     "output_type": "execute_result"
    }
   ],
   "source": [
    "data2.count()"
   ]
  },
  {
   "cell_type": "code",
   "execution_count": 7,
   "id": "25d3478d-d09e-47fe-8255-e9c38945a487",
   "metadata": {},
   "outputs": [
    {
     "name": "stdout",
     "output_type": "stream",
     "text": [
      "+---------------+---------------+--------+----------+---+------+-----------------+---------------+----+------+----+---------+----------+---+---+-----+-----+-----------+---+-------+---------+\n",
      "| 1/1/2016 21:11| 1/1/2016 21:17|  Almire|9298608912| 21|318886|     Fort Pierce6|   Fort Pierce7| 5.1|49.989|Bike|  Johanna|9181026109|  3|141|YES15|YES16|       Gpay| 0%|49.9819|Cancelled|\n",
      "+---------------+---------------+--------+----------+---+------+-----------------+---------------+----+------+----+---------+----------+---+---+-----+-----+-----------+---+-------+---------+\n",
      "| 1/2/2016 20:25| 1/2/2016 20:38| Frazier|8621617385| 27|318886|      Fort Pierce|    Fort Pierce| 4.8| 47.04|Bike|  Charlot|9855403124|  4| 65|  YES|  YES|     Phonpe| 0%|  47.04|  Arrived|\n",
      "| 1/5/2016 17:31| 1/5/2016 17:45|  Editha|9954004976| 20|318886|      Fort Pierce|    Fort Pierce| 4.7| 46.06|Bike|    Cissy|9328907059|  5|100|  YES|  YES|      Paytm| 0%|  46.06| Assigned|\n",
      "| 1/6/2016 14:42| 1/6/2016 15:49|   Deeyn|9885727873| 34|318886|      Fort Pierce|West Palm Beach|63.7|624.26|Bike|   Luelle|9774674359|  2| 80|   NO|  YES|Uber wallet|10%|561.834| Assigned|\n",
      "| 1/6/2016 17:15| 1/6/2016 17:19|  Correy|9661756645| 28|475241|  West Palm Beach|West Palm Beach| 4.3| 42.14|Bike|    Myrle|9425892986|  3| 90|   NO|   NO|       cash| 0%|  42.14| Assigned|\n",
      "| 1/6/2016 17:30| 1/6/2016 17:35|   Bryan|8721880095| 50|475241|  West Palm Beach|     Palm Beach| 7.1| 69.58|Bike|   Duncan|9611855033|  4|228|  YES|  YES|Uber wallet|10%| 62.622|  Arrived|\n",
      "| 1/7/2016 13:27| 1/7/2016 13:33|  Crissy|8579258893| 68|265814|             Cary|           Cary| 0.8|  7.84|Bike|   Carine|9700998304|  5|  7|  YES|  YES|Uber wallet|10%|  7.056| Assigned|\n",
      "| 1/10/2016 8:05| 1/10/2016 8:25|  Kendre|8900099665| 31|265814|             Cary|    Morrisville| 8.3| 81.34|Bike| Collette|9212537431|  5| 74|  YES|  YES|Uber wallet|10%| 73.206| Assigned|\n",
      "|1/10/2016 12:17|1/10/2016 12:44|   Aymer|9918333307| 47|386077|          Jamaica|       New York|16.5| 161.7|Bike|   Killie|9426616674|  5|249|   NO|  YES|Uber wallet|10%| 145.53|  Arrived|\n",
      "|1/10/2016 15:08|1/10/2016 15:51|  Gabbey|9050095157| 59|125733|         New York|         Queens|10.8|105.84|Bike|  Ellette|8949025277|  4| 22|   NO|   NO|       cash| 0%| 105.84| Assigned|\n",
      "|1/10/2016 18:18|1/10/2016 18:53|   Cammi|7884885405| 19|646882|         Elmhurst|       New York| 7.5|  73.5|Bike|    Amara|9247349792|  4|263|  YES|  YES|       Gpay| 0%|   73.5| Assigned|\n",
      "|1/10/2016 19:12|1/10/2016 19:32| Carlyle|8333928562| 22|625132|          Midtown|    East Harlem| 6.2| 60.76|Bike|   Ashlee|9332965757|  3| 61|  YES|  YES|       Gpay| 0%|  60.76|  Arrived|\n",
      "| 1/11/2016 8:55| 1/11/2016 9:21|Zedekiah|8283676665| 74|210314|      East Harlem|          NoMad| 6.4| 62.72|Bike|      Kim|9267421665|  3|229|  YES|  YES|     Phonpe| 0%|  62.72| Assigned|\n",
      "|1/11/2016 11:56|1/11/2016 12:03|   Sioux|8362408033| 75|484320|Flatiron District|        Midtown| 1.6| 15.68|Bike|    Jacky|9472034451|  5|164|   NO|  YES|      Paytm| 0%|  15.68|  Arrived|\n",
      "|1/11/2016 13:32|1/11/2016 13:46| Mathian|9734846586| 62|625132|          Midtown|   Midtown East| 1.7| 16.66|Bike|   Mikkel|9117822322|  5|237|   NO|   NO|Uber wallet|10%| 14.994|  Arrived|\n",
      "|1/11/2016 14:30|1/11/2016 14:43|  Maggie|7951534876| 36|491563|     Midtown East|        Midtown| 1.9| 18.62|Bike|     Geri|9738692778|  4|142|  YES|  YES|       cash| 0%|  18.62|  Arrived|\n",
      "|1/12/2016 12:33|1/12/2016 12:49| Maurice|7932768286| 40|625132|          Midtown|  Hudson Square| 1.9| 18.62|Bike|Stanislas|9564616492|  5|188|  YES|  YES|Uber wallet|10%| 16.758| Assigned|\n",
      "|1/12/2016 12:53|1/12/2016 13:09|    Timi|9323566102| 35|509117|    Hudson Square|Lower Manhattan| 4.0|  39.2|Bike|     Yvon|9985025265|  5|237|  YES|  YES|Uber wallet|10%|  35.28|  Arrived|\n",
      "|1/12/2016 14:42|1/12/2016 14:56|   Janey|8572258661| 55|223672|  Lower Manhattan|  Hudson Square| 1.8| 17.64|Bike|    Jaine|9593730071|  5|224|   NO|  YES|Uber wallet|10%| 15.876| Assigned|\n",
      "|1/12/2016 15:13|1/12/2016 15:28| Huntlee|9974250697| 32|318886|      Fort Pierce| Hell's Kitchen| 2.4| 23.52|Bike|     Abbi|9652057745|  5|238|   NO|   NO|Uber wallet|10%| 21.168| Assigned|\n",
      "|1/12/2016 15:42|1/12/2016 15:54|  Evania|9370194252| 66|318886|      Fort Pierce|        Midtown| 2.0|  19.6|Bike|     Mair|9111821429|  5|242|  YES|  YES|       cash| 0%|   19.6|Cancelled|\n",
      "+---------------+---------------+--------+----------+---+------+-----------------+---------------+----+------+----+---------+----------+---+---+-----+-----+-----------+---+-------+---------+\n",
      "only showing top 20 rows\n",
      "\n"
     ]
    },
    {
     "data": {
      "text/plain": [
       "499"
      ]
     },
     "execution_count": 7,
     "metadata": {},
     "output_type": "execute_result"
    }
   ],
   "source": [
    "data3=spark.read.csv(\"Riders_data.csv\",header=True,inferSchema=True,mode=\"DROPMALFORMED\")\n",
    "data3.show()\n",
    "data3.count()"
   ]
  },
  {
   "cell_type": "code",
   "execution_count": 8,
   "id": "ba397928-a103-431a-93fe-4797b9d34b62",
   "metadata": {},
   "outputs": [
    {
     "name": "stdout",
     "output_type": "stream",
     "text": [
      "root\n",
      " |-- Start_time: string (nullable = true)\n",
      " |-- End_time: string (nullable = true)\n",
      " |-- Name: string (nullable = true)\n",
      " |-- Mobile: long (nullable = true)\n",
      " |-- Age: integer (nullable = true)\n",
      " |-- Pin-Codes: integer (nullable = true)\n",
      " |-- Source: string (nullable = true)\n",
      " |-- Vaccine_cus: string (nullable = true)\n",
      " |-- Destination: string (nullable = true)\n",
      " |-- Miles: double (nullable = true)\n",
      " |-- Est_Costing: double (nullable = true)\n",
      " |-- Ride_category: string (nullable = true)\n",
      " |-- Purpose: string (nullable = true)\n",
      " |-- temp: double (nullable = true)\n",
      " |-- clouds: double (nullable = true)\n",
      " |-- pressure: double (nullable = true)\n",
      " |-- humidity: double (nullable = true)\n",
      " |-- wind: double (nullable = true)\n",
      " |-- accquire_vehi: integer (nullable = true)\n",
      " |-- free_vehi: string (nullable = true)\n",
      " |-- Lattitute: double (nullable = true)\n",
      " |-- Longitude: double (nullable = true)\n",
      " |-- locationID: integer (nullable = true)\n",
      " |-- rating_cus: integer (nullable = true)\n",
      " |-- Riders_Name: string (nullable = true)\n",
      " |-- Riders_contact: long (nullable = true)\n",
      " |-- Trusted_Contact: string (nullable = true)\n",
      " |-- Rating_RI: double (nullable = true)\n",
      " |-- Vaccine_Ri: string (nullable = true)\n",
      " |-- Payment_mode: string (nullable = true)\n",
      " |-- Discount: string (nullable = true)\n",
      " |-- Final_cost: double (nullable = true)\n",
      " |-- Status: string (nullable = true)\n",
      "\n"
     ]
    }
   ],
   "source": [
    "data1.printSchema()"
   ]
  },
  {
   "cell_type": "code",
   "execution_count": 9,
   "id": "f3969446-2163-480a-93d7-85b4ed00226d",
   "metadata": {},
   "outputs": [
    {
     "name": "stdout",
     "output_type": "stream",
     "text": [
      "root\n",
      " |-- Pickup DateTime: string (nullable = true)\n",
      " |-- Drop DateTime: string (nullable = true)\n",
      " |-- Driver Name: string (nullable = true)\n",
      " |-- Driver Phone Number: long (nullable = true)\n",
      " |-- Trip Distance: integer (nullable = true)\n",
      " |-- Trip ID: integer (nullable = true)\n",
      " |-- Pickup Location: string (nullable = true)\n",
      " |-- Drop Location: string (nullable = true)\n",
      " |-- Trip Duration: double (nullable = true)\n",
      " |-- Trip Fare: double (nullable = true)\n",
      " |-- Vehicle Type: string (nullable = true)\n",
      " |-- Trip Purpose: string (nullable = true)\n",
      " |-- Passenger Name: string (nullable = true)\n",
      " |-- Passenger Phone Number: long (nullable = true)\n",
      " |-- Scheduled: string (nullable = true)\n",
      " |-- Passenger Rating: double (nullable = true)\n",
      " |-- Driver Rated: string (nullable = true)\n",
      " |-- Payment Method: string (nullable = true)\n",
      " |-- Payment Discount: string (nullable = true)\n",
      " |-- Net Fare: double (nullable = true)\n",
      " |-- Trip Status: string (nullable = true)\n",
      "\n"
     ]
    }
   ],
   "source": [
    "data2.printSchema()"
   ]
  },
  {
   "cell_type": "code",
   "execution_count": 10,
   "id": "bccaa7cc-b558-44b9-8e0f-8ebdcadd005b",
   "metadata": {},
   "outputs": [
    {
     "name": "stdout",
     "output_type": "stream",
     "text": [
      "root\n",
      " |-- 1/1/2016 21:11: string (nullable = true)\n",
      " |-- 1/1/2016 21:17: string (nullable = true)\n",
      " |-- Almire: string (nullable = true)\n",
      " |-- 9298608912: long (nullable = true)\n",
      " |-- 21: integer (nullable = true)\n",
      " |-- 318886: integer (nullable = true)\n",
      " |-- Fort Pierce6: string (nullable = true)\n",
      " |-- Fort Pierce7: string (nullable = true)\n",
      " |-- 5.1: double (nullable = true)\n",
      " |-- 49.989: double (nullable = true)\n",
      " |-- Bike: string (nullable = true)\n",
      " |-- Johanna: string (nullable = true)\n",
      " |-- 9181026109: long (nullable = true)\n",
      " |-- 3: integer (nullable = true)\n",
      " |-- 141: integer (nullable = true)\n",
      " |-- YES15: string (nullable = true)\n",
      " |-- YES16: string (nullable = true)\n",
      " |-- Gpay: string (nullable = true)\n",
      " |-- 0%: string (nullable = true)\n",
      " |-- 49.9819: double (nullable = true)\n",
      " |-- Cancelled: string (nullable = true)\n",
      "\n"
     ]
    }
   ],
   "source": [
    "data3.printSchema()"
   ]
  },
  {
   "cell_type": "markdown",
   "id": "1fa50d73-f303-4dea-93c5-d5637238cdfe",
   "metadata": {},
   "source": [
    "USED CASE\n",
    " Drivers who completed ride with non-vaccinated customers."
   ]
  },
  {
   "cell_type": "code",
   "execution_count": 14,
   "id": "7894c82c-5f17-4d76-acc1-347adbc87595",
   "metadata": {},
   "outputs": [
    {
     "name": "stdout",
     "output_type": "stream",
     "text": [
      "+-------+----------+-----------+\n",
      "|   Name|    Mobile|Riders_Name|\n",
      "+-------+----------+-----------+\n",
      "| Correy|9661756645|      Myrle|\n",
      "| Gabbey|9050095157|    Ellette|\n",
      "|Mathian|9734846586|     Mikkel|\n",
      "|Huntlee|9974250697|       Abbi|\n",
      "|   Clim|8859680135|       Dora|\n",
      "|Geordie|8410911653|     Pattin|\n",
      "| Horten|8215695084|        Kip|\n",
      "|    Ray|8407563494|     Haskel|\n",
      "|  Boyce|9183218576|      Cindi|\n",
      "|   Berk|8875035370|    Yasmeen|\n",
      "| Aubert|9524013920|       Burk|\n",
      "|Stavros|8197008138|      Natty|\n",
      "| Norene|9202013524|       Kain|\n",
      "|  Stace|7867224866|        Pen|\n",
      "| Stefan|9194958211|      Sandy|\n",
      "|Cassius|9309163124|   Kimberly|\n",
      "| Crysta|9003775113|        Tim|\n",
      "|  Chadd|9451864545|    Carolus|\n",
      "|    Val|8472948148|      Marta|\n",
      "|  Glori|8563960701|    Romonda|\n",
      "+-------+----------+-----------+\n",
      "only showing top 20 rows\n",
      "\n"
     ]
    }
   ],
   "source": [
    "non_vaccinated_cust=data1.filter(data1.Vaccine_cus==\"NO\").select(\"Name\",\"Mobile\",\"Riders_Name\")\n",
    "non_vaccinated_cust.show()"
   ]
  },
  {
   "cell_type": "code",
   "execution_count": 15,
   "id": "a86e0f28-6bae-4720-86e6-cd6fca19dac2",
   "metadata": {},
   "outputs": [
    {
     "data": {
      "text/plain": [
       "100"
      ]
     },
     "execution_count": 15,
     "metadata": {},
     "output_type": "execute_result"
    }
   ],
   "source": [
    "non_vaccinated_cust.count()"
   ]
  },
  {
   "cell_type": "markdown",
   "id": "0d9f1444-95d9-4a5e-90a9-9ee70d41c409",
   "metadata": {},
   "source": [
    "5.How many vaccinated customers have\n",
    "travelled."
   ]
  },
  {
   "cell_type": "code",
   "execution_count": 16,
   "id": "05a109bb-0fc6-4ee0-b518-33d091b0ab08",
   "metadata": {},
   "outputs": [
    {
     "name": "stdout",
     "output_type": "stream",
     "text": [
      "+--------+----------+\n",
      "|    Name|    mobile|\n",
      "+--------+----------+\n",
      "|  Almire|9298608912|\n",
      "| Frazier|8621617385|\n",
      "|  Editha|9954004976|\n",
      "|   Deeyn|9885727873|\n",
      "|   Bryan|8721880095|\n",
      "|  Crissy|8579258893|\n",
      "|  Kendre|8900099665|\n",
      "|   Aymer|9918333307|\n",
      "|   Cammi|7884885405|\n",
      "| Carlyle|8333928562|\n",
      "|Zedekiah|8283676665|\n",
      "|   Sioux|8362408033|\n",
      "|  Maggie|7951534876|\n",
      "| Maurice|7932768286|\n",
      "|    Timi|9323566102|\n",
      "|   Janey|8572258661|\n",
      "|  Evania|9370194252|\n",
      "|   Mayne|9557445925|\n",
      "|    Iain|9313837934|\n",
      "|   Moore|8692496691|\n",
      "+--------+----------+\n",
      "only showing top 20 rows\n",
      "\n"
     ]
    }
   ],
   "source": [
    "vaccinated_customers=data1.filter(data1.Vaccine_cus==\"YES\").select(\"Name\",\"mobile\")\n",
    "vaccinated_customers.show()"
   ]
  },
  {
   "cell_type": "code",
   "execution_count": 14,
   "id": "eb6ed5f7-360e-49d3-a4c6-144f6075cb2b",
   "metadata": {},
   "outputs": [
    {
     "data": {
      "text/plain": [
       "400"
      ]
     },
     "execution_count": 14,
     "metadata": {},
     "output_type": "execute_result"
    }
   ],
   "source": [
    "vaccinated_customers.count()"
   ]
  },
  {
   "cell_type": "markdown",
   "id": "f4a3b9ed-aeef-4ab1-91df-3e3542b622d3",
   "metadata": {},
   "source": [
    "6.Customers who completed ride with non-vaccinated Drivers."
   ]
  },
  {
   "cell_type": "code",
   "execution_count": 17,
   "id": "b38320ef-793f-4e75-afc9-5e1752b46467",
   "metadata": {},
   "outputs": [
    {
     "name": "stdout",
     "output_type": "stream",
     "text": [
      "+-------+-----------+--------------+\n",
      "|   Name|Riders_Name|Riders_contact|\n",
      "+-------+-----------+--------------+\n",
      "| Correy|      Myrle|    9425892986|\n",
      "| Gabbey|    Ellette|    8949025277|\n",
      "|Mathian|     Mikkel|    9117822322|\n",
      "|Huntlee|       Abbi|    9652057745|\n",
      "|   Clim|       Dora|    9878699673|\n",
      "|Geordie|     Pattin|    9611982749|\n",
      "| Horten|        Kip|    9469489820|\n",
      "|    Ray|     Haskel|    9199720906|\n",
      "|  Boyce|      Cindi|    9080785128|\n",
      "|   Berk|    Yasmeen|    9942981425|\n",
      "| Aubert|       Burk|    9891913387|\n",
      "|Stavros|      Natty|    9385978092|\n",
      "| Norene|       Kain|    9790394844|\n",
      "|  Stace|        Pen|    9721300884|\n",
      "| Stefan|      Sandy|    9699969249|\n",
      "|Cassius|   Kimberly|    9046703627|\n",
      "| Crysta|        Tim|    9770864241|\n",
      "|  Chadd|    Carolus|    8900650556|\n",
      "|    Val|      Marta|    9674805081|\n",
      "|  Glori|    Romonda|    9020496201|\n",
      "+-------+-----------+--------------+\n",
      "only showing top 20 rows\n",
      "\n"
     ]
    }
   ],
   "source": [
    "non_vaccinated_drivers=data1.filter(data1.Vaccine_Ri==\"NO\").select(\"Name\",\"Riders_Name\",\"Riders_contact\")\n",
    "non_vaccinated_drivers.show()"
   ]
  },
  {
   "cell_type": "code",
   "execution_count": 18,
   "id": "259b340f-20c1-4083-9381-46ec8da64ee0",
   "metadata": {},
   "outputs": [
    {
     "data": {
      "text/plain": [
       "100"
      ]
     },
     "execution_count": 18,
     "metadata": {},
     "output_type": "execute_result"
    }
   ],
   "source": [
    "non_vaccinated_drivers.count()"
   ]
  },
  {
   "cell_type": "markdown",
   "id": "c92e0eff-c086-4d28-af90-d3df678765af",
   "metadata": {},
   "source": [
    "7. Who is the customer completed highest number of rides"
   ]
  },
  {
   "cell_type": "code",
   "execution_count": 36,
   "id": "a0f46e40-aa47-40b4-86c1-b9a8dad4f2e9",
   "metadata": {},
   "outputs": [],
   "source": [
    "from pyspark.sql.functions import count,col,countDistinct,when"
   ]
  },
  {
   "cell_type": "code",
   "execution_count": 20,
   "id": "66562355-dc21-4c7e-8e59-e3eb68750a20",
   "metadata": {},
   "outputs": [],
   "source": [
    "highest_no_rides=data2.groupBy(\"passenger Name\").agg(count(\"*\").alias(\"number_of_rides\")).orderBy(col(\"number_of_rides\").desc())"
   ]
  },
  {
   "cell_type": "code",
   "execution_count": 21,
   "id": "b35b28b5-c7ef-4d64-bb9e-af2d25a66470",
   "metadata": {},
   "outputs": [
    {
     "name": "stdout",
     "output_type": "stream",
     "text": [
      "+--------------+---------------+\n",
      "|passenger Name|number_of_rides|\n",
      "+--------------+---------------+\n",
      "|          Cher|             10|\n",
      "|        Damien|              5|\n",
      "|        Mikkel|              5|\n",
      "|      Sergeant|              5|\n",
      "|       Saundra|              5|\n",
      "|         Natty|              5|\n",
      "|         Margi|              5|\n",
      "|          Elsy|              5|\n",
      "|          Jens|              5|\n",
      "|         Marve|              5|\n",
      "|         Sandy|              5|\n",
      "|          Geri|              5|\n",
      "|        Aylmer|              5|\n",
      "|       Carolus|              5|\n",
      "|         Marta|              5|\n",
      "|         Cissy|              5|\n",
      "|      Dorothee|              5|\n",
      "|      Charmian|              5|\n",
      "|           Ede|              5|\n",
      "|      Loutitia|              5|\n",
      "+--------------+---------------+\n",
      "only showing top 20 rows\n",
      "\n"
     ]
    }
   ],
   "source": [
    "highest_no_rides.show()"
   ]
  },
  {
   "cell_type": "code",
   "execution_count": 22,
   "id": "eedc4572-1885-4946-9419-ef3cd79986bf",
   "metadata": {},
   "outputs": [
    {
     "name": "stdout",
     "output_type": "stream",
     "text": [
      "+--------------+---------------+\n",
      "|passenger Name|number_of_rides|\n",
      "+--------------+---------------+\n",
      "|          Cher|             10|\n",
      "+--------------+---------------+\n",
      "only showing top 1 row\n",
      "\n"
     ]
    }
   ],
   "source": [
    "highest_no_rides.show(1)"
   ]
  },
  {
   "cell_type": "code",
   "execution_count": null,
   "id": "dd37b7d3-2113-4a4f-becc-adb6cbd1cba4",
   "metadata": {},
   "outputs": [],
   "source": []
  },
  {
   "cell_type": "code",
   "execution_count": 23,
   "id": "c5feba79-dd3e-405e-8426-3a2cb954f221",
   "metadata": {},
   "outputs": [],
   "source": [
    "highest_no_rides=data2.groupBy(\"Driver Name\").agg(count(\"*\").alias(\"driver_number_of_rides\")).orderBy(col(\"driver_number_of_rides\").desc())"
   ]
  },
  {
   "cell_type": "code",
   "execution_count": 24,
   "id": "9f8a9480-384b-4f8f-861c-6b78a4acaaef",
   "metadata": {},
   "outputs": [
    {
     "name": "stdout",
     "output_type": "stream",
     "text": [
      "+-----------+----------------------+\n",
      "|Driver Name|driver_number_of_rides|\n",
      "+-----------+----------------------+\n",
      "|    Mathian|                     2|\n",
      "|     Teresa|                     2|\n",
      "|      Mayne|                     2|\n",
      "|  Westbrook|                     2|\n",
      "|      Debor|                     2|\n",
      "|     Raeann|                     2|\n",
      "|        Gus|                     2|\n",
      "|    Othello|                     2|\n",
      "|    Frazier|                     2|\n",
      "|   Roderigo|                     2|\n",
      "|     Bidget|                     2|\n",
      "|    Lisetta|                     2|\n",
      "|     Sianna|                     1|\n",
      "|      Tessi|                     1|\n",
      "|      Baron|                     1|\n",
      "|     Earvin|                     1|\n",
      "|       Trev|                     1|\n",
      "|   Rosemary|                     1|\n",
      "|     Lorrin|                     1|\n",
      "|   Melisent|                     1|\n",
      "+-----------+----------------------+\n",
      "only showing top 20 rows\n",
      "\n"
     ]
    }
   ],
   "source": [
    "highest_no_rides.show()"
   ]
  },
  {
   "cell_type": "markdown",
   "id": "2ba2c645-1319-4341-803f-9374c97d778a",
   "metadata": {},
   "source": [
    "1.How many no of customers take trip from\n",
    "same location."
   ]
  },
  {
   "cell_type": "code",
   "execution_count": 25,
   "id": "e61e5934-75cd-4b3a-94e0-e4b83dfaa420",
   "metadata": {},
   "outputs": [
    {
     "name": "stdout",
     "output_type": "stream",
     "text": [
      "+-----------------+--------------+\n",
      "|  pickup location|customer_count|\n",
      "+-----------------+--------------+\n",
      "|      Fort Pierce|           108|\n",
      "|          Midtown|            78|\n",
      "|  West Palm Beach|            54|\n",
      "|             Cary|            52|\n",
      "|  Lower Manhattan|            26|\n",
      "|     Midtown East|            26|\n",
      "|Flatiron District|            26|\n",
      "|      East Harlem|            26|\n",
      "|    Hudson Square|            26|\n",
      "|          Jamaica|            26|\n",
      "|         New York|            26|\n",
      "|         Elmhurst|            26|\n",
      "+-----------------+--------------+\n",
      "\n"
     ]
    }
   ],
   "source": [
    "no_cust=data2.groupBy(\"pickup location\").agg(count(\"Passenger Name\").alias(\"customer_count\")).orderBy(\"customer_count\" ,ascending=False)\n",
    "no_cust.show()"
   ]
  },
  {
   "cell_type": "markdown",
   "id": "4a8be598-45af-4f0e-8b86-5364419bb2c3",
   "metadata": {},
   "source": [
    "\n",
    "3.what are the longest locations of customer\n",
    "travelled."
   ]
  },
  {
   "cell_type": "code",
   "execution_count": 26,
   "id": "36c4ad5b-9c52-41fa-89e1-f7c5aea46858",
   "metadata": {},
   "outputs": [
    {
     "name": "stdout",
     "output_type": "stream",
     "text": [
      "+---------------+----------------+-------------+\n",
      "|Pickup Location|   Drop Location|Trip Duration|\n",
      "+---------------+----------------+-------------+\n",
      "|    Fort Pierce|            Cary|          5.7|\n",
      "|    East Harlem|     Whitebridge|          7.6|\n",
      "|   Midtown East|          Durham|         10.4|\n",
      "|       Elmhurst|            Cary|          1.6|\n",
      "|           Cary|     Whitebridge|          3.2|\n",
      "|West Palm Beach|         Houston|         30.2|\n",
      "|    Fort Pierce|      Tanglewood|          6.0|\n",
      "|Lower Manhattan|     Morrisville|          8.4|\n",
      "|       New York|            Cary|         10.4|\n",
      "|    Fort Pierce|       Kissimmee|         11.0|\n",
      "|    Fort Pierce|            Cary|          5.6|\n",
      "|    Fort Pierce|    Port Bolivar|          2.1|\n",
      "|West Palm Beach|         Midtown|          6.2|\n",
      "|        Jamaica|       Kissimmee|          5.1|\n",
      "|        Midtown|            Cary|          9.9|\n",
      "|West Palm Beach|     Whitebridge|          1.4|\n",
      "|West Palm Beach|         Houston|         21.9|\n",
      "|  Hudson Square|            Apex|          5.8|\n",
      "|           Cary|Unknown Location|         43.7|\n",
      "|Lower Manhattan|Unknown Location|         10.0|\n",
      "+---------------+----------------+-------------+\n",
      "only showing top 20 rows\n",
      "\n"
     ]
    }
   ],
   "source": [
    "longest_locations=data2.orderBy(col(\"Trip Distance\").desc()).select(\"Pickup Location\",\"Drop Location\",\"Trip Duration\")\n",
    "longest_locations.show()"
   ]
  },
  {
   "cell_type": "markdown",
   "id": "7ecc8aea-f5fa-4dcc-9e07-5df0ac2c8d76",
   "metadata": {},
   "source": [
    "2.what is priority for each ride category from\n",
    "each location."
   ]
  },
  {
   "cell_type": "code",
   "execution_count": 27,
   "id": "5bd93189-4051-4051-9c41-78350cd8387f",
   "metadata": {},
   "outputs": [
    {
     "name": "stdout",
     "output_type": "stream",
     "text": [
      "+---------------+------------+----------+\n",
      "|Pickup Location|Vehicle Type|ride_count|\n",
      "+---------------+------------+----------+\n",
      "|    Fort Pierce|        Bike|        25|\n",
      "|    Fort Pierce|  Uber-Micro|        24|\n",
      "|    Fort Pierce|        Auto|        21|\n",
      "|    Fort Pierce|       Prime|        19|\n",
      "|    Fort Pierce|   Uber-Mini|        19|\n",
      "|        Midtown|   Uber-Mini|        17|\n",
      "|        Midtown|        Bike|        16|\n",
      "|        Midtown|        Auto|        15|\n",
      "|        Midtown|  Uber-Micro|        15|\n",
      "|        Midtown|       Prime|        15|\n",
      "|West Palm Beach|        Bike|        13|\n",
      "|           Cary|       Prime|        12|\n",
      "|West Palm Beach|   Uber-Mini|        12|\n",
      "|           Cary|        Auto|        12|\n",
      "|           Cary|   Uber-Mini|        12|\n",
      "|West Palm Beach|       Prime|        11|\n",
      "|West Palm Beach|  Uber-Micro|         9|\n",
      "|West Palm Beach|        Auto|         9|\n",
      "|           Cary|  Uber-Micro|         8|\n",
      "|           Cary|        Bike|         8|\n",
      "+---------------+------------+----------+\n",
      "only showing top 20 rows\n",
      "\n"
     ]
    }
   ],
   "source": [
    "ride_priority = data2.groupBy(\"Pickup Location\", \"Vehicle Type\").agg(count(\"Trip ID\").alias(\"ride_count\")).orderBy(col(\"ride_count\").desc())\n",
    "\n",
    "ride_priority.show()\n"
   ]
  },
  {
   "cell_type": "code",
   "execution_count": 28,
   "id": "e1ad8f02-c6ca-49aa-8acb-f657c180faba",
   "metadata": {},
   "outputs": [],
   "source": [
    "highest_no_rides=data2.groupBy(\"Driver Name\").agg(count(\"*\").alias(\"driver_number_of_rides\")).orderBy(col(\"driver_number_of_rides\").desc())"
   ]
  },
  {
   "cell_type": "code",
   "execution_count": null,
   "id": "f882bb4d-f23d-4fb7-abea-9981bf43895f",
   "metadata": {},
   "outputs": [],
   "source": [
    "10.what is the count of different destination\n",
    "locations from same start location and also\n",
    "completed ride\n"
   ]
  },
  {
   "cell_type": "code",
   "execution_count": 29,
   "id": "1f2f9077-4b2e-4877-b936-46f86006e479",
   "metadata": {},
   "outputs": [
    {
     "name": "stdout",
     "output_type": "stream",
     "text": [
      "+---------------+---------------+-----------+-------------------+-------------+-------+-----------------+---------------+-------------+---------+------------+---------------+--------------+----------------------+---------+----------------+------------+--------------+----------------+--------+-----------+\n",
      "|Pickup DateTime|  Drop DateTime|Driver Name|Driver Phone Number|Trip Distance|Trip ID|  Pickup Location|  Drop Location|Trip Duration|Trip Fare|Vehicle Type|   Trip Purpose|Passenger Name|Passenger Phone Number|Scheduled|Passenger Rating|Driver Rated|Payment Method|Payment Discount|Net Fare|Trip Status|\n",
      "+---------------+---------------+-----------+-------------------+-------------+-------+-----------------+---------------+-------------+---------+------------+---------------+--------------+----------------------+---------+----------------+------------+--------------+----------------+--------+-----------+\n",
      "| 1/6/2016 17:30| 1/6/2016 17:35|      Bryan|         8721880095|           50| 475241|  West Palm Beach|     Palm Beach|          7.1|    69.58|        Bike|        Meeting|        Duncan|            9611855033|      YES|             3.0|         YES|   Uber wallet|             10%|  76.538|    Arrived|\n",
      "|1/10/2016 12:17|1/10/2016 12:44|      Aymer|         9918333307|           47| 386077|          Jamaica|       New York|         16.5|    161.7|        Bike| Customer Visit|        Killie|            9426616674|       NO|             4.2|         YES|   Uber wallet|             10%|  177.87|    Arrived|\n",
      "|1/10/2016 19:12|1/10/2016 19:32|    Carlyle|         8333928562|           22| 625132|          Midtown|    East Harlem|          6.2|    60.76|        Bike|        Meeting|        Ashlee|            9332965757|      YES|             4.5|         YES|          Gpay|              0%|   60.76|    Arrived|\n",
      "|1/11/2016 11:56|1/11/2016 12:03|      Sioux|         8362408033|           75| 484320|Flatiron District|        Midtown|          1.6|    15.68|        Bike|Errand/Supplies|         Jacky|            9472034451|       NO|             4.9|         YES|         Paytm|              0%|   15.68|    Arrived|\n",
      "|1/11/2016 13:32|1/11/2016 13:46|    Mathian|         9734846586|           62| 625132|          Midtown|   Midtown East|          1.7|    16.66|        Bike| Meal/Entertain|        Mikkel|            9117822322|       NO|             5.0|          NO|   Uber wallet|             10%|  14.994|    Arrived|\n",
      "|1/11/2016 14:30|1/11/2016 14:43|     Maggie|         7951534876|           36| 491563|     Midtown East|        Midtown|          1.9|    18.62|        Bike| Meal/Entertain|          Geri|            9738692778|      YES|             3.0|         YES|          cash|              0%|   18.62|    Arrived|\n",
      "|1/12/2016 12:53|1/12/2016 13:09|       Timi|         9323566102|           35| 509117|    Hudson Square|Lower Manhattan|          4.0|     39.2|        Bike| Meal/Entertain|          Yvon|            9985025265|      YES|             3.9|         YES|   Uber wallet|             10%|   43.12|    Arrived|\n",
      "|1/12/2016 16:02|1/12/2016 17:00|      Mayne|         9557445925|           50| 318886|      Fort Pierce|  Queens County|         15.1|   147.98|        Bike|        Meeting|       Teriann|            9115587792|      YES|             4.5|         YES|          Gpay|              0%|  147.98|    Arrived|\n",
      "|1/13/2016 13:54|1/13/2016 14:07|       Iain|         9313837934|           35| 318886|      Fort Pierce|        Gulfton|         11.2|   109.76|        Bike|        Meeting|       Carmine|            9904076761|      YES|             4.8|         YES|          Gpay|              0%|  109.76|    Arrived|\n",
      "|1/13/2016 15:00|1/13/2016 15:28|      Moore|         8692496691|           33| 475241|  West Palm Beach|       Downtown|         11.8|   115.64|        Bike|        Meeting|         Margi|            9843393882|       NO|             4.9|         YES|        Phonpe|              0%|  115.64|    Arrived|\n",
      "|1/15/2016 11:43|1/15/2016 12:03|      Tobye|         8168506868|           58| 386077|          Jamaica|         Durham|         10.4|    156.0|        Auto| Meal/Entertain|          Jens|            9725097468|      YES|             3.9|         YES|   Uber wallet|             10%|   171.6|    Arrived|\n",
      "|1/15/2016 13:26|1/15/2016 13:44|    Skipton|         7898380776|           79| 125733|         New York|           Cary|         10.4|    156.0|        Auto| Meal/Entertain|          Elsy|            9465339838|       NO|             4.2|         YES|   Uber wallet|             10%|   171.6|    Arrived|\n",
      "|1/18/2016 16:13|1/18/2016 16:24|    Etienne|         9363597337|           34| 625132|          Midtown|    Whitebridge|          4.7|     70.5|        Auto| Meal/Entertain|        Aylmer|            8909617891|      YES|             3.6|         YES|   Uber wallet|             10%|   77.55|    Arrived|\n",
      "|1/19/2016 10:55|1/19/2016 11:09|      Pauli|         9283504121|           80| 210314|      East Harlem|    Whitebridge|          7.6|    114.0|        Auto| Temporary Site|         Price|            9647090347|      YES|             4.5|         YES|          cash|              0%|   114.0|    Arrived|\n",
      "|1/20/2016 10:36|1/20/2016 11:11|       Lind|         8262917624|           33| 484320|Flatiron District|        Raleigh|         17.1|    256.5|        Auto|        Meeting|     Siegfried|            9419083292|      YES|             4.8|         YES|          Gpay|              0%|   256.5|    Arrived|\n",
      "|1/20/2016 11:48|1/20/2016 12:19|    Gillian|         8679995190|           21| 625132|          Midtown|        Umstead|         15.1|    226.5|        Auto|        Meeting|        Shaine|            9601921145|       NO|             4.9|         YES|          Gpay|              0%|   226.5|    Arrived|\n",
      "|1/20/2016 13:25|1/20/2016 14:19|     Horten|         8215695084|           43| 491563|     Midtown East|           Cary|         40.2|    603.0|        Auto| Customer Visit|           Kip|            9469489820|       NO|             5.0|          NO|        Phonpe|              0%|   603.0|    Arrived|\n",
      "|1/21/2016 14:25|1/21/2016 14:29|       Elsy|         9238121884|           70| 625132|          Midtown|           Cary|          1.6|     24.0|        Auto|Errand/Supplies|         Marve|            9503219756|      YES|             3.0|         YES|         Paytm|              0%|    24.0|    Arrived|\n",
      "|1/21/2016 14:43|1/21/2016 14:51|      Lotty|         8987274835|           69| 509117|    Hudson Square|           Cary|          2.4|     36.0|        Auto| Meal/Entertain|         Golda|            9151458155|      YES|             3.6|         YES|   Uber wallet|             10%|    32.4|    Arrived|\n",
      "|1/26/2016 10:41|1/26/2016 10:50|      Raviv|         9643875551|           41| 318886|      Fort Pierce|      Hazelwood|          2.0|     30.0|        Auto| Meal/Entertain|     Rosemaria|            9940412574|       NO|             4.2|         YES|   Uber wallet|             10%|    33.0|    Arrived|\n",
      "+---------------+---------------+-----------+-------------------+-------------+-------+-----------------+---------------+-------------+---------+------------+---------------+--------------+----------------------+---------+----------------+------------+--------------+----------------+--------+-----------+\n",
      "only showing top 20 rows\n",
      "\n"
     ]
    }
   ],
   "source": [
    "completed_rides = data2.select(\"*\").where((col(\"Pickup Location\")!=col(\"Drop Location\")) & (col(\"Trip Status\")==\"Arrived\"))\n",
    "completed_rides.show()\n"
   ]
  },
  {
   "cell_type": "code",
   "execution_count": 30,
   "id": "a0b4a33d-753f-48f1-8210-ed98f43105f8",
   "metadata": {},
   "outputs": [
    {
     "name": "stdout",
     "output_type": "stream",
     "text": [
      "+-----------------+-------------------+\n",
      "|  Pickup Location|unique_destinations|\n",
      "+-----------------+-------------------+\n",
      "|      Fort Pierce|                 47|\n",
      "|  Lower Manhattan|                  9|\n",
      "|          Midtown|                 36|\n",
      "|     Midtown East|                 16|\n",
      "|Flatiron District|                 15|\n",
      "|      East Harlem|                 10|\n",
      "|    Hudson Square|                  9|\n",
      "|  West Palm Beach|                 30|\n",
      "|          Jamaica|                 12|\n",
      "|             Cary|                 17|\n",
      "|         New York|                  8|\n",
      "|         Elmhurst|                  8|\n",
      "+-----------------+-------------------+\n",
      "\n"
     ]
    }
   ],
   "source": [
    "destination_count=completed_rides.groupBy(\"Pickup Location\").agg(count(\"Drop Location\").alias(\"unique_destinations\"))\n",
    "destination_count.show()"
   ]
  },
  {
   "cell_type": "code",
   "execution_count": 31,
   "id": "3d0c3c79-82dc-4017-b74a-73ac8191e698",
   "metadata": {},
   "outputs": [
    {
     "name": "stdout",
     "output_type": "stream",
     "text": [
      "+-----------------+------+\n",
      "|  Pickup Location|unique|\n",
      "+-----------------+------+\n",
      "|      Fort Pierce|    30|\n",
      "|  Lower Manhattan|     7|\n",
      "|          Midtown|    19|\n",
      "|     Midtown East|    11|\n",
      "|Flatiron District|     9|\n",
      "+-----------------+------+\n",
      "only showing top 5 rows\n",
      "\n"
     ]
    }
   ],
   "source": [
    "destination_count=completed_rides.groupBy(\"Pickup Location\").agg(countDistinct(\"Drop Location\").alias(\"unique\"))\n",
    "destination_count.show(5)"
   ]
  },
  {
   "cell_type": "markdown",
   "id": "a09b63f1-1b30-40a8-ab16-921315299350",
   "metadata": {},
   "source": [
    "11.what is the most expensive Drive."
   ]
  },
  {
   "cell_type": "code",
   "execution_count": 33,
   "id": "697e1662-3c03-4e1c-a008-4331db487910",
   "metadata": {},
   "outputs": [
    {
     "name": "stdout",
     "output_type": "stream",
     "text": [
      "+-----------------+-------------------+---------+\n",
      "|  Pickup Location|      Drop Location|Trip Fare|\n",
      "+-----------------+-------------------+---------+\n",
      "|      Fort Pierce|               Katy|   3400.0|\n",
      "|      Fort Pierce|       Jacksonville|  3040.94|\n",
      "|          Midtown|          Ridgeland|   2613.0|\n",
      "|Flatiron District|               Cary|   2389.5|\n",
      "|      East Harlem|           Florence|   2160.0|\n",
      "|      Fort Pierce|          Kissimmee|   1969.8|\n",
      "|      Fort Pierce|            Houston|   1710.0|\n",
      "|      Fort Pierce|              Latta|   1411.2|\n",
      "|             Cary|   Unknown Location|   1311.0|\n",
      "|         Elmhurst|       Jacksonville|   1207.5|\n",
      "|         New York|      Daytona Beach|   1159.5|\n",
      "|    Hudson Square|          Galveston|   1095.0|\n",
      "|          Midtown|            Houston|   1053.0|\n",
      "|      East Harlem|            Midtown|    768.0|\n",
      "|  West Palm Beach|      San Francisco|    768.0|\n",
      "|  West Palm Beach|            Houston|    755.0|\n",
      "|          Midtown|   Unknown Location|    705.0|\n",
      "|             Cary|         R?walpindi|    693.0|\n",
      "|Flatiron District|Greater Greenspoint|    690.0|\n",
      "|          Midtown|               Cary|    656.0|\n",
      "+-----------------+-------------------+---------+\n",
      "only showing top 20 rows\n",
      "\n"
     ]
    }
   ],
   "source": [
    "expensive_drive=data2.select(\"Pickup Location\",\"Drop Location\",\"Trip Fare\").where(col(\"Pickup Location\")!=col(\"Drop Location\")).orderBy(col(\"Trip Fare\").desc())\n",
    "expensive_drive.show()"
   ]
  },
  {
   "cell_type": "code",
   "execution_count": 34,
   "id": "c8e7639f-9ce0-4f5d-b66a-eb73d6dc9c92",
   "metadata": {},
   "outputs": [
    {
     "name": "stdout",
     "output_type": "stream",
     "text": [
      "+-----------------+----------------+--------+\n",
      "|  Pickup Location|   Drop Location|Net Fare|\n",
      "+-----------------+----------------+--------+\n",
      "|      Fort Pierce|    Jacksonville|3345.034|\n",
      "|      Fort Pierce|            Katy|  3060.0|\n",
      "|          Midtown|       Ridgeland|  2613.0|\n",
      "|Flatiron District|            Cary|  2389.5|\n",
      "|      Fort Pierce|       Kissimmee| 2166.78|\n",
      "|      East Harlem|        Florence|  1944.0|\n",
      "|      Fort Pierce|         Houston|  1710.0|\n",
      "|      Fort Pierce|           Latta| 1552.32|\n",
      "|             Cary|Unknown Location|  1311.0|\n",
      "|         Elmhurst|    Jacksonville|  1207.5|\n",
      "|    Hudson Square|       Galveston|  1204.5|\n",
      "|         New York|   Daytona Beach|  1159.5|\n",
      "|          Midtown|         Houston|  1158.3|\n",
      "|  West Palm Beach|   San Francisco|   844.8|\n",
      "|      East Harlem|         Midtown|   768.0|\n",
      "|  West Palm Beach|         Houston|   755.0|\n",
      "|          Midtown|            Cary|   721.6|\n",
      "|      East Harlem|      Katunayaka|   706.2|\n",
      "|          Midtown|Unknown Location|   705.0|\n",
      "|             Cary|      R?walpindi|   693.0|\n",
      "+-----------------+----------------+--------+\n",
      "only showing top 20 rows\n",
      "\n"
     ]
    }
   ],
   "source": [
    "expensive_drive=data2.select(\"Pickup Location\",\"Drop Location\",\"Net Fare\").where(col(\"Pickup Location\")!=col(\"Drop Location\")).orderBy(col(\"Net Fare\").desc())\n",
    "expensive_drive.show()"
   ]
  },
  {
   "cell_type": "code",
   "execution_count": null,
   "id": "c58a559f-993d-40f7-b9fb-c4b20182dc00",
   "metadata": {},
   "outputs": [],
   "source": [
    "\n",
    "\n",
    "9.what are first 10 age groups which uses\n",
    "uber services mostly."
   ]
  },
  {
   "cell_type": "code",
   "execution_count": 39,
   "id": "e54b6a0a-49af-46b5-a3ea-2ecc0aa1bdde",
   "metadata": {},
   "outputs": [
    {
     "name": "stdout",
     "output_type": "stream",
     "text": [
      "+---------+-----+\n",
      "|age_group|count|\n",
      "+---------+-----+\n",
      "|    18-25|   65|\n",
      "|    26-35|   85|\n",
      "|    46-55|   74|\n",
      "|    36-45|   70|\n",
      "|    56-65|   58|\n",
      "|      66+|  148|\n",
      "+---------+-----+\n",
      "\n"
     ]
    }
   ],
   "source": [
    "data_age=data1.withColumn(\"age_group\",when(col(\"age\").between(18,25),\"18-25\")\n",
    "                                     .when(col(\"age\").between(26,35),\"26-35\")\n",
    "                          .when(col(\"age\").between(36,45),\"36-45\")\n",
    "                          .when(col(\"age\").between(46,55),\"46-55\")\n",
    "                          .when(col(\"age\").between(56,65),\"56-65\")\n",
    "                          .otherwise(\"66+\"))\n",
    "age_group_count=data_age.groupBy(\"age_group\").count()\n",
    "age_group_count.show()"
   ]
  },
  {
   "cell_type": "code",
   "execution_count": null,
   "id": "5e1a4ba6-8610-4cc6-a13d-e154a248b0d8",
   "metadata": {},
   "outputs": [],
   "source": []
  }
 ],
 "metadata": {
  "kernelspec": {
   "display_name": "PySpark",
   "language": "python",
   "name": "pyspark"
  },
  "language_info": {
   "codemirror_mode": {
    "name": "ipython",
    "version": 3
   },
   "file_extension": ".py",
   "mimetype": "text/x-python",
   "name": "python",
   "nbconvert_exporter": "python",
   "pygments_lexer": "ipython3",
   "version": "3.11.0"
  }
 },
 "nbformat": 4,
 "nbformat_minor": 5
}
