{
 "cells": [
  {
   "cell_type": "code",
   "execution_count": 12,
   "id": "008e4139-64ef-417d-a33c-7bbf87028f82",
   "metadata": {},
   "outputs": [
    {
     "name": "stdout",
     "output_type": "stream",
     "text": [
      "The value of a is : 1\n",
      "The value of b is:  2\n",
      "value of a 1 and value of b 2\n",
      "value of a 2 and value of b 1\n",
      "value of a 1 and value of b 2\n",
      "value of a 1 and value of b 2\n"
     ]
    }
   ],
   "source": [
    "#int valu pass by reference\n",
    "a=1\n",
    "b=2\n",
    "print(\"The value of a is :\",a)\n",
    "print(\"The value of b is: \" ,b)\n",
    "print(\"value of a {} and value of b {}\".format(a,b))\n",
    "print(\"value of a {} and value of b {}\".format(b,a))\n",
    "print(\"value of a {0} and value of b {1}\".format(a,b))\n",
    "print(\"value of a {1} and value of b {0}\".format(b,a))"
   ]
  },
  {
   "cell_type": "code",
   "execution_count": 15,
   "id": "75df6d81-2335-4bc4-b815-890d2919ba70",
   "metadata": {},
   "outputs": [
    {
     "name": "stdout",
     "output_type": "stream",
     "text": [
      "i love my country,name_is India\n"
     ]
    }
   ],
   "source": [
    "#string value\n",
    "my=\"country\"\n",
    "name_is=\"India\"\n",
    "print(\"i love my {1},name_is {0}\".format(name_is,my))"
   ]
  },
  {
   "cell_type": "code",
   "execution_count": 18,
   "id": "241ef323-66bb-47a7-86e6-bb3bb4449e3b",
   "metadata": {},
   "outputs": [
    {
     "name": "stdout",
     "output_type": "stream",
     "text": [
      "my name is bill gate from microsoft\n"
     ]
    }
   ],
   "source": [
    "#print without reference variable or pass by value\n",
    "print(\"my name is {} {} from {}\".format('bill','gate','microsoft'))"
   ]
  },
  {
   "cell_type": "code",
   "execution_count": 19,
   "id": "647d5eba-a9da-4096-8d9a-3dcbb8be09bb",
   "metadata": {},
   "outputs": [
    {
     "name": "stdin",
     "output_type": "stream",
     "text": [
      "enter the num 1\n"
     ]
    },
    {
     "name": "stdout",
     "output_type": "stream",
     "text": [
      "1\n"
     ]
    }
   ],
   "source": [
    "#enter input by user\n",
    "num=input(\"enter the num\")\n",
    "print(num)"
   ]
  },
  {
   "cell_type": "code",
   "execution_count": 20,
   "id": "23784a91-f26f-480b-a1ef-5ae7ff3a8f8f",
   "metadata": {},
   "outputs": [
    {
     "name": "stdin",
     "output_type": "stream",
     "text": [
      "enter the num 1\n"
     ]
    },
    {
     "name": "stdout",
     "output_type": "stream",
     "text": [
      "1\n"
     ]
    }
   ],
   "source": [
    "\n",
    "num=int(input(\"enter the num\"))\n",
    "print(num)"
   ]
  },
  {
   "cell_type": "code",
   "execution_count": 22,
   "id": "e359d4cc-9e63-4912-8618-9de529adc6a2",
   "metadata": {},
   "outputs": [
    {
     "name": "stdin",
     "output_type": "stream",
     "text": [
      "enter the 1 digit of pin: 1\n",
      "enter the 2 digit of pin: 2\n",
      "enter the 3 digit of pin: 3\n",
      "enter the 4 digit of pin: 6\n"
     ]
    },
    {
     "name": "stdout",
     "output_type": "stream",
     "text": [
      "('1', '2', '3', '6')\n"
     ]
    }
   ],
   "source": [
    "#entering multiple values\n",
    "x=input(\"enter the 1 digit of pin:\"),input(\"enter the 2 digit of pin:\"),input(\"enter the 3 digit of pin:\"),input(\"enter the 4 digit of pin:\")\n",
    "print(x)"
   ]
  },
  {
   "cell_type": "markdown",
   "id": "25331957-5985-4068-9b3b-d787b377637f",
   "metadata": {},
   "source": [
    "x=input(\"enter the 1 digit of pin:\"),input(\"enter the 2 digit of pin:\"),input(\"enter the 3 digit of pin:\"),input(\"enter the 4 digit of pin:\")\n",
    "print(x)"
   ]
  },
  {
   "cell_type": "raw",
   "id": "aa3aa9f8-c247-4bec-b648-1cb83593b6c7",
   "metadata": {},
   "source": [
    "operators\n"
   ]
  },
  {
   "cell_type": "code",
   "execution_count": 27,
   "id": "54eb745e-6276-4417-925f-76e4920fd580",
   "metadata": {},
   "outputs": [
    {
     "name": "stdout",
     "output_type": "stream",
     "text": [
      "True False\n",
      "True\n",
      "True\n",
      "False\n"
     ]
    }
   ],
   "source": [
    "#logical opeartors\n",
    "a=True\n",
    "b=False\n",
    "print(a,b)\n",
    "print(not b)\n",
    "print(a or b)\n",
    "print(a and b)"
   ]
  },
  {
   "cell_type": "code",
   "execution_count": 29,
   "id": "03d16fe1-fd62-43dd-b6b6-a87da971e867",
   "metadata": {},
   "outputs": [
    {
     "name": "stdout",
     "output_type": "stream",
     "text": [
      "140724954583976\n",
      "140724954583976\n",
      "<class 'int'>\n",
      "<class 'int'>\n",
      "True\n",
      "False\n"
     ]
    }
   ],
   "source": [
    "\n",
    "a=5\n",
    "b=5\n",
    "print(id(a))\n",
    "print(id(b))\n",
    "print(type(a))\n",
    "print(type(b))\n",
    "print(a is b)\n",
    "print(a is not b)"
   ]
  },
  {
   "cell_type": "code",
   "execution_count": 32,
   "id": "1d5a3092-ef0e-4273-928a-ba40bc3202bd",
   "metadata": {},
   "outputs": [
    {
     "name": "stdout",
     "output_type": "stream",
     "text": [
      "2319571317696\n",
      "2319571156224\n",
      "False\n"
     ]
    }
   ],
   "source": [
    "l1=[1,2,3]\n",
    "l2=[1,2,3]\n",
    "print(id(l1))\n",
    "print(id(l2))\n",
    "print(l1 is l2)"
   ]
  },
  {
   "cell_type": "code",
   "execution_count": 35,
   "id": "14081496-af24-4b56-8e77-dec10d1b5dbe",
   "metadata": {},
   "outputs": [
    {
     "name": "stdout",
     "output_type": "stream",
     "text": [
      "True\n",
      "False\n",
      "True\n"
     ]
    }
   ],
   "source": [
    "# membership operator\n",
    "l1={2,7,4}\n",
    "print(4 in l1)\n",
    "print(5 in l1)\n",
    "print(5 not in l1)"
   ]
  },
  {
   "cell_type": "code",
   "execution_count": 38,
   "id": "76b6ec70-7406-471a-a2b5-723a7bf83390",
   "metadata": {},
   "outputs": [
    {
     "name": "stdout",
     "output_type": "stream",
     "text": [
      "x is larger\n"
     ]
    }
   ],
   "source": [
    "x=100\n",
    "if(x>10):\n",
    "    print(\"x is larger\")\n",
    "else:\n",
    "    print(\"x is smaller\")"
   ]
  },
  {
   "cell_type": "code",
   "execution_count": 41,
   "id": "74a70211-aefe-41d6-907b-ba0f31b199af",
   "metadata": {},
   "outputs": [
    {
     "name": "stdout",
     "output_type": "stream",
     "text": [
      "this will print always\n"
     ]
    }
   ],
   "source": [
    "num=10\n",
    "if None:\n",
    "    print(\"number is positive\")\n",
    "print(\"this will print always\")"
   ]
  },
  {
   "cell_type": "code",
   "execution_count": 46,
   "id": "f7518ee3-2f6c-4f90-921b-97407d32a8f9",
   "metadata": {},
   "outputs": [
    {
     "name": "stdout",
     "output_type": "stream",
     "text": [
      "a is largestt\n"
     ]
    }
   ],
   "source": [
    "a=10\n",
    "b=2\n",
    "c=5\n",
    "if (a>=b and a>=c):\n",
    "    print(\"a is largestt\")\n",
    "elif (b>=a and b>=c):\n",
    "    print(\"b is largest\")\n",
    "elif (c>=a and c>=b):\n",
    "    print(\"c is largest\")\n",
    "else:\n",
    "    print(\"num not found\")\n",
    "    "
   ]
  },
  {
   "cell_type": "code",
   "execution_count": null,
   "id": "95e94c87-11cd-4f78-b2b2-2ebdc1766dbb",
   "metadata": {},
   "outputs": [],
   "source": [
    "a=10\n",
    "b=2\n",
    "c=5\n",
    "if (a>=b and a>=c):\n",
    "    print(\"a is largestt\")\n",
    "elif (b>=a and b>=c):\n",
    "    print(\"b is largest\")\n",
    "elif (c>=a and c>=b):\n",
    "    print(\"c is largest\")\n",
    "    "
   ]
  },
  {
   "cell_type": "code",
   "execution_count": 49,
   "id": "3cdff210-42c8-4ee6-94b6-32075dd925b7",
   "metadata": {},
   "outputs": [
    {
     "name": "stdout",
     "output_type": "stream",
     "text": [
      "second division\n"
     ]
    }
   ],
   "source": [
    "num=20\n",
    "if (num>10 or num>20):\n",
    "    if (num>20):\n",
    "        print(\"no is positive\")\n",
    "    else:\n",
    "        print(\"second division\")\n",
    "else:\n",
    "    print(\"fail\")"
   ]
  },
  {
   "cell_type": "code",
   "execution_count": 50,
   "id": "ea1bcc7b-5f4d-4e67-9f49-a9efcf51741f",
   "metadata": {},
   "outputs": [
    {
     "name": "stdout",
     "output_type": "stream",
     "text": [
      "20\n",
      "400\n",
      "12000\n",
      "480000\n",
      "24000000\n"
     ]
    }
   ],
   "source": [
    "a=[10,20,30,40,50]\n",
    "product=2\n",
    "for ele in a:\n",
    "    product*=ele\n",
    "    print(product)"
   ]
  },
  {
   "cell_type": "code",
   "execution_count": 51,
   "id": "9ba81869-f175-4cca-a579-a56490a9af93",
   "metadata": {},
   "outputs": [
    {
     "name": "stdout",
     "output_type": "stream",
     "text": [
      "0\n",
      "1\n",
      "2\n",
      "3\n",
      "4\n",
      "5\n",
      "6\n",
      "7\n",
      "8\n",
      "9\n"
     ]
    }
   ],
   "source": [
    "for i in range(10):\n",
    "    print(i)"
   ]
  },
  {
   "cell_type": "code",
   "execution_count": 52,
   "id": "617ca63a-e2c7-49f1-9a7f-518065df12d8",
   "metadata": {},
   "outputs": [
    {
     "name": "stdout",
     "output_type": "stream",
     "text": [
      "1\n",
      "3\n",
      "5\n",
      "7\n",
      "9\n"
     ]
    }
   ],
   "source": [
    "for i in range(1,10,2):\n",
    "    print(i)"
   ]
  },
  {
   "cell_type": "code",
   "execution_count": 53,
   "id": "f113e474-f018-4db1-8176-c4f17212ac56",
   "metadata": {},
   "outputs": [
    {
     "name": "stdout",
     "output_type": "stream",
     "text": [
      "1\n",
      "2\n",
      "3\n",
      "4\n",
      "no data available in x\n"
     ]
    }
   ],
   "source": [
    "#for loop with else\n",
    "x=[1,2,3,4]\n",
    "for data in x:\n",
    "    print(data)\n",
    "else:\n",
    "    print(\"no data available in x\")"
   ]
  },
  {
   "cell_type": "code",
   "execution_count": 56,
   "id": "48d95da4-1990-438a-905c-b9755d10966d",
   "metadata": {},
   "outputs": [
    {
     "name": "stdout",
     "output_type": "stream",
     "text": [
      "odd number 1\n",
      "even number 2\n",
      "odd number 3\n",
      "even number 4\n",
      "odd number 5\n",
      "even number 6\n",
      "odd number 7\n",
      "even number 8\n",
      "odd number 9\n",
      "even number 10\n"
     ]
    }
   ],
   "source": [
    "for i in range(1,11):\n",
    "    if i%2==0:\n",
    "        print(\"even number\",i)\n",
    "    else:\n",
    "        print(\"odd number\",i)"
   ]
  },
  {
   "cell_type": "code",
   "execution_count": 59,
   "id": "a54a0f73-947d-4364-a1a9-8ac989e5b2fc",
   "metadata": {},
   "outputs": [
    {
     "name": "stdin",
     "output_type": "stream",
     "text": [
      "enter the string moon\n"
     ]
    },
    {
     "name": "stdout",
     "output_type": "stream",
     "text": [
      "noom\n"
     ]
    }
   ],
   "source": [
    "str=input(\"enter the string\")\n",
    "reverse=\"\"\n",
    "for i in str:\n",
    "    reverse=i+reverse\n",
    "print(reverse)"
   ]
  },
  {
   "cell_type": "code",
   "execution_count": 63,
   "id": "3cc1df54-266d-42aa-907e-6d56b95fd4d6",
   "metadata": {},
   "outputs": [
    {
     "name": "stdin",
     "output_type": "stream",
     "text": [
      "enter the string dada\n"
     ]
    },
    {
     "name": "stdout",
     "output_type": "stream",
     "text": [
      "the string dada is not pallindrome\n"
     ]
    }
   ],
   "source": [
    "str=input(\"enter the string\")\n",
    "reverse=\"\"\n",
    "for i in str:\n",
    "    reverse=i+reverse\n",
    "if str==reverse:\n",
    "    print(\"the string {} is pallindrome\".format(str))\n",
    "else:\n",
    "    print(\"the string {} is not pallindrome\".format(str))"
   ]
  },
  {
   "cell_type": "code",
   "execution_count": 65,
   "id": "6e52ee8d-a822-4074-83df-f9d44bc26b44",
   "metadata": {},
   "outputs": [
    {
     "name": "stdin",
     "output_type": "stream",
     "text": [
      "enter the string malayalam\n"
     ]
    },
    {
     "name": "stdout",
     "output_type": "stream",
     "text": [
      "the string is pallindrome\n"
     ]
    }
   ],
   "source": [
    "st=input(\"enter the string\")\n",
    "if st==st[::-1]:\n",
    "    print(\"the string is pallindrome\")\n",
    "else:\n",
    "    print(\"string is not pallindrome\")\n",
    "\n"
   ]
  },
  {
   "cell_type": "code",
   "execution_count": null,
   "id": "ffd9f063-a570-4551-880a-dbe93d70c518",
   "metadata": {},
   "outputs": [],
   "source": []
  },
  {
   "cell_type": "code",
   "execution_count": null,
   "id": "9b72aba1-9b9c-4f7e-8213-70a1fcb08dbf",
   "metadata": {},
   "outputs": [],
   "source": [
    "num=int(input(\"enter the number\"))\n",
    "if num>"
   ]
  },
  {
   "cell_type": "code",
   "execution_count": 70,
   "id": "7804d0c2-8599-4470-948d-fb86fe030143",
   "metadata": {},
   "outputs": [
    {
     "name": "stdout",
     "output_type": "stream",
     "text": [
      "name is azeya\n"
     ]
    }
   ],
   "source": [
    "def show_name(name):\n",
    "    \"\"\"\n",
    "    THIS FUNCTION SHOW NAME\n",
    "    \"\"\"\n",
    "    print(\"name is\" ,name)\n",
    "show_name(\"azeya\")"
   ]
  },
  {
   "cell_type": "code",
   "execution_count": 72,
   "id": "19a77aa9-aa89-48b0-8ad6-c4087e6a8066",
   "metadata": {},
   "outputs": [
    {
     "name": "stdout",
     "output_type": "stream",
     "text": [
      "1\n",
      "3\n",
      "6\n",
      "10\n",
      "\n",
      "    THIS FUNCTION SHOW NAME\n",
      "    \n"
     ]
    }
   ],
   "source": [
    "def get_sum(lst):\n",
    "    \"\"\"\n",
    "    THIS FUNCTION SHOW NAME\n",
    "    \"\"\"\n",
    "    all=0\n",
    "    for num in lst:\n",
    "        all+=num\n",
    "        print(all)\n",
    "    return all\n",
    "lst1=get_sum([1,2,3,4])\n",
    "print(get_sum.__doc__)"
   ]
  },
  {
   "cell_type": "code",
   "execution_count": 76,
   "id": "d89d9bf3-adde-4f5f-99c9-d4a4f6b0f729",
   "metadata": {},
   "outputs": [
    {
     "name": "stdout",
     "output_type": "stream",
     "text": [
      "this is a local variable\n",
      "this is a global variable\n",
      "this is a global variable\n"
     ]
    }
   ],
   "source": [
    "global_variable=\"this is a global variable\"\n",
    "def lst():\n",
    "    local_variable=\"this is a local variable\"\n",
    "    print(local_variable)\n",
    "    print(global_variable)\n",
    "\n",
    "lst()\n",
    "print(global_variable)\n",
    "\n",
    "    "
   ]
  },
  {
   "cell_type": "code",
   "execution_count": 77,
   "id": "65e939bb-f20e-4df4-9a5c-3ed0809628d7",
   "metadata": {},
   "outputs": [
    {
     "data": {
      "text/plain": [
       "6"
      ]
     },
     "execution_count": 77,
     "metadata": {},
     "output_type": "execute_result"
    }
   ],
   "source": [
    "\n",
    "def hcf_numbers(num1,num2):\n",
    "    if num1<num2:\n",
    "        smaller=num1\n",
    "    else:\n",
    "        smaller=num2\n",
    "    for i in range(1,smaller+1):\n",
    "        if ((num1%i==0) and (num2%i==0)):\n",
    "            hcf=i\n",
    "    return hcf\n",
    "num1=6\n",
    "num2=18\n",
    "hcf_numbers(num1,num2)\n",
    "        "
   ]
  },
  {
   "cell_type": "code",
   "execution_count": 78,
   "id": "34b20f49-78b5-46e4-91c5-d9681efe59fa",
   "metadata": {},
   "outputs": [
    {
     "name": "stdout",
     "output_type": "stream",
     "text": [
      "100\n"
     ]
    }
   ],
   "source": [
    "lst=-100\n",
    "print(abs(lst))"
   ]
  },
  {
   "cell_type": "code",
   "execution_count": 79,
   "id": "ead32d22-7050-469d-a5af-2391fc782656",
   "metadata": {},
   "outputs": [
    {
     "name": "stdout",
     "output_type": "stream",
     "text": [
      "False\n"
     ]
    }
   ],
   "source": [
    "lst=[1,7,0,-1]\n",
    "print(all(lst))"
   ]
  },
  {
   "cell_type": "code",
   "execution_count": 80,
   "id": "80b1b18d-006a-4e26-8e2d-3d27e39f8ba7",
   "metadata": {},
   "outputs": [
    {
     "name": "stdout",
     "output_type": "stream",
     "text": [
      "True\n"
     ]
    }
   ],
   "source": [
    "lst=[]\n",
    "print(all(lst))"
   ]
  },
  {
   "cell_type": "code",
   "execution_count": 81,
   "id": "5643d671-a17f-445b-91ca-fefef8b0bda7",
   "metadata": {},
   "outputs": [
    {
     "name": "stdout",
     "output_type": "stream",
     "text": [
      "True\n"
     ]
    }
   ],
   "source": [
    "i=[-1]\n",
    "print(all(i))"
   ]
  },
  {
   "cell_type": "code",
   "execution_count": 84,
   "id": "1313de03-29ef-4b9a-aef9-b8f65660104f",
   "metadata": {},
   "outputs": [
    {
     "name": "stdout",
     "output_type": "stream",
     "text": [
      "<class 'list'>\n",
      "['__add__', '__class__', '__class_getitem__', '__contains__', '__delattr__', '__delitem__', '__dir__', '__doc__', '__eq__', '__format__', '__ge__', '__getattribute__', '__getitem__', '__getstate__', '__gt__', '__hash__', '__iadd__', '__imul__', '__init__', '__init_subclass__', '__iter__', '__le__', '__len__', '__lt__', '__mul__', '__ne__', '__new__', '__reduce__', '__reduce_ex__', '__repr__', '__reversed__', '__rmul__', '__setattr__', '__setitem__', '__sizeof__', '__str__', '__subclasshook__', 'append', 'clear', 'copy', 'count', 'extend', 'index', 'insert', 'pop', 'remove', 'reverse', 'sort']\n",
      "<class 'tuple'>\n",
      "['__add__', '__class__', '__class_getitem__', '__contains__', '__delattr__', '__dir__', '__doc__', '__eq__', '__format__', '__ge__', '__getattribute__', '__getitem__', '__getnewargs__', '__getstate__', '__gt__', '__hash__', '__init__', '__init_subclass__', '__iter__', '__le__', '__len__', '__lt__', '__mul__', '__ne__', '__new__', '__reduce__', '__reduce_ex__', '__repr__', '__rmul__', '__setattr__', '__sizeof__', '__str__', '__subclasshook__', 'count', 'index']\n"
     ]
    }
   ],
   "source": [
    "lst=[]\n",
    "print(type(lst))\n",
    "print(dir(lst))\n",
    "lst1=tuple(lst)\n",
    "print(type(lst1))\n",
    "print(dir(lst1))"
   ]
  },
  {
   "cell_type": "code",
   "execution_count": 85,
   "id": "264b441d-a46e-4ab5-9c7e-63e3c3aa2cd6",
   "metadata": {},
   "outputs": [
    {
     "name": "stdout",
     "output_type": "stream",
     "text": [
      "(2, 0)\n"
     ]
    }
   ],
   "source": [
    "print(divmod(12,6))"
   ]
  },
  {
   "cell_type": "code",
   "execution_count": 86,
   "id": "bf618bdb-831a-4c00-a993-bc6d058cf846",
   "metadata": {},
   "outputs": [
    {
     "name": "stdout",
     "output_type": "stream",
     "text": [
      "index 0 has value 10\n",
      "index 1 has value 20\n",
      "index 2 has value 30\n",
      "index 3 has value 40\n",
      "index 4 has value 50\n"
     ]
    }
   ],
   "source": [
    "lst=[10,20,30,40,50]\n",
    "for index,num in enumerate(lst,start=0):\n",
    "    print(\"index {0} has value {1}\".format(index,num))"
   ]
  },
  {
   "cell_type": "code",
   "execution_count": 91,
   "id": "5dd24ae2-95a0-484f-8d67-846ad5ba11ba",
   "metadata": {},
   "outputs": [
    {
     "name": "stdout",
     "output_type": "stream",
     "text": [
      "None\n"
     ]
    }
   ],
   "source": [
    "def check_positive(num):\n",
    "    if num>0:\n",
    "        return num\n",
    "print(check_positive(-1))"
   ]
  },
  {
   "cell_type": "code",
   "execution_count": 95,
   "id": "c6bb9669-d409-4d88-86d5-b94eef86b33a",
   "metadata": {},
   "outputs": [
    {
     "name": "stdout",
     "output_type": "stream",
     "text": [
      "-9\n",
      "-7\n",
      "-5\n",
      "-3\n",
      "-1\n",
      "1\n",
      "3\n",
      "5\n",
      "7\n",
      "9\n"
     ]
    }
   ],
   "source": [
    "lst1_lst=range(-10,10)\n",
    "lst2_lst=list(filter(lambda n:n%2!=0 ,lst1_lst))\n",
    "for i in lst2_lst:\n",
    "    print(i)"
   ]
  },
  {
   "cell_type": "code",
   "execution_count": 97,
   "id": "694f71d7-3954-49c3-88a4-5f99631e846f",
   "metadata": {},
   "outputs": [
    {
     "name": "stdout",
     "output_type": "stream",
     "text": [
      "1\n",
      "2\n",
      "3\n",
      "4\n",
      "5\n",
      "6\n",
      "7\n",
      "8\n",
      "9\n"
     ]
    }
   ],
   "source": [
    "lst1_lst=range(-10,10)\n",
    "lst2_lst=list(filter(lambda n:n>0,lst1_lst))\n",
    "for i in lst2_lst:\n",
    "    print(i)"
   ]
  },
  {
   "cell_type": "code",
   "execution_count": 98,
   "id": "d024c0e0-6f2c-4c2b-9240-bececfe80715",
   "metadata": {},
   "outputs": [
    {
     "name": "stdout",
     "output_type": "stream",
     "text": [
      "[1, 4, 9, 16]\n",
      "[1, 8, 27, 64]\n"
     ]
    }
   ],
   "source": [
    "lst=[1,2,3,4]\n",
    "squared1=[]\n",
    "squared2=[]\n",
    "for num in lst:\n",
    "    squared1.append(num **2)\n",
    "    squared2.append(num **3)\n",
    "print(squared1)\n",
    "print(squared2)"
   ]
  },
  {
   "cell_type": "code",
   "execution_count": 101,
   "id": "a954450a-b0ab-49bb-a546-8d6d9d5673a5",
   "metadata": {},
   "outputs": [
    {
     "name": "stdout",
     "output_type": "stream",
     "text": [
      "[1, 4, 9, 16]\n"
     ]
    }
   ],
   "source": [
    "num=[1,2,3,4]\n",
    "def hall_square(num):\n",
    "    return num **2\n",
    "squared=list(map(hall_square,[1,2,3,4]))\n",
    "squared1=list(map(lambda x:x **2,[1,2,3,4))\n",
    "print(squared)"
   ]
  },
  {
   "cell_type": "code",
   "execution_count": 103,
   "id": "79df560e-ddc1-4ba9-8e79-18b299726606",
   "metadata": {},
   "outputs": [
    {
     "name": "stdout",
     "output_type": "stream",
     "text": [
      "[1, 4, 9, 16]\n"
     ]
    }
   ],
   "source": [
    "squared1=list(map(lambda x:x **2,[1,2,3,4]))\n",
    "print(squared1)"
   ]
  },
  {
   "cell_type": "code",
   "execution_count": 106,
   "id": "c9e95ecc-c0b8-4475-ad6b-2f2a8844440a",
   "metadata": {},
   "outputs": [
    {
     "name": "stdout",
     "output_type": "stream",
     "text": [
      "24\n"
     ]
    }
   ],
   "source": [
    "p=1\n",
    "lisss=[1,2,3,4]\n",
    "for num in lisss:\n",
    "    p*=num\n",
    "print(p)"
   ]
  },
  {
   "cell_type": "code",
   "execution_count": 108,
   "id": "2807bca3-10c0-4385-ac26-96fe958dd47e",
   "metadata": {},
   "outputs": [
    {
     "name": "stdout",
     "output_type": "stream",
     "text": [
      "24\n"
     ]
    }
   ],
   "source": [
    "from functools import reduce\n",
    "def multiply(x,y):\n",
    "    return x*y\n",
    "prod=reduce(multiply,lisss)\n",
    "print(prod)"
   ]
  },
  {
   "cell_type": "code",
   "execution_count": 109,
   "id": "57e48baf-ad1f-48b7-bac2-efcea9e3c8b7",
   "metadata": {},
   "outputs": [
    {
     "name": "stdout",
     "output_type": "stream",
     "text": [
      "24\n"
     ]
    }
   ],
   "source": [
    "pr=reduce(lambda x,y: x*y,lisss)\n",
    "print(pr)"
   ]
  },
  {
   "cell_type": "code",
   "execution_count": 110,
   "id": "dafa4f38-cb6e-4df5-8561-a4f99c0ed10f",
   "metadata": {},
   "outputs": [
    {
     "name": "stdout",
     "output_type": "stream",
     "text": [
      "24\n"
     ]
    }
   ],
   "source": [
    "p=reduce(lambda x,y: x*y,[1,2,3,4])\n",
    "print(p)"
   ]
  },
  {
   "cell_type": "code",
   "execution_count": 114,
   "id": "841736a5-6114-4f79-8b0b-ec43f10b6d7a",
   "metadata": {},
   "outputs": [
    {
     "ename": "TypeError",
     "evalue": "<lambda>() takes 1 positional argument but 2 were given",
     "output_type": "error",
     "traceback": [
      "\u001b[31m---------------------------------------------------------------------------\u001b[39m",
      "\u001b[31mTypeError\u001b[39m                                 Traceback (most recent call last)",
      "\u001b[36mCell\u001b[39m\u001b[36m \u001b[39m\u001b[32mIn[114]\u001b[39m\u001b[32m, line 1\u001b[39m\n\u001b[32m----> \u001b[39m\u001b[32m1\u001b[39m p=\u001b[43mreduce\u001b[49m\u001b[43m(\u001b[49m\u001b[38;5;28;43;01mlambda\u001b[39;49;00m\u001b[43m \u001b[49m\u001b[43mx\u001b[49m\u001b[43m:\u001b[49m\u001b[43m \u001b[49m\u001b[43mx\u001b[49m\u001b[43m \u001b[49m\u001b[43m*\u001b[49m\u001b[43m*\u001b[49m\u001b[32;43m2\u001b[39;49m\u001b[43m,\u001b[49m\u001b[43m \u001b[49m\u001b[43m[\u001b[49m\u001b[32;43m1\u001b[39;49m\u001b[43m,\u001b[49m\u001b[32;43m2\u001b[39;49m\u001b[43m,\u001b[49m\u001b[32;43m3\u001b[39;49m\u001b[43m,\u001b[49m\u001b[32;43m4\u001b[39;49m\u001b[43m]\u001b[49m\u001b[43m)\u001b[49m\n\u001b[32m      2\u001b[39m \u001b[38;5;28mprint\u001b[39m(p)\n",
      "\u001b[31mTypeError\u001b[39m: <lambda>() takes 1 positional argument but 2 were given"
     ]
    }
   ],
   "source": [
    "p=reduce(lambda x: x **2, [1,2,3,4])\n",
    "print(p)"
   ]
  },
  {
   "cell_type": "code",
   "execution_count": null,
   "id": "a31020ea-4ef0-4233-bb86-5ca4eeb8eabf",
   "metadata": {},
   "outputs": [],
   "source": [
    "def add(x,y):\n",
    "    return x+y\n",
    "def sub(x,y):\n",
    "    return x-y\n",
    "def mul(x,y):\n",
    "    return x*y\n",
    "def div(x,y):\n",
    "    return x/y\n",
    "print(\"select the operations\")\n",
    "print(\"1.addition\")\n",
    "print(\"2.subtraction\")\n",
    "print(\"3.multiplication\")\n",
    "print(\"4.division\")\n",
    "while True:\n",
    "    choice=input(\"enter the choices from 1/2/3/4\")\n",
    "    if choice in ('1','2','3','4'):\n",
    "        try:\n",
    "            num1=float(input(\"enter the num1:\"))\n",
    "            num2=float(input(\"enter the num2:\"))\n",
    "        except ValueError:\n",
    "            print(\"invalid input\")\n",
    "            continue\n",
    "        if choice=='1':\n",
    "            print(num1, \"+\", num2 ,\"=\" ,add(num1,num2))\n",
    "        elif choice=='2':\n",
    "            print(num1, \"-\",num2,\"=\",sub(num1,num2))\n",
    "        elif choice=='3':\n",
    "            print(num1,\"*\",num2,\"=\",mul(num1,num2))\n",
    "        elif choice=='4':\n",
    "            print(num1,\"/\",num2,\"=\",div(num1,num2))\n",
    "        "
   ]
  },
  {
   "cell_type": "code",
   "execution_count": null,
   "id": "2b6d419a-ff7c-4492-bb7b-3d4c6edb3a18",
   "metadata": {},
   "outputs": [],
   "source": []
  },
  {
   "cell_type": "code",
   "execution_count": null,
   "id": "94c50d45-a0f8-4b16-b473-a15e96825a0c",
   "metadata": {},
   "outputs": [],
   "source": []
  }
 ],
 "metadata": {
  "kernelspec": {
   "display_name": "Python 3 (ipykernel)",
   "language": "python",
   "name": "python3"
  },
  "language_info": {
   "codemirror_mode": {
    "name": "ipython",
    "version": 3
   },
   "file_extension": ".py",
   "mimetype": "text/x-python",
   "name": "python",
   "nbconvert_exporter": "python",
   "pygments_lexer": "ipython3",
   "version": "3.11.0"
  }
 },
 "nbformat": 4,
 "nbformat_minor": 5
}
