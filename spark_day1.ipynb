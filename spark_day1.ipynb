{
  "nbformat": 4,
  "nbformat_minor": 0,
  "metadata": {
    "colab": {
      "provenance": [],
      "authorship_tag": "ABX9TyOO+l+vnHQUjaYhuizcsfuB",
      "include_colab_link": true
    },
    "kernelspec": {
      "name": "python3",
      "display_name": "Python 3"
    },
    "language_info": {
      "name": "python"
    }
  },
  "cells": [
    {
      "cell_type": "markdown",
      "metadata": {
        "id": "view-in-github",
        "colab_type": "text"
      },
      "source": [
        "<a href=\"https://colab.research.google.com/github/Azeyayahiya/My_doc/blob/main/spark_day1.ipynb\" target=\"_parent\"><img src=\"https://colab.research.google.com/assets/colab-badge.svg\" alt=\"Open In Colab\"/></a>"
      ]
    },
    {
      "cell_type": "code",
      "source": [
        "from pyspark import SparkContext\n",
        "sc=SparkContext()"
      ],
      "metadata": {
        "id": "N-6w3lEuUVHH"
      },
      "execution_count": null,
      "outputs": []
    },
    {
      "cell_type": "code",
      "source": [
        "rdd=sc.parallelize([1,2,3,4,5])"
      ],
      "metadata": {
        "id": "fYJDYIUYR4EL"
      },
      "execution_count": null,
      "outputs": []
    },
    {
      "cell_type": "code",
      "source": [
        "rdd.collect()"
      ],
      "metadata": {
        "colab": {
          "base_uri": "https://localhost:8080/"
        },
        "id": "DU9Pr2CfU1j2",
        "outputId": "6418d5c3-a03a-4b07-fce8-323df5646894"
      },
      "execution_count": null,
      "outputs": [
        {
          "output_type": "execute_result",
          "data": {
            "text/plain": [
              "[1, 2, 3, 4, 5]"
            ]
          },
          "metadata": {},
          "execution_count": 3
        }
      ]
    },
    {
      "cell_type": "code",
      "source": [
        "rdd.count()"
      ],
      "metadata": {
        "colab": {
          "base_uri": "https://localhost:8080/"
        },
        "id": "D9pyjDTpU3Qk",
        "outputId": "8dc317ad-ccb6-4131-9622-b5e26b4b8e26"
      },
      "execution_count": null,
      "outputs": [
        {
          "output_type": "execute_result",
          "data": {
            "text/plain": [
              "5"
            ]
          },
          "metadata": {},
          "execution_count": 4
        }
      ]
    },
    {
      "cell_type": "code",
      "source": [
        "rdd.first()"
      ],
      "metadata": {
        "colab": {
          "base_uri": "https://localhost:8080/"
        },
        "id": "Z2NDq27-U49J",
        "outputId": "f8f63347-b785-47b1-be92-c1915e013dd4"
      },
      "execution_count": null,
      "outputs": [
        {
          "output_type": "execute_result",
          "data": {
            "text/plain": [
              "1"
            ]
          },
          "metadata": {},
          "execution_count": 5
        }
      ]
    },
    {
      "cell_type": "code",
      "source": [
        "rdd.take(3)"
      ],
      "metadata": {
        "colab": {
          "base_uri": "https://localhost:8080/"
        },
        "id": "43wSIfNiU7xc",
        "outputId": "658110aa-0eb1-4d54-f5c5-e45b2d339875"
      },
      "execution_count": null,
      "outputs": [
        {
          "output_type": "execute_result",
          "data": {
            "text/plain": [
              "[1, 2, 3]"
            ]
          },
          "metadata": {},
          "execution_count": 6
        }
      ]
    },
    {
      "cell_type": "code",
      "source": [
        "rdd.map(lambda x:x*2).collect()"
      ],
      "metadata": {
        "colab": {
          "base_uri": "https://localhost:8080/"
        },
        "id": "IRhZWjXzU9pp",
        "outputId": "ef0a2f74-2537-44ab-9682-b7dd2a4f74b6"
      },
      "execution_count": null,
      "outputs": [
        {
          "output_type": "execute_result",
          "data": {
            "text/plain": [
              "[2, 4, 6, 8, 10]"
            ]
          },
          "metadata": {},
          "execution_count": 7
        }
      ]
    },
    {
      "cell_type": "code",
      "source": [
        "rdd.filter(lambda x:x%2==0).collect()"
      ],
      "metadata": {
        "colab": {
          "base_uri": "https://localhost:8080/"
        },
        "id": "zbIdu3tYVHXy",
        "outputId": "14e3d50e-6c68-446f-88e8-7650a97d770f"
      },
      "execution_count": null,
      "outputs": [
        {
          "output_type": "execute_result",
          "data": {
            "text/plain": [
              "[2, 4]"
            ]
          },
          "metadata": {},
          "execution_count": 8
        }
      ]
    },
    {
      "cell_type": "code",
      "source": [
        "sc.parallelize([\"hello world\"]).flatMap(lambda x:x.split(\" \")).collect()"
      ],
      "metadata": {
        "colab": {
          "base_uri": "https://localhost:8080/"
        },
        "id": "w7d-fru5VPBs",
        "outputId": "5d6db43b-eac4-489d-d985-d982a3a4af04"
      },
      "execution_count": null,
      "outputs": [
        {
          "output_type": "execute_result",
          "data": {
            "text/plain": [
              "['hello', 'world']"
            ]
          },
          "metadata": {},
          "execution_count": 9
        }
      ]
    },
    {
      "cell_type": "code",
      "source": [
        "rdd.reduce(lambda x,y:x+y)"
      ],
      "metadata": {
        "id": "1rSwefPsVcHb",
        "colab": {
          "base_uri": "https://localhost:8080/"
        },
        "outputId": "d7355311-1a4d-4ae0-9049-0142820ce667"
      },
      "execution_count": null,
      "outputs": [
        {
          "output_type": "execute_result",
          "data": {
            "text/plain": [
              "15"
            ]
          },
          "metadata": {},
          "execution_count": 10
        }
      ]
    },
    {
      "cell_type": "code",
      "source": [
        "rdd.distinct().collect()"
      ],
      "metadata": {
        "colab": {
          "base_uri": "https://localhost:8080/"
        },
        "id": "4t3iP70GHCx-",
        "outputId": "5dd19af3-2362-40a0-f3f1-b25fd5be1fd7"
      },
      "execution_count": null,
      "outputs": [
        {
          "output_type": "execute_result",
          "data": {
            "text/plain": [
              "[2, 4, 1, 3, 5]"
            ]
          },
          "metadata": {},
          "execution_count": 11
        }
      ]
    },
    {
      "cell_type": "code",
      "source": [
        "rdd.sortBy(lambda x:-x).collect()"
      ],
      "metadata": {
        "colab": {
          "base_uri": "https://localhost:8080/"
        },
        "id": "hFAnyeVjHVJT",
        "outputId": "feaa1def-417b-4223-8399-7e1e2fcff0f8"
      },
      "execution_count": null,
      "outputs": [
        {
          "output_type": "execute_result",
          "data": {
            "text/plain": [
              "[5, 4, 3, 2, 1]"
            ]
          },
          "metadata": {},
          "execution_count": 12
        }
      ]
    },
    {
      "cell_type": "code",
      "source": [
        "rdd1=sc.parallelize([11,2,3,41,51])"
      ],
      "metadata": {
        "id": "sR7DDzrgHIXK"
      },
      "execution_count": null,
      "outputs": []
    },
    {
      "cell_type": "markdown",
      "source": [],
      "metadata": {
        "id": "3oguNyjUKIAk"
      }
    },
    {
      "cell_type": "code",
      "source": [
        "rdd.union(rdd1).collect()"
      ],
      "metadata": {
        "colab": {
          "base_uri": "https://localhost:8080/"
        },
        "id": "OBEcrajsHq-7",
        "outputId": "884eb801-0689-4f40-8dd9-a033baca617c"
      },
      "execution_count": null,
      "outputs": [
        {
          "output_type": "execute_result",
          "data": {
            "text/plain": [
              "[1, 2, 3, 4, 5, 11, 2, 3, 41, 51]"
            ]
          },
          "metadata": {},
          "execution_count": 15
        }
      ]
    },
    {
      "cell_type": "markdown",
      "source": [
        "intersection"
      ],
      "metadata": {
        "id": "CscLriZ2KGOH"
      }
    },
    {
      "cell_type": "code",
      "source": [
        "rdd.intersection(rdd1).collect()"
      ],
      "metadata": {
        "colab": {
          "base_uri": "https://localhost:8080/"
        },
        "id": "HW0oNmcJHwBG",
        "outputId": "d55f6817-170b-4dd6-b699-4fb7b4695262"
      },
      "execution_count": null,
      "outputs": [
        {
          "output_type": "execute_result",
          "data": {
            "text/plain": [
              "[2, 3]"
            ]
          },
          "metadata": {},
          "execution_count": 16
        }
      ]
    },
    {
      "cell_type": "markdown",
      "source": [
        "subtract"
      ],
      "metadata": {
        "id": "hgM8PcKPKEeQ"
      }
    },
    {
      "cell_type": "code",
      "source": [
        "rdd.subtract(rdd1).collect()"
      ],
      "metadata": {
        "colab": {
          "base_uri": "https://localhost:8080/"
        },
        "id": "E_zxNdL-H6Ql",
        "outputId": "b5bcf0c7-55e8-49f5-a2d7-568a45c4fcaf"
      },
      "execution_count": null,
      "outputs": [
        {
          "output_type": "execute_result",
          "data": {
            "text/plain": [
              "[4, 1, 5]"
            ]
          },
          "metadata": {},
          "execution_count": 17
        }
      ]
    },
    {
      "cell_type": "markdown",
      "source": [
        "cartesian product"
      ],
      "metadata": {
        "id": "qVDdksvRKCDA"
      }
    },
    {
      "cell_type": "code",
      "source": [
        "rdd.cartesian(rdd1).collect()"
      ],
      "metadata": {
        "colab": {
          "base_uri": "https://localhost:8080/"
        },
        "id": "2aVCo5m7ICJS",
        "outputId": "516a2e44-b623-442f-a98f-d40ceff68ff8"
      },
      "execution_count": null,
      "outputs": [
        {
          "output_type": "execute_result",
          "data": {
            "text/plain": [
              "[(1, 11),\n",
              " (1, 2),\n",
              " (2, 11),\n",
              " (2, 2),\n",
              " (1, 3),\n",
              " (1, 41),\n",
              " (2, 3),\n",
              " (2, 41),\n",
              " (1, 51),\n",
              " (2, 51),\n",
              " (3, 11),\n",
              " (3, 2),\n",
              " (4, 11),\n",
              " (4, 2),\n",
              " (5, 11),\n",
              " (5, 2),\n",
              " (3, 3),\n",
              " (3, 41),\n",
              " (4, 3),\n",
              " (4, 41),\n",
              " (3, 51),\n",
              " (4, 51),\n",
              " (5, 3),\n",
              " (5, 41),\n",
              " (5, 51)]"
            ]
          },
          "metadata": {},
          "execution_count": 18
        }
      ]
    },
    {
      "cell_type": "markdown",
      "source": [
        "key value pair rdd\n"
      ],
      "metadata": {
        "id": "ov4CQsnRJ-xB"
      }
    },
    {
      "cell_type": "code",
      "source": [
        "pair_rdd=sc.parallelize([(\"a\",1),(\"b\",2),(\"a\",3)])"
      ],
      "metadata": {
        "id": "uxWMeILBIHjT"
      },
      "execution_count": null,
      "outputs": []
    },
    {
      "cell_type": "code",
      "source": [
        "pair_rdd.collect()"
      ],
      "metadata": {
        "colab": {
          "base_uri": "https://localhost:8080/"
        },
        "id": "4hH0xUQRIf4U",
        "outputId": "95ed60fb-6c5c-4bad-e26d-5aa35799f893"
      },
      "execution_count": null,
      "outputs": [
        {
          "output_type": "execute_result",
          "data": {
            "text/plain": [
              "[('a', 1), ('b', 2), ('a', 3)]"
            ]
          },
          "metadata": {},
          "execution_count": 20
        }
      ]
    },
    {
      "cell_type": "markdown",
      "source": [
        "groupby key"
      ],
      "metadata": {
        "id": "1Wc1XJOgJ7jb"
      }
    },
    {
      "cell_type": "code",
      "source": [
        "pair_rdd.groupByKey().mapValues(list).collect()"
      ],
      "metadata": {
        "colab": {
          "base_uri": "https://localhost:8080/"
        },
        "id": "o20HWZe3IoBa",
        "outputId": "598e8d14-b534-4c95-bd82-3a79304f3e67"
      },
      "execution_count": null,
      "outputs": [
        {
          "output_type": "execute_result",
          "data": {
            "text/plain": [
              "[('b', [2]), ('a', [1, 3])]"
            ]
          },
          "metadata": {},
          "execution_count": 21
        }
      ]
    },
    {
      "cell_type": "markdown",
      "source": [
        "reduceby key"
      ],
      "metadata": {
        "id": "Rgd4iw7TJ5Xz"
      }
    },
    {
      "cell_type": "code",
      "source": [
        "pair_rdd.reduceByKey(lambda x,y: x+y).collect()"
      ],
      "metadata": {
        "colab": {
          "base_uri": "https://localhost:8080/"
        },
        "id": "wv4yHqvKIzij",
        "outputId": "abecb07e-28e1-45a3-bc28-c410c1663b70"
      },
      "execution_count": null,
      "outputs": [
        {
          "output_type": "execute_result",
          "data": {
            "text/plain": [
              "[('b', 2), ('a', 4)]"
            ]
          },
          "metadata": {},
          "execution_count": 22
        }
      ]
    },
    {
      "cell_type": "markdown",
      "source": [
        "countby value\n"
      ],
      "metadata": {
        "id": "ecN9o1x1JzOg"
      }
    },
    {
      "cell_type": "code",
      "source": [
        "rdd1.countByValue()"
      ],
      "metadata": {
        "colab": {
          "base_uri": "https://localhost:8080/"
        },
        "id": "Pow5rqbOJTp8",
        "outputId": "9f0f3d37-338d-4089-e054-d720548b094e"
      },
      "execution_count": null,
      "outputs": [
        {
          "output_type": "execute_result",
          "data": {
            "text/plain": [
              "defaultdict(int, {11: 1, 2: 1, 3: 1, 41: 1, 51: 1})"
            ]
          },
          "metadata": {},
          "execution_count": 23
        }
      ]
    },
    {
      "cell_type": "code",
      "source": [
        "pair_rdd1=sc.parallelize([(1,2),(1,3),(2,3),(2,4),(3,2),(4,3),(5,9),(5,8),(5,5)])\n",
        "pair_rdd1.collect()"
      ],
      "metadata": {
        "colab": {
          "base_uri": "https://localhost:8080/"
        },
        "id": "aGEb4nz7JtpJ",
        "outputId": "c82ddedd-2bda-4c7a-ab7a-2705aacdfc1c"
      },
      "execution_count": null,
      "outputs": [
        {
          "output_type": "execute_result",
          "data": {
            "text/plain": [
              "[(1, 2), (1, 3), (2, 3), (2, 4), (3, 2), (4, 3), (5, 9), (5, 8), (5, 5)]"
            ]
          },
          "metadata": {},
          "execution_count": 28
        }
      ]
    },
    {
      "cell_type": "code",
      "source": [
        "pair_rdd1.groupByKey().mapValues(list).collect()"
      ],
      "metadata": {
        "colab": {
          "base_uri": "https://localhost:8080/"
        },
        "id": "V4BeVN91M9z-",
        "outputId": "287f5cfc-b33c-4150-d817-e7fa542fe023"
      },
      "execution_count": null,
      "outputs": [
        {
          "output_type": "execute_result",
          "data": {
            "text/plain": [
              "[(2, [3, 4]), (4, [3]), (1, [2, 3]), (3, [2]), (5, [9, 8, 5])]"
            ]
          },
          "metadata": {},
          "execution_count": 29
        }
      ]
    },
    {
      "cell_type": "code",
      "source": [
        "pair_rdd1.countByValue()"
      ],
      "metadata": {
        "colab": {
          "base_uri": "https://localhost:8080/"
        },
        "id": "JQmvYDCGNOfU",
        "outputId": "2a06febd-116f-4bf4-bba7-fd4b057be91b"
      },
      "execution_count": null,
      "outputs": [
        {
          "output_type": "execute_result",
          "data": {
            "text/plain": [
              "defaultdict(int,\n",
              "            {(1, 2): 1,\n",
              "             (1, 3): 1,\n",
              "             (2, 3): 1,\n",
              "             (2, 4): 1,\n",
              "             (3, 2): 1,\n",
              "             (4, 3): 1,\n",
              "             (5, 9): 1,\n",
              "             (5, 8): 1,\n",
              "             (5, 5): 1})"
            ]
          },
          "metadata": {},
          "execution_count": 30
        }
      ]
    },
    {
      "cell_type": "code",
      "source": [
        "pair_rdd1.reduceByKey(lambda x,y: x+y).collect()"
      ],
      "metadata": {
        "colab": {
          "base_uri": "https://localhost:8080/"
        },
        "id": "WVzWQdjUNW3W",
        "outputId": "0eac5ed1-621e-4cad-e93c-7a4b1e5fb41b"
      },
      "execution_count": null,
      "outputs": [
        {
          "output_type": "execute_result",
          "data": {
            "text/plain": [
              "[(2, 7), (4, 3), (1, 5), (3, 2), (5, 22)]"
            ]
          },
          "metadata": {},
          "execution_count": 27
        }
      ]
    },
    {
      "cell_type": "code",
      "source": [
        "rd=sc.textFile(\"/content/evm.txt\")"
      ],
      "metadata": {
        "id": "ZDx5ROXENi_T"
      },
      "execution_count": null,
      "outputs": []
    },
    {
      "cell_type": "code",
      "source": [
        "word_kv_rdd = rd.flatMap(lambda line: line.split(\" \"))\n",
        "\n",
        "\n"
      ],
      "metadata": {
        "id": "ksrorSIjSOUI"
      },
      "execution_count": null,
      "outputs": []
    },
    {
      "cell_type": "code",
      "source": [
        "word_kv_rdd.collect()"
      ],
      "metadata": {
        "colab": {
          "base_uri": "https://localhost:8080/"
        },
        "id": "8n3gQvtJV-Od",
        "outputId": "0d5bcc4c-10e3-4459-afee-5ef029617435"
      },
      "execution_count": null,
      "outputs": [
        {
          "output_type": "execute_result",
          "data": {
            "text/plain": [
              "['bjp',\n",
              " 'cng',\n",
              " 'ldf',\n",
              " 'pnb',\n",
              " 'klm',\n",
              " 'thj',\n",
              " 'hhh',\n",
              " 'rrr',\n",
              " 'bjp',\n",
              " 'cng',\n",
              " 'ldf',\n",
              " 'pnb',\n",
              " 'ghj',\n",
              " 'rrr',\n",
              " 'thh',\n",
              " 'iii',\n",
              " 'bjp',\n",
              " 'cng',\n",
              " 'ldf',\n",
              " 'pnb',\n",
              " 'hkk',\n",
              " 'ooo',\n",
              " 'hhh',\n",
              " 'sss',\n",
              " 'sxh',\n",
              " 'gsi',\n",
              " 'bjp',\n",
              " 'cng',\n",
              " 'ldf',\n",
              " 'pnb',\n",
              " 'hhh',\n",
              " 'ddd',\n",
              " 'bjp',\n",
              " 'cng',\n",
              " 'ldf',\n",
              " 'pnb',\n",
              " 'bjp',\n",
              " 'cng',\n",
              " 'ldf',\n",
              " 'pnb',\n",
              " 'bjp',\n",
              " 'cng',\n",
              " 'ldf',\n",
              " 'pnb',\n",
              " 'bjp',\n",
              " 'cng',\n",
              " 'ldf',\n",
              " 'pnb',\n",
              " 'bjp',\n",
              " 'cng',\n",
              " 'ldf',\n",
              " 'pnb',\n",
              " 'bjp',\n",
              " 'cng',\n",
              " 'ldf',\n",
              " 'pnb',\n",
              " 'bjp',\n",
              " 'cng',\n",
              " 'ldf',\n",
              " 'pnb',\n",
              " 'bjp',\n",
              " 'cng',\n",
              " 'ldf',\n",
              " 'pnb']"
            ]
          },
          "metadata": {},
          "execution_count": 43
        }
      ]
    },
    {
      "cell_type": "code",
      "source": [
        " word_count=word_kv_rdd.map(lambda word: (word, 1))\n"
      ],
      "metadata": {
        "id": "FVs35dQ8Utsq"
      },
      "execution_count": null,
      "outputs": []
    },
    {
      "cell_type": "code",
      "source": [
        "word_count.collect()"
      ],
      "metadata": {
        "colab": {
          "base_uri": "https://localhost:8080/"
        },
        "id": "7nHzkKsjVpkO",
        "outputId": "9b31509e-9fa4-4a45-954f-c75f1a68b53b"
      },
      "execution_count": null,
      "outputs": [
        {
          "output_type": "execute_result",
          "data": {
            "text/plain": [
              "[('bjp', 1),\n",
              " ('cng', 1),\n",
              " ('ldf', 1),\n",
              " ('pnb', 1),\n",
              " ('klm', 1),\n",
              " ('thj', 1),\n",
              " ('hhh', 1),\n",
              " ('rrr', 1),\n",
              " ('bjp', 1),\n",
              " ('cng', 1),\n",
              " ('ldf', 1),\n",
              " ('pnb', 1),\n",
              " ('ghj', 1),\n",
              " ('rrr', 1),\n",
              " ('thh', 1),\n",
              " ('iii', 1),\n",
              " ('bjp', 1),\n",
              " ('cng', 1),\n",
              " ('ldf', 1),\n",
              " ('pnb', 1),\n",
              " ('hkk', 1),\n",
              " ('ooo', 1),\n",
              " ('hhh', 1),\n",
              " ('sss', 1),\n",
              " ('sxh', 1),\n",
              " ('gsi', 1),\n",
              " ('bjp', 1),\n",
              " ('cng', 1),\n",
              " ('ldf', 1),\n",
              " ('pnb', 1),\n",
              " ('hhh', 1),\n",
              " ('ddd', 1),\n",
              " ('bjp', 1),\n",
              " ('cng', 1),\n",
              " ('ldf', 1),\n",
              " ('pnb', 1),\n",
              " ('bjp', 1),\n",
              " ('cng', 1),\n",
              " ('ldf', 1),\n",
              " ('pnb', 1),\n",
              " ('bjp', 1),\n",
              " ('cng', 1),\n",
              " ('ldf', 1),\n",
              " ('pnb', 1),\n",
              " ('bjp', 1),\n",
              " ('cng', 1),\n",
              " ('ldf', 1),\n",
              " ('pnb', 1),\n",
              " ('bjp', 1),\n",
              " ('cng', 1),\n",
              " ('ldf', 1),\n",
              " ('pnb', 1),\n",
              " ('bjp', 1),\n",
              " ('cng', 1),\n",
              " ('ldf', 1),\n",
              " ('pnb', 1),\n",
              " ('bjp', 1),\n",
              " ('cng', 1),\n",
              " ('ldf', 1),\n",
              " ('pnb', 1),\n",
              " ('bjp', 1),\n",
              " ('cng', 1),\n",
              " ('ldf', 1),\n",
              " ('pnb', 1)]"
            ]
          },
          "metadata": {},
          "execution_count": 45
        }
      ]
    },
    {
      "cell_type": "code",
      "source": [
        "word_count_rdd = word_count.reduceByKey(lambda a,b:a+b)"
      ],
      "metadata": {
        "id": "OqlpKFYhUDPu"
      },
      "execution_count": null,
      "outputs": []
    },
    {
      "cell_type": "code",
      "source": [
        "word_count_rdd.collect()"
      ],
      "metadata": {
        "colab": {
          "base_uri": "https://localhost:8080/"
        },
        "id": "0kwkdij3VnUy",
        "outputId": "76be329b-e2e4-48df-db5b-c084d842d40e"
      },
      "execution_count": null,
      "outputs": [
        {
          "output_type": "execute_result",
          "data": {
            "text/plain": [
              "[('cng', 12),\n",
              " ('rrr', 2),\n",
              " ('ghj', 1),\n",
              " ('thh', 1),\n",
              " ('iii', 1),\n",
              " ('ooo', 1),\n",
              " ('sss', 1),\n",
              " ('gsi', 1),\n",
              " ('ddd', 1),\n",
              " ('bjp', 12),\n",
              " ('ldf', 12),\n",
              " ('pnb', 12),\n",
              " ('klm', 1),\n",
              " ('thj', 1),\n",
              " ('hhh', 3),\n",
              " ('hkk', 1),\n",
              " ('sxh', 1)]"
            ]
          },
          "metadata": {},
          "execution_count": 47
        }
      ]
    },
    {
      "cell_type": "code",
      "source": [],
      "metadata": {
        "id": "WFF859BwWfE1"
      },
      "execution_count": null,
      "outputs": []
    }
  ]
}